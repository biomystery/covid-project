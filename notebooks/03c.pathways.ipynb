{
 "cells": [
  {
   "cell_type": "code",
   "execution_count": 1,
   "id": "dietary-funds",
   "metadata": {},
   "outputs": [
    {
     "data": {
      "text/plain": [
       "['GO_Biological_Process_2018', 'KEGG_2019_Mouse']"
      ]
     },
     "execution_count": 1,
     "metadata": {},
     "output_type": "execute_result"
    }
   ],
   "source": [
    "import sys, os\n",
    "import pandas as pd\n",
    "%matplotlib inline\n",
    "\n",
    "import numpy as np\n",
    "\n",
    "import datetime\n",
    "\n",
    "DATE = lambda: datetime.datetime.now().strftime(\"[%m/%d/%Y %H:%M:%S]\")\n",
    "\n",
    "import gseapy\n",
    "gseapy.get_library_name()\n",
    "gs_list = [\n",
    "    'COVID-19_Related_Gene_Sets', 'MSigDB_Hallmark_2020',\n",
    "    'GO_Biological_Process_2018', 'KEGG_2019_Mouse'\n",
    "]\n",
    "gs_list[2:4]"
   ]
  },
  {
   "cell_type": "markdown",
   "id": "korean-navigator",
   "metadata": {},
   "source": [
    "# load bootstrap's results"
   ]
  },
  {
   "cell_type": "code",
   "execution_count": 101,
   "id": "treated-crack",
   "metadata": {},
   "outputs": [],
   "source": [
    "df_feature_genes.sort_values('avg_weight').to_csv('bootstrap_features.csv')\n",
    "df_feature_genes[df_feature_genes.counts >= 90].sort_values(\n",
    "    'avg_weight').to_csv('bootstrap_features_selected.csv')"
   ]
  },
  {
   "cell_type": "code",
   "execution_count": 2,
   "id": "romance-expression",
   "metadata": {},
   "outputs": [
    {
     "data": {
      "text/plain": [
       "100"
      ]
     },
     "execution_count": 2,
     "metadata": {},
     "output_type": "execute_result"
    }
   ],
   "source": [
    "import pickle\n",
    "bootstrap_result_dict = pickle.load(open('bootstrap_result_dict.p', 'rb'))\n",
    "features_list=bootstrap_result_dict['features_list']\n",
    "del bootstrap_result_dict\n",
    "len(features_list)"
   ]
  },
  {
   "cell_type": "markdown",
   "id": "beautiful-search",
   "metadata": {},
   "source": [
    "# genes with Negative weight"
   ]
  },
  {
   "cell_type": "code",
   "execution_count": 4,
   "id": "distinct-improvement",
   "metadata": {},
   "outputs": [],
   "source": [
    "go_res_dict={}"
   ]
  },
  {
   "cell_type": "code",
   "execution_count": 3,
   "id": "coordinated-neighborhood",
   "metadata": {
    "scrolled": false
   },
   "outputs": [
    {
     "name": "stdout",
     "output_type": "stream",
     "text": [
      "[06/03/2021 23:56:38] running enrichr on negative set 0\n",
      "[06/03/2021 23:57:10] running enrichr on negative set 5\n",
      "[06/03/2021 23:57:45] running enrichr on negative set 10\n",
      "[06/03/2021 23:58:11] running enrichr on negative set 15\n",
      "[06/03/2021 23:58:48] running enrichr on negative set 20\n",
      "[06/03/2021 23:59:36] running enrichr on negative set 25\n",
      "[06/04/2021 00:00:11] running enrichr on negative set 30\n",
      "[06/04/2021 00:00:40] running enrichr on negative set 35\n",
      "[06/04/2021 00:01:14] running enrichr on negative set 40\n",
      "[06/04/2021 00:01:53] running enrichr on negative set 45\n",
      "[06/04/2021 00:02:16] running enrichr on negative set 50\n",
      "[06/04/2021 00:02:39] running enrichr on negative set 55\n",
      "[06/04/2021 00:03:15] running enrichr on negative set 60\n",
      "[06/04/2021 00:03:42] running enrichr on negative set 65\n",
      "[06/04/2021 00:04:24] running enrichr on negative set 70\n",
      "[06/04/2021 00:04:51] running enrichr on negative set 75\n",
      "[06/04/2021 00:05:19] running enrichr on negative set 80\n",
      "[06/04/2021 00:05:42] running enrichr on negative set 85\n",
      "[06/04/2021 00:06:06] running enrichr on negative set 90\n",
      "[06/04/2021 00:06:31] running enrichr on negative set 95\n",
      "CPU times: user 9.74 s, sys: 1.3 s, total: 11 s\n",
      "Wall time: 10min 17s\n"
     ]
    }
   ],
   "source": [
    "%%time\n",
    "gs_res_dict = {}\n",
    "for i in range(100):\n",
    "    if (i % 5 == 0): print(DATE(), f'running enrichr on negative set {i}')\n",
    "    gs_res = gseapy.enrichr(\n",
    "        gene_list=features_list[i].gene[features_list[i].coef < 0].to_list(),\n",
    "        description=gs_list[2],\n",
    "        outdir='down',\n",
    "        no_plot=True,\n",
    "        gene_sets=gs_list[2])\n",
    "    gs_res_dict[i] = gs_res.res2d[gs_res.res2d['Adjusted P-value'] < 0.01]"
   ]
  },
  {
   "cell_type": "code",
   "execution_count": 5,
   "id": "matched-original",
   "metadata": {},
   "outputs": [],
   "source": [
    "go_res_dict['negative_set']=gs_res_dict"
   ]
  },
  {
   "cell_type": "code",
   "execution_count": 20,
   "id": "recreational-kinase",
   "metadata": {},
   "outputs": [
    {
     "name": "stderr",
     "output_type": "stream",
     "text": [
      "/Users/fcheng/opt/miniconda3/lib/python3.8/site-packages/pandas/core/frame.py:3188: SettingWithCopyWarning: \n",
      "A value is trying to be set on a copy of a slice from a DataFrame.\n",
      "Try using .loc[row_indexer,col_indexer] = value instead\n",
      "\n",
      "See the caveats in the documentation: https://pandas.pydata.org/pandas-docs/stable/user_guide/indexing.html#returning-a-view-versus-a-copy\n",
      "  self[k1] = value[k2]\n"
     ]
    }
   ],
   "source": [
    "for i in range(100):\n",
    "    if len(gs_res_dict[i])>0:\n",
    "        gs_res_dict[i][['#hit','#total']]=gs_res_dict[i].Overlap.str.split('/',expand=True).astype(int)\n"
   ]
  },
  {
   "cell_type": "code",
   "execution_count": 69,
   "id": "protective-methodology",
   "metadata": {},
   "outputs": [],
   "source": [
    "gs_res_dict= go_res_dict['negative_set']"
   ]
  },
  {
   "cell_type": "code",
   "execution_count": 70,
   "id": "later-findings",
   "metadata": {},
   "outputs": [
    {
     "name": "stdout",
     "output_type": "stream",
     "text": [
      "CPU times: user 314 ms, sys: 6.89 ms, total: 321 ms\n",
      "Wall time: 320 ms\n"
     ]
    }
   ],
   "source": [
    "%%time\n",
    "\n",
    "# store weights vector to dict\n",
    "pathway_padj_dict = {\n",
    "    p: [0 for i in range(100)]\n",
    "    for p in list(set().union(*[\n",
    "        v[v['#total'] < 100].Term.to_list() for v in gs_res_dict.values()\n",
    "        if len(v) > 0\n",
    "    ]))\n",
    "}\n",
    "\n",
    "for i in range(100):\n",
    "    if len(gs_res_dict[i]) > 0:\n",
    "        for _, row in gs_res_dict[i].iterrows():\n",
    "            if row['#total'] < 100:\n",
    "                pathway_padj_dict[row['Term']][i] = -np.log10(\n",
    "                    row['Adjusted P-value'])"
   ]
  },
  {
   "cell_type": "code",
   "execution_count": 32,
   "id": "naval-heavy",
   "metadata": {},
   "outputs": [],
   "source": [
    "df_pathway_results = pd.DataFrame({\n",
    "    'pathway': [p for p in pathway_padj_dict.keys()],\n",
    "    'counts': [np.sum(np.array(v) != 0) for v in pathway_padj_dict.values()],\n",
    "    'avg_logPadj':\n",
    "    [np.sum(np.array(v)) / 100 for v in pathway_padj_dict.values()],\n",
    "    'std_logPadj': [np.std(np.array(v)) for v in pathway_padj_dict.values()],\n",
    "}).set_index('pathway').sort_values('avg_logPadj', ascending=False)"
   ]
  },
  {
   "cell_type": "code",
   "execution_count": 39,
   "id": "blank-chamber",
   "metadata": {
    "scrolled": false
   },
   "outputs": [
    {
     "data": {
      "text/html": [
       "<div>\n",
       "<style scoped>\n",
       "    .dataframe tbody tr th:only-of-type {\n",
       "        vertical-align: middle;\n",
       "    }\n",
       "\n",
       "    .dataframe tbody tr th {\n",
       "        vertical-align: top;\n",
       "    }\n",
       "\n",
       "    .dataframe thead th {\n",
       "        text-align: right;\n",
       "    }\n",
       "</style>\n",
       "<table border=\"1\" class=\"dataframe\">\n",
       "  <thead>\n",
       "    <tr style=\"text-align: right;\">\n",
       "      <th></th>\n",
       "      <th>counts</th>\n",
       "      <th>avg_logPadj</th>\n",
       "      <th>std_logPadj</th>\n",
       "      <th>weight</th>\n",
       "    </tr>\n",
       "    <tr>\n",
       "      <th>pathway</th>\n",
       "      <th></th>\n",
       "      <th></th>\n",
       "      <th></th>\n",
       "      <th></th>\n",
       "    </tr>\n",
       "  </thead>\n",
       "  <tbody>\n",
       "    <tr>\n",
       "      <th>cellular response to type I interferon (GO:0071357)</th>\n",
       "      <td>71</td>\n",
       "      <td>6.783270</td>\n",
       "      <td>5.088417</td>\n",
       "      <td>negative</td>\n",
       "    </tr>\n",
       "    <tr>\n",
       "      <th>type I interferon signaling pathway (GO:0060337)</th>\n",
       "      <td>71</td>\n",
       "      <td>6.783270</td>\n",
       "      <td>5.088417</td>\n",
       "      <td>negative</td>\n",
       "    </tr>\n",
       "    <tr>\n",
       "      <th>regulation of cytokine-mediated signaling pathway (GO:0001959)</th>\n",
       "      <td>72</td>\n",
       "      <td>3.525411</td>\n",
       "      <td>2.502541</td>\n",
       "      <td>negative</td>\n",
       "    </tr>\n",
       "    <tr>\n",
       "      <th>negative regulation of viral life cycle (GO:1903901)</th>\n",
       "      <td>68</td>\n",
       "      <td>3.089035</td>\n",
       "      <td>2.365208</td>\n",
       "      <td>negative</td>\n",
       "    </tr>\n",
       "    <tr>\n",
       "      <th>regulation of innate immune response (GO:0045088)</th>\n",
       "      <td>72</td>\n",
       "      <td>2.810620</td>\n",
       "      <td>2.073839</td>\n",
       "      <td>negative</td>\n",
       "    </tr>\n",
       "    <tr>\n",
       "      <th>regulation of viral genome replication (GO:0045069)</th>\n",
       "      <td>62</td>\n",
       "      <td>2.239097</td>\n",
       "      <td>1.920240</td>\n",
       "      <td>negative</td>\n",
       "    </tr>\n",
       "    <tr>\n",
       "      <th>negative regulation of viral genome replication (GO:0045071)</th>\n",
       "      <td>59</td>\n",
       "      <td>2.025724</td>\n",
       "      <td>1.841764</td>\n",
       "      <td>negative</td>\n",
       "    </tr>\n",
       "  </tbody>\n",
       "</table>\n",
       "</div>"
      ],
      "text/plain": [
       "                                                    counts  avg_logPadj  \\\n",
       "pathway                                                                   \n",
       "cellular response to type I interferon (GO:0071...      71     6.783270   \n",
       "type I interferon signaling pathway (GO:0060337)        71     6.783270   \n",
       "regulation of cytokine-mediated signaling pathw...      72     3.525411   \n",
       "negative regulation of viral life cycle (GO:190...      68     3.089035   \n",
       "regulation of innate immune response (GO:0045088)       72     2.810620   \n",
       "regulation of viral genome replication (GO:0045...      62     2.239097   \n",
       "negative regulation of viral genome replication...      59     2.025724   \n",
       "\n",
       "                                                    std_logPadj    weight  \n",
       "pathway                                                                    \n",
       "cellular response to type I interferon (GO:0071...     5.088417  negative  \n",
       "type I interferon signaling pathway (GO:0060337)       5.088417  negative  \n",
       "regulation of cytokine-mediated signaling pathw...     2.502541  negative  \n",
       "negative regulation of viral life cycle (GO:190...     2.365208  negative  \n",
       "regulation of innate immune response (GO:0045088)      2.073839  negative  \n",
       "regulation of viral genome replication (GO:0045...     1.920240  negative  \n",
       "negative regulation of viral genome replication...     1.841764  negative  "
      ]
     },
     "execution_count": 39,
     "metadata": {},
     "output_type": "execute_result"
    }
   ],
   "source": [
    "df_pathway_results = df_pathway_results[df_pathway_results.avg_logPadj > 2]\n",
    "df_pathway_results['weight'] = 'negative'\n",
    "df_pathway_results"
   ]
  },
  {
   "cell_type": "markdown",
   "id": "wooden-drawing",
   "metadata": {},
   "source": [
    "## genes with positive weights "
   ]
  },
  {
   "cell_type": "code",
   "execution_count": 34,
   "id": "classified-stations",
   "metadata": {},
   "outputs": [
    {
     "name": "stdout",
     "output_type": "stream",
     "text": [
      "[06/04/2021 00:34:16] running enrichr on positive set 0\n",
      "[06/04/2021 00:34:48] running enrichr on positive set 5\n",
      "[06/04/2021 00:35:23] running enrichr on positive set 10\n",
      "[06/04/2021 00:35:48] running enrichr on positive set 15\n",
      "[06/04/2021 00:36:23] running enrichr on positive set 20\n",
      "[06/04/2021 00:37:11] running enrichr on positive set 25\n",
      "[06/04/2021 00:37:45] running enrichr on positive set 30\n",
      "[06/04/2021 00:38:13] running enrichr on positive set 35\n",
      "[06/04/2021 00:38:47] running enrichr on positive set 40\n",
      "[06/04/2021 00:39:26] running enrichr on positive set 45\n",
      "[06/04/2021 00:39:49] running enrichr on positive set 50\n",
      "[06/04/2021 00:40:12] running enrichr on positive set 55\n",
      "[06/04/2021 00:40:48] running enrichr on positive set 60\n",
      "[06/04/2021 00:41:15] running enrichr on positive set 65\n",
      "[06/04/2021 00:41:53] running enrichr on positive set 70\n",
      "[06/04/2021 00:42:19] running enrichr on positive set 75\n",
      "[06/04/2021 00:42:47] running enrichr on positive set 80\n",
      "[06/04/2021 00:43:10] running enrichr on positive set 85\n",
      "[06/04/2021 00:43:33] running enrichr on positive set 90\n",
      "[06/04/2021 00:43:57] running enrichr on positive set 95\n",
      "CPU times: user 10.2 s, sys: 1.26 s, total: 11.5 s\n",
      "Wall time: 10min 5s\n"
     ]
    }
   ],
   "source": [
    "%%time\n",
    "gs_res_dict_p = {}\n",
    "for i in range(100):\n",
    "    if (i % 5 == 0): print(DATE(), f'running enrichr on positive set {i}')\n",
    "    gs_res = gseapy.enrichr(\n",
    "        gene_list=features_list[i].gene[features_list[i].coef > 0].to_list(),\n",
    "        description=gs_list[2],\n",
    "        outdir='down',\n",
    "        no_plot=True,\n",
    "        gene_sets=gs_list[2])\n",
    "    gs_res_dict_p[i] = gs_res.res2d[gs_res.res2d['Adjusted P-value'] < 0.01]"
   ]
  },
  {
   "cell_type": "code",
   "execution_count": 43,
   "id": "tracked-chart",
   "metadata": {},
   "outputs": [],
   "source": [
    "go_res_dict['positive_set']=gs_res_dict_p"
   ]
  },
  {
   "cell_type": "code",
   "execution_count": 44,
   "id": "senior-breast",
   "metadata": {},
   "outputs": [],
   "source": [
    "pickle.dump(go_res_dict, open('go_res_dict.p', 'wb'))"
   ]
  },
  {
   "cell_type": "code",
   "execution_count": 46,
   "id": "protected-radio",
   "metadata": {},
   "outputs": [],
   "source": [
    "gs_res_dict=gs_res_dict_p"
   ]
  },
  {
   "cell_type": "code",
   "execution_count": 47,
   "id": "japanese-cosmetic",
   "metadata": {},
   "outputs": [
    {
     "name": "stderr",
     "output_type": "stream",
     "text": [
      "/Users/fcheng/opt/miniconda3/lib/python3.8/site-packages/pandas/core/frame.py:3188: SettingWithCopyWarning: \n",
      "A value is trying to be set on a copy of a slice from a DataFrame.\n",
      "Try using .loc[row_indexer,col_indexer] = value instead\n",
      "\n",
      "See the caveats in the documentation: https://pandas.pydata.org/pandas-docs/stable/user_guide/indexing.html#returning-a-view-versus-a-copy\n",
      "  self[k1] = value[k2]\n"
     ]
    }
   ],
   "source": [
    "for i in range(100):\n",
    "    if len(gs_res_dict[i])>0:\n",
    "        gs_res_dict[i][['#hit','#total']]=gs_res_dict[i].Overlap.str.split('/',expand=True).astype(int)\n"
   ]
  },
  {
   "cell_type": "code",
   "execution_count": 41,
   "id": "irish-flesh",
   "metadata": {},
   "outputs": [],
   "source": [
    "df_pathway_results_2 = df_pathway_results"
   ]
  },
  {
   "cell_type": "code",
   "execution_count": 71,
   "id": "fitting-attendance",
   "metadata": {},
   "outputs": [
    {
     "name": "stdout",
     "output_type": "stream",
     "text": [
      "CPU times: user 353 ms, sys: 5.6 ms, total: 358 ms\n",
      "Wall time: 355 ms\n"
     ]
    },
    {
     "data": {
      "text/html": [
       "<div>\n",
       "<style scoped>\n",
       "    .dataframe tbody tr th:only-of-type {\n",
       "        vertical-align: middle;\n",
       "    }\n",
       "\n",
       "    .dataframe tbody tr th {\n",
       "        vertical-align: top;\n",
       "    }\n",
       "\n",
       "    .dataframe thead th {\n",
       "        text-align: right;\n",
       "    }\n",
       "</style>\n",
       "<table border=\"1\" class=\"dataframe\">\n",
       "  <thead>\n",
       "    <tr style=\"text-align: right;\">\n",
       "      <th></th>\n",
       "      <th>counts</th>\n",
       "      <th>avg_logPadj</th>\n",
       "      <th>std_logPadj</th>\n",
       "      <th>weight</th>\n",
       "    </tr>\n",
       "    <tr>\n",
       "      <th>pathway</th>\n",
       "      <th></th>\n",
       "      <th></th>\n",
       "      <th></th>\n",
       "      <th></th>\n",
       "    </tr>\n",
       "  </thead>\n",
       "  <tbody>\n",
       "    <tr>\n",
       "      <th>cytokine-mediated signaling pathway (GO:0019221)</th>\n",
       "      <td>71</td>\n",
       "      <td>7.610395</td>\n",
       "      <td>5.639309</td>\n",
       "      <td>negative</td>\n",
       "    </tr>\n",
       "    <tr>\n",
       "      <th>type I interferon signaling pathway (GO:0060337)</th>\n",
       "      <td>71</td>\n",
       "      <td>6.783270</td>\n",
       "      <td>5.088417</td>\n",
       "      <td>negative</td>\n",
       "    </tr>\n",
       "    <tr>\n",
       "      <th>cellular response to type I interferon (GO:0071357)</th>\n",
       "      <td>71</td>\n",
       "      <td>6.783270</td>\n",
       "      <td>5.088417</td>\n",
       "      <td>negative</td>\n",
       "    </tr>\n",
       "    <tr>\n",
       "      <th>cellular response to cytokine stimulus (GO:0071345)</th>\n",
       "      <td>71</td>\n",
       "      <td>3.949614</td>\n",
       "      <td>3.030552</td>\n",
       "      <td>negative</td>\n",
       "    </tr>\n",
       "    <tr>\n",
       "      <th>regulation of cytokine-mediated signaling pathway (GO:0001959)</th>\n",
       "      <td>72</td>\n",
       "      <td>3.525411</td>\n",
       "      <td>2.502541</td>\n",
       "      <td>negative</td>\n",
       "    </tr>\n",
       "    <tr>\n",
       "      <th>response to cytokine (GO:0034097)</th>\n",
       "      <td>69</td>\n",
       "      <td>3.458215</td>\n",
       "      <td>2.664960</td>\n",
       "      <td>negative</td>\n",
       "    </tr>\n",
       "    <tr>\n",
       "      <th>negative regulation of viral life cycle (GO:1903901)</th>\n",
       "      <td>68</td>\n",
       "      <td>3.089035</td>\n",
       "      <td>2.365208</td>\n",
       "      <td>negative</td>\n",
       "    </tr>\n",
       "    <tr>\n",
       "      <th>regulation of I-kappaB kinase/NF-kappaB signaling (GO:0043122)</th>\n",
       "      <td>71</td>\n",
       "      <td>2.988085</td>\n",
       "      <td>2.083232</td>\n",
       "      <td>negative</td>\n",
       "    </tr>\n",
       "    <tr>\n",
       "      <th>regulation of innate immune response (GO:0045088)</th>\n",
       "      <td>72</td>\n",
       "      <td>2.810620</td>\n",
       "      <td>2.073839</td>\n",
       "      <td>negative</td>\n",
       "    </tr>\n",
       "    <tr>\n",
       "      <th>apoptotic process (GO:0006915)</th>\n",
       "      <td>68</td>\n",
       "      <td>2.498456</td>\n",
       "      <td>1.881118</td>\n",
       "      <td>negative</td>\n",
       "    </tr>\n",
       "  </tbody>\n",
       "</table>\n",
       "</div>"
      ],
      "text/plain": [
       "                                                    counts  avg_logPadj  \\\n",
       "pathway                                                                   \n",
       "cytokine-mediated signaling pathway (GO:0019221)        71     7.610395   \n",
       "type I interferon signaling pathway (GO:0060337)        71     6.783270   \n",
       "cellular response to type I interferon (GO:0071...      71     6.783270   \n",
       "cellular response to cytokine stimulus (GO:0071...      71     3.949614   \n",
       "regulation of cytokine-mediated signaling pathw...      72     3.525411   \n",
       "response to cytokine (GO:0034097)                       69     3.458215   \n",
       "negative regulation of viral life cycle (GO:190...      68     3.089035   \n",
       "regulation of I-kappaB kinase/NF-kappaB signali...      71     2.988085   \n",
       "regulation of innate immune response (GO:0045088)       72     2.810620   \n",
       "apoptotic process (GO:0006915)                          68     2.498456   \n",
       "\n",
       "                                                    std_logPadj    weight  \n",
       "pathway                                                                    \n",
       "cytokine-mediated signaling pathway (GO:0019221)       5.639309  negative  \n",
       "type I interferon signaling pathway (GO:0060337)       5.088417  negative  \n",
       "cellular response to type I interferon (GO:0071...     5.088417  negative  \n",
       "cellular response to cytokine stimulus (GO:0071...     3.030552  negative  \n",
       "regulation of cytokine-mediated signaling pathw...     2.502541  negative  \n",
       "response to cytokine (GO:0034097)                      2.664960  negative  \n",
       "negative regulation of viral life cycle (GO:190...     2.365208  negative  \n",
       "regulation of I-kappaB kinase/NF-kappaB signali...     2.083232  negative  \n",
       "regulation of innate immune response (GO:0045088)      2.073839  negative  \n",
       "apoptotic process (GO:0006915)                         1.881118  negative  "
      ]
     },
     "execution_count": 71,
     "metadata": {},
     "output_type": "execute_result"
    }
   ],
   "source": [
    "%%time\n",
    "\n",
    "size_limit = 1000\n",
    "df_pathway_results = df_pathway_results_2\n",
    "\n",
    "# store weights vector to dict\n",
    "pathway_padj_dict = {\n",
    "    p: [0 for i in range(100)]\n",
    "    for p in list(set().union(*[\n",
    "        v[v['#total'] < size_limit].Term.to_list()\n",
    "        for v in gs_res_dict.values() if len(v) > 0\n",
    "    ]))\n",
    "}\n",
    "\n",
    "for i in range(100):\n",
    "    if len(gs_res_dict[i]) > 0:\n",
    "        for _, row in gs_res_dict[i].iterrows():\n",
    "            if row['#total'] < size_limit:\n",
    "                pathway_padj_dict[row['Term']][i] = -np.log10(\n",
    "                    row['Adjusted P-value'])\n",
    "\n",
    "df_pathway_results = pd.DataFrame({\n",
    "    'pathway': [p for p in pathway_padj_dict.keys()],\n",
    "    'counts': [np.sum(np.array(v) != 0) for v in pathway_padj_dict.values()],\n",
    "    'avg_logPadj':\n",
    "    [np.sum(np.array(v)) / 100 for v in pathway_padj_dict.values()],\n",
    "    'std_logPadj': [np.std(np.array(v)) for v in pathway_padj_dict.values()],\n",
    "}).set_index('pathway').sort_values('avg_logPadj', ascending=False)\n",
    "\n",
    "df_pathway_results = df_pathway_results[df_pathway_results.avg_logPadj > 2]\n",
    "df_pathway_results['weight'] = 'negative'\n",
    "df_pathway_results.head(10)"
   ]
  },
  {
   "cell_type": "code",
   "execution_count": 66,
   "id": "hidden-finish",
   "metadata": {
    "scrolled": false
   },
   "outputs": [
    {
     "name": "stdout",
     "output_type": "stream",
     "text": [
      "CPU times: user 383 ms, sys: 5.72 ms, total: 388 ms\n",
      "Wall time: 385 ms\n"
     ]
    },
    {
     "data": {
      "text/html": [
       "<div>\n",
       "<style scoped>\n",
       "    .dataframe tbody tr th:only-of-type {\n",
       "        vertical-align: middle;\n",
       "    }\n",
       "\n",
       "    .dataframe tbody tr th {\n",
       "        vertical-align: top;\n",
       "    }\n",
       "\n",
       "    .dataframe thead th {\n",
       "        text-align: right;\n",
       "    }\n",
       "</style>\n",
       "<table border=\"1\" class=\"dataframe\">\n",
       "  <thead>\n",
       "    <tr style=\"text-align: right;\">\n",
       "      <th></th>\n",
       "      <th>counts</th>\n",
       "      <th>avg_logPadj</th>\n",
       "      <th>std_logPadj</th>\n",
       "      <th>weight</th>\n",
       "    </tr>\n",
       "    <tr>\n",
       "      <th>pathway</th>\n",
       "      <th></th>\n",
       "      <th></th>\n",
       "      <th></th>\n",
       "      <th></th>\n",
       "    </tr>\n",
       "  </thead>\n",
       "  <tbody>\n",
       "    <tr>\n",
       "      <th>mitotic sister chromatid segregation (GO:0000070)</th>\n",
       "      <td>97</td>\n",
       "      <td>7.828887</td>\n",
       "      <td>4.818243</td>\n",
       "      <td>positive</td>\n",
       "    </tr>\n",
       "    <tr>\n",
       "      <th>mitotic cell cycle phase transition (GO:0044772)</th>\n",
       "      <td>76</td>\n",
       "      <td>5.940153</td>\n",
       "      <td>4.041291</td>\n",
       "      <td>positive</td>\n",
       "    </tr>\n",
       "    <tr>\n",
       "      <th>G1/S transition of mitotic cell cycle (GO:0000082)</th>\n",
       "      <td>70</td>\n",
       "      <td>5.698677</td>\n",
       "      <td>4.080526</td>\n",
       "      <td>positive</td>\n",
       "    </tr>\n",
       "    <tr>\n",
       "      <th>DNA metabolic process (GO:0006259)</th>\n",
       "      <td>72</td>\n",
       "      <td>5.689427</td>\n",
       "      <td>3.832013</td>\n",
       "      <td>positive</td>\n",
       "    </tr>\n",
       "    <tr>\n",
       "      <th>centromere complex assembly (GO:0034508)</th>\n",
       "      <td>71</td>\n",
       "      <td>5.583507</td>\n",
       "      <td>4.394919</td>\n",
       "      <td>positive</td>\n",
       "    </tr>\n",
       "    <tr>\n",
       "      <th>DNA replication (GO:0006260)</th>\n",
       "      <td>70</td>\n",
       "      <td>5.422175</td>\n",
       "      <td>3.797445</td>\n",
       "      <td>positive</td>\n",
       "    </tr>\n",
       "    <tr>\n",
       "      <th>chromatin remodeling at centromere (GO:0031055)</th>\n",
       "      <td>70</td>\n",
       "      <td>4.846716</td>\n",
       "      <td>3.751353</td>\n",
       "      <td>positive</td>\n",
       "    </tr>\n",
       "    <tr>\n",
       "      <th>cell cycle G1/S phase transition (GO:0044843)</th>\n",
       "      <td>71</td>\n",
       "      <td>4.800211</td>\n",
       "      <td>3.448403</td>\n",
       "      <td>positive</td>\n",
       "    </tr>\n",
       "    <tr>\n",
       "      <th>DNA replication-independent nucleosome assembly (GO:0006336)</th>\n",
       "      <td>70</td>\n",
       "      <td>4.324141</td>\n",
       "      <td>3.399672</td>\n",
       "      <td>positive</td>\n",
       "    </tr>\n",
       "    <tr>\n",
       "      <th>CENP-A containing chromatin organization (GO:0061641)</th>\n",
       "      <td>70</td>\n",
       "      <td>4.315164</td>\n",
       "      <td>3.457750</td>\n",
       "      <td>positive</td>\n",
       "    </tr>\n",
       "  </tbody>\n",
       "</table>\n",
       "</div>"
      ],
      "text/plain": [
       "                                                    counts  avg_logPadj  \\\n",
       "pathway                                                                   \n",
       "mitotic sister chromatid segregation (GO:0000070)       97     7.828887   \n",
       "mitotic cell cycle phase transition (GO:0044772)        76     5.940153   \n",
       "G1/S transition of mitotic cell cycle (GO:0000082)      70     5.698677   \n",
       "DNA metabolic process (GO:0006259)                      72     5.689427   \n",
       "centromere complex assembly (GO:0034508)                71     5.583507   \n",
       "DNA replication (GO:0006260)                            70     5.422175   \n",
       "chromatin remodeling at centromere (GO:0031055)         70     4.846716   \n",
       "cell cycle G1/S phase transition (GO:0044843)           71     4.800211   \n",
       "DNA replication-independent nucleosome assembly...      70     4.324141   \n",
       "CENP-A containing chromatin organization (GO:00...      70     4.315164   \n",
       "\n",
       "                                                    std_logPadj    weight  \n",
       "pathway                                                                    \n",
       "mitotic sister chromatid segregation (GO:0000070)      4.818243  positive  \n",
       "mitotic cell cycle phase transition (GO:0044772)       4.041291  positive  \n",
       "G1/S transition of mitotic cell cycle (GO:0000082)     4.080526  positive  \n",
       "DNA metabolic process (GO:0006259)                     3.832013  positive  \n",
       "centromere complex assembly (GO:0034508)               4.394919  positive  \n",
       "DNA replication (GO:0006260)                           3.797445  positive  \n",
       "chromatin remodeling at centromere (GO:0031055)        3.751353  positive  \n",
       "cell cycle G1/S phase transition (GO:0044843)          3.448403  positive  \n",
       "DNA replication-independent nucleosome assembly...     3.399672  positive  \n",
       "CENP-A containing chromatin organization (GO:00...     3.457750  positive  "
      ]
     },
     "execution_count": 66,
     "metadata": {},
     "output_type": "execute_result"
    }
   ],
   "source": [
    "%%time\n",
    "\n",
    "size_limit = 1000\n",
    "\n",
    "# store weights vector to dict\n",
    "pathway_padj_dict = {\n",
    "    p: [0 for i in range(100)]\n",
    "    for p in list(set().union(*[\n",
    "        v[v['#total'] < size_limit].Term.to_list()\n",
    "        for v in gs_res_dict.values() if len(v) > 0\n",
    "    ]))\n",
    "}\n",
    "\n",
    "for i in range(100):\n",
    "    if len(gs_res_dict[i]) > 0:\n",
    "        for _, row in gs_res_dict[i].iterrows():\n",
    "            if row['#total'] < size_limit:\n",
    "                pathway_padj_dict[row['Term']][i] = -np.log10(\n",
    "                    row['Adjusted P-value'])\n",
    "\n",
    "df_pathway_results = pd.DataFrame({\n",
    "    'pathway': [p for p in pathway_padj_dict.keys()],\n",
    "    'counts': [np.sum(np.array(v) != 0) for v in pathway_padj_dict.values()],\n",
    "    'avg_logPadj':\n",
    "    [np.sum(np.array(v)) / 100 for v in pathway_padj_dict.values()],\n",
    "    'std_logPadj': [np.std(np.array(v)) for v in pathway_padj_dict.values()],\n",
    "}).set_index('pathway').sort_values('avg_logPadj', ascending=False)\n",
    "\n",
    "df_pathway_results = df_pathway_results[df_pathway_results.avg_logPadj > 2]\n",
    "df_pathway_results['weight'] = 'positive'\n",
    "df_pathway_results.head(10)"
   ]
  },
  {
   "cell_type": "code",
   "execution_count": 55,
   "id": "patient-retreat",
   "metadata": {},
   "outputs": [],
   "source": [
    "df_pathway_results=pd.concat([df_pathway_results,df_pathway_results_2])"
   ]
  },
  {
   "cell_type": "code",
   "execution_count": 63,
   "id": "divided-alaska",
   "metadata": {},
   "outputs": [],
   "source": [
    "for i, row in df_pathway_results.iterrows():\n",
    "    if i ==0:\n",
    "        print(i,row)\n",
    "    "
   ]
  },
  {
   "cell_type": "code",
   "execution_count": 64,
   "id": "promotional-belgium",
   "metadata": {},
   "outputs": [
    {
     "data": {
      "text/plain": [
       "<matplotlib.legend.Legend at 0x7fb49bb3a490>"
      ]
     },
     "execution_count": 64,
     "metadata": {},
     "output_type": "execute_result"
    },
    {
     "data": {
      "image/png": "[encoded data removed]",
      "text/plain": [
       "<Figure size 432x288 with 1 Axes>"
      ]
     },
     "metadata": {
      "needs_background": "light"
     },
     "output_type": "display_data"
    }
   ],
   "source": [
    "import seaborn as sns\n",
    "import matplotlib.pyplot as plt\n",
    "\n",
    "sns.scatterplot(data=df_pathway_results,\n",
    "                x='avg_logPadj',\n",
    "                y='counts',\n",
    "                hue='weight',\n",
    "                sizes=(20, 400),\n",
    "                size='counts')\n",
    "for i, row in df_pathway_results.iterrows():\n",
    "    if row.counts > 80 or row.avg_logPadj > 4:\n",
    "        plt.text(x=row.avg_logPadj + 0.1, y=row.counts + 0.3, s=i)\n",
    "plt.legend(bbox_to_anchor=(1.05, 1), loc=2, borderaxespad=0.)"
   ]
  },
  {
   "cell_type": "code",
   "execution_count": null,
   "id": "engaged-consultancy",
   "metadata": {},
   "outputs": [],
   "source": []
  }
 ],
 "metadata": {
  "kernelspec": {
   "display_name": "Python 3",
   "language": "python",
   "name": "python3"
  },
  "language_info": {
   "codemirror_mode": {
    "name": "ipython",
    "version": 3
   },
   "file_extension": ".py",
   "mimetype": "text/x-python",
   "name": "python",
   "nbconvert_exporter": "python",
   "pygments_lexer": "ipython3",
   "version": "3.8.2"
  },
  "metadata": {
   "interpreter": {
    "hash": "aee8b7b246df8f9039afb4144a1f6fd8d2ca17a180786b69acc140d282b71a49"
   }
  },
  "toc": {
   "base_numbering": 1,
   "nav_menu": {},
   "number_sections": true,
   "sideBar": true,
   "skip_h1_title": false,
   "title_cell": "Table of Contents",
   "title_sidebar": "Contents",
   "toc_cell": false,
   "toc_position": {},
   "toc_section_display": true,
   "toc_window_display": true
  }
 },
 "nbformat": 4,
 "nbformat_minor": 5
}
