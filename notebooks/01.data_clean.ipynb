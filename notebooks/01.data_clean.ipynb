{
 "cells": [
  {
   "cell_type": "markdown",
   "id": "trained-invitation",
   "metadata": {},
   "source": [
    "### init"
   ]
  },
  {
   "cell_type": "code",
   "execution_count": 1,
   "id": "acknowledged-creator",
   "metadata": {},
   "outputs": [],
   "source": [
    "suppressMessages(require(tidyverse))\n",
    "suppressMessages(require(data.table))"
   ]
  },
  {
   "cell_type": "code",
   "execution_count": 3,
   "id": "cheap-jumping",
   "metadata": {
    "scrolled": false
   },
   "outputs": [
    {
     "data": {
      "text/html": [
       "<style>\n",
       ".list-inline {list-style: none; margin:0; padding: 0}\n",
       ".list-inline>li {display: inline-block}\n",
       ".list-inline>li:not(:last-child)::after {content: \"\\00b7\"; padding: 0 .5ex}\n",
       "</style>\n",
       "<ol class=list-inline><li>89</li><li>10587</li></ol>\n"
      ],
      "text/latex": [
       "\\begin{enumerate*}\n",
       "\\item 89\n",
       "\\item 10587\n",
       "\\end{enumerate*}\n"
      ],
      "text/markdown": [
       "1. 89\n",
       "2. 10587\n",
       "\n",
       "\n"
      ],
      "text/plain": [
       "[1]    89 10587"
      ]
     },
     "metadata": {},
     "output_type": "display_data"
    },
    {
     "data": {
      "text/html": [
       "<table class=\"dataframe\">\n",
       "<caption>A data.table: 1 × 10587</caption>\n",
       "<thead>\n",
       "\t<tr><th scope=col>Bioset ID of SARS CoV-Round3BV2_74 Biosets_wZero Time Point.jmp</th><th scope=col>Day Post-Infection</th><th scope=col>Species</th><th scope=col>GEO ID, link</th><th scope=col>Study name</th><th scope=col>Bioset name</th><th scope=col>Test Samples</th><th scope=col>Control Samples</th><th scope=col>Feature Size</th><th scope=col>Article PubMed ID</th><th scope=col>⋯</th><th scope=col>Zswim5</th><th scope=col>Zswim6</th><th scope=col>Zswim8</th><th scope=col>Zufsp</th><th scope=col>Zwilch</th><th scope=col>Zwint</th><th scope=col>Zxda</th><th scope=col>Zxdc</th><th scope=col>Zyg11b</th><th scope=col>Zzz3</th></tr>\n",
       "\t<tr><th scope=col>&lt;int&gt;</th><th scope=col>&lt;dbl&gt;</th><th scope=col>&lt;chr&gt;</th><th scope=col>&lt;chr&gt;</th><th scope=col>&lt;chr&gt;</th><th scope=col>&lt;chr&gt;</th><th scope=col>&lt;int&gt;</th><th scope=col>&lt;int&gt;</th><th scope=col>&lt;int&gt;</th><th scope=col>&lt;chr&gt;</th><th scope=col>⋯</th><th scope=col>&lt;dbl&gt;</th><th scope=col>&lt;dbl&gt;</th><th scope=col>&lt;dbl&gt;</th><th scope=col>&lt;dbl&gt;</th><th scope=col>&lt;dbl&gt;</th><th scope=col>&lt;dbl&gt;</th><th scope=col>&lt;dbl&gt;</th><th scope=col>&lt;dbl&gt;</th><th scope=col>&lt;dbl&gt;</th><th scope=col>&lt;dbl&gt;</th></tr>\n",
       "</thead>\n",
       "<tbody>\n",
       "\t<tr><td>867451</td><td>0.5</td><td>Mus musculus</td><td>GSE36969</td><td>Lungs from aged and young mice infected with mouse adapted SARS strains (Timecourse)</td><td>Lungs from 1yr old (aged) mice - 12hr post SARS MA15 strain infection _vs_ mock (PBS) infection</td><td>3</td><td>3</td><td>627</td><td>19420084</td><td>⋯</td><td>0</td><td>0</td><td>-61.05975</td><td>0</td><td>0</td><td>0</td><td>0</td><td>0</td><td>0</td><td>0</td></tr>\n",
       "</tbody>\n",
       "</table>\n"
      ],
      "text/latex": [
       "A data.table: 1 × 10587\n",
       "\\begin{tabular}{lllllllllllllllllllll}\n",
       " Bioset ID of SARS CoV-Round3BV2\\_74 Biosets\\_wZero Time Point.jmp & Day Post-Infection & Species & GEO ID, link & Study name & Bioset name & Test Samples & Control Samples & Feature Size & Article PubMed ID & ⋯ & Zswim5 & Zswim6 & Zswim8 & Zufsp & Zwilch & Zwint & Zxda & Zxdc & Zyg11b & Zzz3\\\\\n",
       " <int> & <dbl> & <chr> & <chr> & <chr> & <chr> & <int> & <int> & <int> & <chr> & ⋯ & <dbl> & <dbl> & <dbl> & <dbl> & <dbl> & <dbl> & <dbl> & <dbl> & <dbl> & <dbl>\\\\\n",
       "\\hline\n",
       "\t 867451 & 0.5 & Mus musculus & GSE36969 & Lungs from aged and young mice infected with mouse adapted SARS strains (Timecourse) & Lungs from 1yr old (aged) mice - 12hr post SARS MA15 strain infection \\_vs\\_ mock (PBS) infection & 3 & 3 & 627 & 19420084 & ⋯ & 0 & 0 & -61.05975 & 0 & 0 & 0 & 0 & 0 & 0 & 0\\\\\n",
       "\\end{tabular}\n"
      ],
      "text/markdown": [
       "\n",
       "A data.table: 1 × 10587\n",
       "\n",
       "| Bioset ID of SARS CoV-Round3BV2_74 Biosets_wZero Time Point.jmp &lt;int&gt; | Day Post-Infection &lt;dbl&gt; | Species &lt;chr&gt; | GEO ID, link &lt;chr&gt; | Study name &lt;chr&gt; | Bioset name &lt;chr&gt; | Test Samples &lt;int&gt; | Control Samples &lt;int&gt; | Feature Size &lt;int&gt; | Article PubMed ID &lt;chr&gt; | ⋯ ⋯ | Zswim5 &lt;dbl&gt; | Zswim6 &lt;dbl&gt; | Zswim8 &lt;dbl&gt; | Zufsp &lt;dbl&gt; | Zwilch &lt;dbl&gt; | Zwint &lt;dbl&gt; | Zxda &lt;dbl&gt; | Zxdc &lt;dbl&gt; | Zyg11b &lt;dbl&gt; | Zzz3 &lt;dbl&gt; |\n",
       "|---|---|---|---|---|---|---|---|---|---|---|---|---|---|---|---|---|---|---|---|---|\n",
       "| 867451 | 0.5 | Mus musculus | GSE36969 | Lungs from aged and young mice infected with mouse adapted SARS strains (Timecourse) | Lungs from 1yr old (aged) mice - 12hr post SARS MA15 strain infection _vs_ mock (PBS) infection | 3 | 3 | 627 | 19420084 | ⋯ | 0 | 0 | -61.05975 | 0 | 0 | 0 | 0 | 0 | 0 | 0 |\n",
       "\n"
      ],
      "text/plain": [
       "  Bioset ID of SARS CoV-Round3BV2_74 Biosets_wZero Time Point.jmp\n",
       "1 867451                                                         \n",
       "  Day Post-Infection Species      GEO ID, link\n",
       "1 0.5                Mus musculus GSE36969    \n",
       "  Study name                                                                          \n",
       "1 Lungs from aged and young mice infected with mouse adapted SARS strains (Timecourse)\n",
       "  Bioset name                                                                                    \n",
       "1 Lungs from 1yr old (aged) mice - 12hr post SARS MA15 strain infection _vs_ mock (PBS) infection\n",
       "  Test Samples Control Samples Feature Size Article PubMed ID ⋯ Zswim5 Zswim6\n",
       "1 3            3               627          19420084          ⋯ 0      0     \n",
       "  Zswim8    Zufsp Zwilch Zwint Zxda Zxdc Zyg11b Zzz3\n",
       "1 -61.05975 0     0      0     0    0    0      0   "
      ]
     },
     "metadata": {},
     "output_type": "display_data"
    },
    {
     "data": {
      "text/html": [
       "<style>\n",
       ".list-inline {list-style: none; margin:0; padding: 0}\n",
       ".list-inline>li {display: inline-block}\n",
       ".list-inline>li:not(:last-child)::after {content: \"\\00b7\"; padding: 0 .5ex}\n",
       "</style>\n",
       "<ol class=list-inline><li>'Bioset ID of SARS CoV-Round3BV2_74 Biosets_wZero Time Point.jmp'</li><li>'Day Post-Infection'</li><li>'Species'</li><li>'GEO ID, link'</li><li>'Study name'</li><li>'Bioset name'</li><li>'Test Samples'</li><li>'Control Samples'</li><li>'Feature Size'</li><li>'Article PubMed ID'</li><li>'Viral Strain'</li><li>'SARS-CoV Strain'</li><li>'Viral Dose'</li><li>'Viral Dose (PFUs)'</li><li>'Viral Severity'</li><li>'Sample Source (strain, cell)'</li><li>'Host Mouse Strain'</li><li>'Sex'</li><li>'Host Age Category'</li><li>'Host Age Cat'</li><li>'Host Age'</li><li>'Technology'</li><li>'Lab'</li><li>'March1'</li><li>'43891'</li><li>'43892'</li><li>'March2'</li><li>'March3'</li><li>'March5'</li><li>'March6'</li><li>'44075'</li><li>'Sept2'</li><li>'Sept3'</li><li>'44077'</li><li>'Sept4'</li><li>'44078'</li><li>'Sept5'</li><li>'Sept6'</li><li>'44080'</li><li>'Sept7'</li><li>'Sept8'</li><li>'44082'</li><li>'44083'</li><li>'Sept11'</li><li>'44086'</li><li>'212970'</li><li>'228712'</li><li>'329302'</li><li>'385414'</li><li>'432575'</li></ol>\n"
      ],
      "text/latex": [
       "\\begin{enumerate*}\n",
       "\\item 'Bioset ID of SARS CoV-Round3BV2\\_74 Biosets\\_wZero Time Point.jmp'\n",
       "\\item 'Day Post-Infection'\n",
       "\\item 'Species'\n",
       "\\item 'GEO ID, link'\n",
       "\\item 'Study name'\n",
       "\\item 'Bioset name'\n",
       "\\item 'Test Samples'\n",
       "\\item 'Control Samples'\n",
       "\\item 'Feature Size'\n",
       "\\item 'Article PubMed ID'\n",
       "\\item 'Viral Strain'\n",
       "\\item 'SARS-CoV Strain'\n",
       "\\item 'Viral Dose'\n",
       "\\item 'Viral Dose (PFUs)'\n",
       "\\item 'Viral Severity'\n",
       "\\item 'Sample Source (strain, cell)'\n",
       "\\item 'Host Mouse Strain'\n",
       "\\item 'Sex'\n",
       "\\item 'Host Age Category'\n",
       "\\item 'Host Age Cat'\n",
       "\\item 'Host Age'\n",
       "\\item 'Technology'\n",
       "\\item 'Lab'\n",
       "\\item 'March1'\n",
       "\\item '43891'\n",
       "\\item '43892'\n",
       "\\item 'March2'\n",
       "\\item 'March3'\n",
       "\\item 'March5'\n",
       "\\item 'March6'\n",
       "\\item '44075'\n",
       "\\item 'Sept2'\n",
       "\\item 'Sept3'\n",
       "\\item '44077'\n",
       "\\item 'Sept4'\n",
       "\\item '44078'\n",
       "\\item 'Sept5'\n",
       "\\item 'Sept6'\n",
       "\\item '44080'\n",
       "\\item 'Sept7'\n",
       "\\item 'Sept8'\n",
       "\\item '44082'\n",
       "\\item '44083'\n",
       "\\item 'Sept11'\n",
       "\\item '44086'\n",
       "\\item '212970'\n",
       "\\item '228712'\n",
       "\\item '329302'\n",
       "\\item '385414'\n",
       "\\item '432575'\n",
       "\\end{enumerate*}\n"
      ],
      "text/markdown": [
       "1. 'Bioset ID of SARS CoV-Round3BV2_74 Biosets_wZero Time Point.jmp'\n",
       "2. 'Day Post-Infection'\n",
       "3. 'Species'\n",
       "4. 'GEO ID, link'\n",
       "5. 'Study name'\n",
       "6. 'Bioset name'\n",
       "7. 'Test Samples'\n",
       "8. 'Control Samples'\n",
       "9. 'Feature Size'\n",
       "10. 'Article PubMed ID'\n",
       "11. 'Viral Strain'\n",
       "12. 'SARS-CoV Strain'\n",
       "13. 'Viral Dose'\n",
       "14. 'Viral Dose (PFUs)'\n",
       "15. 'Viral Severity'\n",
       "16. 'Sample Source (strain, cell)'\n",
       "17. 'Host Mouse Strain'\n",
       "18. 'Sex'\n",
       "19. 'Host Age Category'\n",
       "20. 'Host Age Cat'\n",
       "21. 'Host Age'\n",
       "22. 'Technology'\n",
       "23. 'Lab'\n",
       "24. 'March1'\n",
       "25. '43891'\n",
       "26. '43892'\n",
       "27. 'March2'\n",
       "28. 'March3'\n",
       "29. 'March5'\n",
       "30. 'March6'\n",
       "31. '44075'\n",
       "32. 'Sept2'\n",
       "33. 'Sept3'\n",
       "34. '44077'\n",
       "35. 'Sept4'\n",
       "36. '44078'\n",
       "37. 'Sept5'\n",
       "38. 'Sept6'\n",
       "39. '44080'\n",
       "40. 'Sept7'\n",
       "41. 'Sept8'\n",
       "42. '44082'\n",
       "43. '44083'\n",
       "44. 'Sept11'\n",
       "45. '44086'\n",
       "46. '212970'\n",
       "47. '228712'\n",
       "48. '329302'\n",
       "49. '385414'\n",
       "50. '432575'\n",
       "\n",
       "\n"
      ],
      "text/plain": [
       " [1] \"Bioset ID of SARS CoV-Round3BV2_74 Biosets_wZero Time Point.jmp\"\n",
       " [2] \"Day Post-Infection\"                                             \n",
       " [3] \"Species\"                                                        \n",
       " [4] \"GEO ID, link\"                                                   \n",
       " [5] \"Study name\"                                                     \n",
       " [6] \"Bioset name\"                                                    \n",
       " [7] \"Test Samples\"                                                   \n",
       " [8] \"Control Samples\"                                                \n",
       " [9] \"Feature Size\"                                                   \n",
       "[10] \"Article PubMed ID\"                                              \n",
       "[11] \"Viral Strain\"                                                   \n",
       "[12] \"SARS-CoV Strain\"                                                \n",
       "[13] \"Viral Dose\"                                                     \n",
       "[14] \"Viral Dose (PFUs)\"                                              \n",
       "[15] \"Viral Severity\"                                                 \n",
       "[16] \"Sample Source (strain, cell)\"                                   \n",
       "[17] \"Host Mouse Strain\"                                              \n",
       "[18] \"Sex\"                                                            \n",
       "[19] \"Host Age Category\"                                              \n",
       "[20] \"Host Age Cat\"                                                   \n",
       "[21] \"Host Age\"                                                       \n",
       "[22] \"Technology\"                                                     \n",
       "[23] \"Lab\"                                                            \n",
       "[24] \"March1\"                                                         \n",
       "[25] \"43891\"                                                          \n",
       "[26] \"43892\"                                                          \n",
       "[27] \"March2\"                                                         \n",
       "[28] \"March3\"                                                         \n",
       "[29] \"March5\"                                                         \n",
       "[30] \"March6\"                                                         \n",
       "[31] \"44075\"                                                          \n",
       "[32] \"Sept2\"                                                          \n",
       "[33] \"Sept3\"                                                          \n",
       "[34] \"44077\"                                                          \n",
       "[35] \"Sept4\"                                                          \n",
       "[36] \"44078\"                                                          \n",
       "[37] \"Sept5\"                                                          \n",
       "[38] \"Sept6\"                                                          \n",
       "[39] \"44080\"                                                          \n",
       "[40] \"Sept7\"                                                          \n",
       "[41] \"Sept8\"                                                          \n",
       "[42] \"44082\"                                                          \n",
       "[43] \"44083\"                                                          \n",
       "[44] \"Sept11\"                                                         \n",
       "[45] \"44086\"                                                          \n",
       "[46] \"212970\"                                                         \n",
       "[47] \"228712\"                                                         \n",
       "[48] \"329302\"                                                         \n",
       "[49] \"385414\"                                                         \n",
       "[50] \"432575\"                                                         "
      ]
     },
     "metadata": {},
     "output_type": "display_data"
    }
   ],
   "source": [
    "pd= fread('../data//2021-03-09_round4v2_74_biosets_wZero_Time_point.txt') \n",
    "pd %>% dim\n",
    "pd %>% head(1)\n",
    "pd %>% colnames %>% head(50)"
   ]
  },
  {
   "cell_type": "code",
   "execution_count": 4,
   "id": "robust-exposure",
   "metadata": {},
   "outputs": [
    {
     "data": {
      "text/html": [
       "<table class=\"dataframe\">\n",
       "<caption>A data.table: 6 × 10587</caption>\n",
       "<thead>\n",
       "\t<tr><th scope=col>Bioset ID of SARS CoV-Round3BV2_74 Biosets_wZero Time Point.jmp</th><th scope=col>Day Post-Infection</th><th scope=col>Species</th><th scope=col>GEO ID, link</th><th scope=col>Study name</th><th scope=col>Bioset name</th><th scope=col>Test Samples</th><th scope=col>Control Samples</th><th scope=col>Feature Size</th><th scope=col>Article PubMed ID</th><th scope=col>⋯</th><th scope=col>Zswim5</th><th scope=col>Zswim6</th><th scope=col>Zswim8</th><th scope=col>Zufsp</th><th scope=col>Zwilch</th><th scope=col>Zwint</th><th scope=col>Zxda</th><th scope=col>Zxdc</th><th scope=col>Zyg11b</th><th scope=col>Zzz3</th></tr>\n",
       "\t<tr><th scope=col>&lt;int&gt;</th><th scope=col>&lt;dbl&gt;</th><th scope=col>&lt;chr&gt;</th><th scope=col>&lt;chr&gt;</th><th scope=col>&lt;chr&gt;</th><th scope=col>&lt;chr&gt;</th><th scope=col>&lt;int&gt;</th><th scope=col>&lt;int&gt;</th><th scope=col>&lt;int&gt;</th><th scope=col>&lt;chr&gt;</th><th scope=col>⋯</th><th scope=col>&lt;dbl&gt;</th><th scope=col>&lt;dbl&gt;</th><th scope=col>&lt;dbl&gt;</th><th scope=col>&lt;dbl&gt;</th><th scope=col>&lt;dbl&gt;</th><th scope=col>&lt;dbl&gt;</th><th scope=col>&lt;dbl&gt;</th><th scope=col>&lt;dbl&gt;</th><th scope=col>&lt;dbl&gt;</th><th scope=col>&lt;dbl&gt;</th></tr>\n",
       "</thead>\n",
       "<tbody>\n",
       "\t<tr><td>NA</td><td>0</td><td></td><td></td><td></td><td></td><td>0</td><td>0</td><td>0</td><td></td><td>⋯</td><td>0</td><td>0</td><td>0</td><td>0</td><td>0</td><td>0</td><td>0</td><td>0</td><td>0</td><td>0</td></tr>\n",
       "\t<tr><td>NA</td><td>0</td><td></td><td></td><td></td><td></td><td>0</td><td>0</td><td>0</td><td></td><td>⋯</td><td>0</td><td>0</td><td>0</td><td>0</td><td>0</td><td>0</td><td>0</td><td>0</td><td>0</td><td>0</td></tr>\n",
       "\t<tr><td>NA</td><td>0</td><td></td><td></td><td></td><td></td><td>0</td><td>0</td><td>0</td><td></td><td>⋯</td><td>0</td><td>0</td><td>0</td><td>0</td><td>0</td><td>0</td><td>0</td><td>0</td><td>0</td><td>0</td></tr>\n",
       "\t<tr><td>NA</td><td>0</td><td></td><td></td><td></td><td></td><td>0</td><td>0</td><td>0</td><td></td><td>⋯</td><td>0</td><td>0</td><td>0</td><td>0</td><td>0</td><td>0</td><td>0</td><td>0</td><td>0</td><td>0</td></tr>\n",
       "\t<tr><td>NA</td><td>0</td><td></td><td></td><td></td><td></td><td>0</td><td>0</td><td>0</td><td></td><td>⋯</td><td>0</td><td>0</td><td>0</td><td>0</td><td>0</td><td>0</td><td>0</td><td>0</td><td>0</td><td>0</td></tr>\n",
       "\t<tr><td>NA</td><td>0</td><td></td><td></td><td></td><td></td><td>0</td><td>0</td><td>0</td><td></td><td>⋯</td><td>0</td><td>0</td><td>0</td><td>0</td><td>0</td><td>0</td><td>0</td><td>0</td><td>0</td><td>0</td></tr>\n",
       "</tbody>\n",
       "</table>\n"
      ],
      "text/latex": [
       "A data.table: 6 × 10587\n",
       "\\begin{tabular}{lllllllllllllllllllll}\n",
       " Bioset ID of SARS CoV-Round3BV2\\_74 Biosets\\_wZero Time Point.jmp & Day Post-Infection & Species & GEO ID, link & Study name & Bioset name & Test Samples & Control Samples & Feature Size & Article PubMed ID & ⋯ & Zswim5 & Zswim6 & Zswim8 & Zufsp & Zwilch & Zwint & Zxda & Zxdc & Zyg11b & Zzz3\\\\\n",
       " <int> & <dbl> & <chr> & <chr> & <chr> & <chr> & <int> & <int> & <int> & <chr> & ⋯ & <dbl> & <dbl> & <dbl> & <dbl> & <dbl> & <dbl> & <dbl> & <dbl> & <dbl> & <dbl>\\\\\n",
       "\\hline\n",
       "\t NA & 0 &  &  &  &  & 0 & 0 & 0 &  & ⋯ & 0 & 0 & 0 & 0 & 0 & 0 & 0 & 0 & 0 & 0\\\\\n",
       "\t NA & 0 &  &  &  &  & 0 & 0 & 0 &  & ⋯ & 0 & 0 & 0 & 0 & 0 & 0 & 0 & 0 & 0 & 0\\\\\n",
       "\t NA & 0 &  &  &  &  & 0 & 0 & 0 &  & ⋯ & 0 & 0 & 0 & 0 & 0 & 0 & 0 & 0 & 0 & 0\\\\\n",
       "\t NA & 0 &  &  &  &  & 0 & 0 & 0 &  & ⋯ & 0 & 0 & 0 & 0 & 0 & 0 & 0 & 0 & 0 & 0\\\\\n",
       "\t NA & 0 &  &  &  &  & 0 & 0 & 0 &  & ⋯ & 0 & 0 & 0 & 0 & 0 & 0 & 0 & 0 & 0 & 0\\\\\n",
       "\t NA & 0 &  &  &  &  & 0 & 0 & 0 &  & ⋯ & 0 & 0 & 0 & 0 & 0 & 0 & 0 & 0 & 0 & 0\\\\\n",
       "\\end{tabular}\n"
      ],
      "text/markdown": [
       "\n",
       "A data.table: 6 × 10587\n",
       "\n",
       "| Bioset ID of SARS CoV-Round3BV2_74 Biosets_wZero Time Point.jmp &lt;int&gt; | Day Post-Infection &lt;dbl&gt; | Species &lt;chr&gt; | GEO ID, link &lt;chr&gt; | Study name &lt;chr&gt; | Bioset name &lt;chr&gt; | Test Samples &lt;int&gt; | Control Samples &lt;int&gt; | Feature Size &lt;int&gt; | Article PubMed ID &lt;chr&gt; | ⋯ ⋯ | Zswim5 &lt;dbl&gt; | Zswim6 &lt;dbl&gt; | Zswim8 &lt;dbl&gt; | Zufsp &lt;dbl&gt; | Zwilch &lt;dbl&gt; | Zwint &lt;dbl&gt; | Zxda &lt;dbl&gt; | Zxdc &lt;dbl&gt; | Zyg11b &lt;dbl&gt; | Zzz3 &lt;dbl&gt; |\n",
       "|---|---|---|---|---|---|---|---|---|---|---|---|---|---|---|---|---|---|---|---|---|\n",
       "| NA | 0 | <!----> | <!----> | <!----> | <!----> | 0 | 0 | 0 | <!----> | ⋯ | 0 | 0 | 0 | 0 | 0 | 0 | 0 | 0 | 0 | 0 |\n",
       "| NA | 0 | <!----> | <!----> | <!----> | <!----> | 0 | 0 | 0 | <!----> | ⋯ | 0 | 0 | 0 | 0 | 0 | 0 | 0 | 0 | 0 | 0 |\n",
       "| NA | 0 | <!----> | <!----> | <!----> | <!----> | 0 | 0 | 0 | <!----> | ⋯ | 0 | 0 | 0 | 0 | 0 | 0 | 0 | 0 | 0 | 0 |\n",
       "| NA | 0 | <!----> | <!----> | <!----> | <!----> | 0 | 0 | 0 | <!----> | ⋯ | 0 | 0 | 0 | 0 | 0 | 0 | 0 | 0 | 0 | 0 |\n",
       "| NA | 0 | <!----> | <!----> | <!----> | <!----> | 0 | 0 | 0 | <!----> | ⋯ | 0 | 0 | 0 | 0 | 0 | 0 | 0 | 0 | 0 | 0 |\n",
       "| NA | 0 | <!----> | <!----> | <!----> | <!----> | 0 | 0 | 0 | <!----> | ⋯ | 0 | 0 | 0 | 0 | 0 | 0 | 0 | 0 | 0 | 0 |\n",
       "\n"
      ],
      "text/plain": [
       "  Bioset ID of SARS CoV-Round3BV2_74 Biosets_wZero Time Point.jmp\n",
       "1 NA                                                             \n",
       "2 NA                                                             \n",
       "3 NA                                                             \n",
       "4 NA                                                             \n",
       "5 NA                                                             \n",
       "6 NA                                                             \n",
       "  Day Post-Infection Species GEO ID, link Study name Bioset name Test Samples\n",
       "1 0                                                              0           \n",
       "2 0                                                              0           \n",
       "3 0                                                              0           \n",
       "4 0                                                              0           \n",
       "5 0                                                              0           \n",
       "6 0                                                              0           \n",
       "  Control Samples Feature Size Article PubMed ID ⋯ Zswim5 Zswim6 Zswim8 Zufsp\n",
       "1 0               0                              ⋯ 0      0      0      0    \n",
       "2 0               0                              ⋯ 0      0      0      0    \n",
       "3 0               0                              ⋯ 0      0      0      0    \n",
       "4 0               0                              ⋯ 0      0      0      0    \n",
       "5 0               0                              ⋯ 0      0      0      0    \n",
       "6 0               0                              ⋯ 0      0      0      0    \n",
       "  Zwilch Zwint Zxda Zxdc Zyg11b Zzz3\n",
       "1 0      0     0    0    0      0   \n",
       "2 0      0     0    0    0      0   \n",
       "3 0      0     0    0    0      0   \n",
       "4 0      0     0    0    0      0   \n",
       "5 0      0     0    0    0      0   \n",
       "6 0      0     0    0    0      0   "
      ]
     },
     "metadata": {},
     "output_type": "display_data"
    }
   ],
   "source": [
    "# baseline \n",
    "pd %>% filter(`Day Post-Infection` == 0) %>% head"
   ]
  },
  {
   "cell_type": "code",
   "execution_count": 5,
   "id": "minute-anthropology",
   "metadata": {},
   "outputs": [
    {
     "data": {
      "text/html": [
       "<style>\n",
       ".list-inline {list-style: none; margin:0; padding: 0}\n",
       ".list-inline>li {display: inline-block}\n",
       ".list-inline>li:not(:last-child)::after {content: \"\\00b7\"; padding: 0 .5ex}\n",
       "</style>\n",
       "<ol class=list-inline><li>89</li><li>10560</li></ol>\n"
      ],
      "text/latex": [
       "\\begin{enumerate*}\n",
       "\\item 89\n",
       "\\item 10560\n",
       "\\end{enumerate*}\n"
      ],
      "text/markdown": [
       "1. 89\n",
       "2. 10560\n",
       "\n",
       "\n"
      ],
      "text/plain": [
       "[1]    89 10560"
      ]
     },
     "metadata": {},
     "output_type": "display_data"
    },
    {
     "data": {
      "text/html": [
       "<table class=\"dataframe\">\n",
       "<caption>A matrix: 1 × 7 of type dbl</caption>\n",
       "<thead>\n",
       "\t<tr><th scope=col>0%</th><th scope=col>5%</th><th scope=col>25%</th><th scope=col>50%</th><th scope=col>75%</th><th scope=col>95%</th><th scope=col>100%</th></tr>\n",
       "</thead>\n",
       "<tbody>\n",
       "\t<tr><td>-99.89212</td><td>-26.2773</td><td>0</td><td>0</td><td>0</td><td>36.85242</td><td>99.9001</td></tr>\n",
       "</tbody>\n",
       "</table>\n"
      ],
      "text/latex": [
       "A matrix: 1 × 7 of type dbl\n",
       "\\begin{tabular}{lllllll}\n",
       " 0\\% & 5\\% & 25\\% & 50\\% & 75\\% & 95\\% & 100\\%\\\\\n",
       "\\hline\n",
       "\t -99.89212 & -26.2773 & 0 & 0 & 0 & 36.85242 & 99.9001\\\\\n",
       "\\end{tabular}\n"
      ],
      "text/markdown": [
       "\n",
       "A matrix: 1 × 7 of type dbl\n",
       "\n",
       "| 0% | 5% | 25% | 50% | 75% | 95% | 100% |\n",
       "|---|---|---|---|---|---|---|\n",
       "| -99.89212 | -26.2773 | 0 | 0 | 0 | 36.85242 | 99.9001 |\n",
       "\n"
      ],
      "text/plain": [
       "     0%        5%       25% 50% 75% 95%      100%   \n",
       "[1,] -99.89212 -26.2773 0   0   0   36.85242 99.9001"
      ]
     },
     "metadata": {},
     "output_type": "display_data"
    }
   ],
   "source": [
    "(pd.data = pd[, 28:(ncol(pd))]) %>% dim\n",
    "pd.data %>% flatten %>% unlist %>% quantile(.,probs = c(0,0.05,.25,.5,.75,.95,1)) %>% t\n"
   ]
  },
  {
   "cell_type": "code",
   "execution_count": 6,
   "id": "rocky-authority",
   "metadata": {},
   "outputs": [
    {
     "data": {
      "image/png": "[encoded data removed]",
      "text/plain": [
       "plot without title"
      ]
     },
     "metadata": {
      "image/png": {
       "height": 240,
       "width": 300
      }
     },
     "output_type": "display_data"
    }
   ],
   "source": [
    "options(repr.plot.width = 5, repr.plot.height = 4)\n",
    "data.frame(value = pd.data %>% flatten %>% unlist) %>% ggplot(., aes(value)) + geom_density(color = \"darkblue\", \n",
    "    fill = \"lightblue\") + theme_bw(base_size = 16)"
   ]
  },
  {
   "cell_type": "markdown",
   "id": "whole-conservative",
   "metadata": {},
   "source": [
    "### Gene score matrix"
   ]
  },
  {
   "cell_type": "code",
   "execution_count": 5,
   "id": "bronze-yemen",
   "metadata": {},
   "outputs": [
    {
     "data": {
      "text/html": [
       "<table class=\"dataframe\">\n",
       "<caption>A data.table: 1 × 10</caption>\n",
       "<thead>\n",
       "\t<tr><th scope=col>Time_BiosetID</th><th scope=col>Lab</th><th scope=col>March1</th><th scope=col>43891</th><th scope=col>43892</th><th scope=col>March2</th><th scope=col>March3</th><th scope=col>March5</th><th scope=col>March6</th><th scope=col>44075</th></tr>\n",
       "\t<tr><th scope=col>&lt;chr&gt;</th><th scope=col>&lt;chr&gt;</th><th scope=col>&lt;dbl&gt;</th><th scope=col>&lt;dbl&gt;</th><th scope=col>&lt;dbl&gt;</th><th scope=col>&lt;dbl&gt;</th><th scope=col>&lt;dbl&gt;</th><th scope=col>&lt;dbl&gt;</th><th scope=col>&lt;dbl&gt;</th><th scope=col>&lt;dbl&gt;</th></tr>\n",
       "</thead>\n",
       "<tbody>\n",
       "\t<tr><td>0.5_867451</td><td>Michael Katze - University of Washington</td><td>0</td><td>0</td><td>0</td><td>0</td><td>0</td><td>0</td><td>0</td><td>0</td></tr>\n",
       "</tbody>\n",
       "</table>\n"
      ],
      "text/latex": [
       "A data.table: 1 × 10\n",
       "\\begin{tabular}{llllllllll}\n",
       " Time\\_BiosetID & Lab & March1 & 43891 & 43892 & March2 & March3 & March5 & March6 & 44075\\\\\n",
       " <chr> & <chr> & <dbl> & <dbl> & <dbl> & <dbl> & <dbl> & <dbl> & <dbl> & <dbl>\\\\\n",
       "\\hline\n",
       "\t 0.5\\_867451 & Michael Katze - University of Washington & 0 & 0 & 0 & 0 & 0 & 0 & 0 & 0\\\\\n",
       "\\end{tabular}\n"
      ],
      "text/markdown": [
       "\n",
       "A data.table: 1 × 10\n",
       "\n",
       "| Time_BiosetID &lt;chr&gt; | Lab &lt;chr&gt; | March1 &lt;dbl&gt; | 43891 &lt;dbl&gt; | 43892 &lt;dbl&gt; | March2 &lt;dbl&gt; | March3 &lt;dbl&gt; | March5 &lt;dbl&gt; | March6 &lt;dbl&gt; | 44075 &lt;dbl&gt; |\n",
       "|---|---|---|---|---|---|---|---|---|---|\n",
       "| 0.5_867451 | Michael Katze - University of Washington | 0 | 0 | 0 | 0 | 0 | 0 | 0 | 0 |\n",
       "\n"
      ],
      "text/plain": [
       "  Time_BiosetID Lab                                      March1 43891 43892\n",
       "1 0.5_867451    Michael Katze - University of Washington 0      0     0    \n",
       "  March2 March3 March5 March6 44075\n",
       "1 0      0      0      0      0    "
      ]
     },
     "metadata": {},
     "output_type": "display_data"
    },
    {
     "data": {
      "text/plain": [
       ".\n",
       "      0_NA 0.5_867451 0.5_867454 0.5_867457 0.5_867478 0.5_867481 0.5_867484 \n",
       "        15          1          1          1          1          1          1 \n",
       "  1_494014   1_494017   1_494020   1_494023   1_821644   1_823390   1_839425 \n",
       "         1          1          1          1          1          1          1 \n",
       "  1_839437   1_867460   1_867463   1_867466   1_867487   1_867490   1_867493 \n",
       "         1          1          1          1          1          1          1 \n",
       "  1_926614  2_1326109   2_494026   2_494029   2_494032   2_494035   2_821650 \n",
       "         1          1          1          1          1          1          1 \n",
       "  2_823396   2_833449   2_839428   2_839440   2_867469   2_867472   2_867475 \n",
       "         1          1          1          1          1          1          1 \n",
       "  2_867496   2_867499   2_867502   2_926620   2_957616   2_995281   4_494038 \n",
       "         1          1          1          1          1          1          1 \n",
       "  4_494041   4_494044   4_494047   4_685187   4_685193   4_685244   4_821656 \n",
       "         1          1          1          1          1          1          1 \n",
       "  4_823402   4_833452   4_834109   4_839431   4_839443   4_840316   4_867505 \n",
       "         1          1          1          1          1          1          1 \n",
       "  4_867508   4_867511   4_957619   4_995284   7_494011   7_494050   7_494053 \n",
       "         1          1          1          1          1          1          1 \n",
       "  7_494056   7_685178   7_685217   7_685247   7_821662   7_823408   7_833455 \n",
       "         1          1          1          1          1          1          1 \n",
       "  7_834112   7_839434   7_839446   7_840319   7_995287 \n",
       "         1          1          1          1          1 "
      ]
     },
     "metadata": {},
     "output_type": "display_data"
    }
   ],
   "source": [
    "pd[, c(1:2, 23:31)] %>% unite(\"Time_BiosetID\", c(2, 1), sep = \"_\") %>% head(1)\n",
    "pd[, c(1:2, 24)] %>% unite(\"Time_BiosetID\", c(2, 1), sep = \"_\") %>% pull(Time_BiosetID) %>% \n",
    "    table\n"
   ]
  },
  {
   "cell_type": "code",
   "execution_count": 6,
   "id": "israeli-facing",
   "metadata": {},
   "outputs": [
    {
     "data": {
      "text/html": [
       "<table class=\"dataframe\">\n",
       "<caption>A data.table: 6 × 8</caption>\n",
       "<thead>\n",
       "\t<tr><th scope=col>Time_BiosetID</th><th scope=col>March1</th><th scope=col>43891</th><th scope=col>43892</th><th scope=col>March2</th><th scope=col>March3</th><th scope=col>March5</th><th scope=col>March6</th></tr>\n",
       "\t<tr><th scope=col>&lt;chr&gt;</th><th scope=col>&lt;dbl&gt;</th><th scope=col>&lt;dbl&gt;</th><th scope=col>&lt;dbl&gt;</th><th scope=col>&lt;dbl&gt;</th><th scope=col>&lt;dbl&gt;</th><th scope=col>&lt;dbl&gt;</th><th scope=col>&lt;dbl&gt;</th></tr>\n",
       "</thead>\n",
       "<tbody>\n",
       "\t<tr><td>0.5_867451</td><td>0</td><td>0</td><td> 0.00000</td><td>0</td><td>0</td><td>0</td><td>0</td></tr>\n",
       "\t<tr><td>0.5_867454</td><td>0</td><td>0</td><td> 0.00000</td><td>0</td><td>0</td><td>0</td><td>0</td></tr>\n",
       "\t<tr><td>0.5_867457</td><td>0</td><td>0</td><td> 0.00000</td><td>0</td><td>0</td><td>0</td><td>0</td></tr>\n",
       "\t<tr><td>0.5_867478</td><td>0</td><td>0</td><td> 0.00000</td><td>0</td><td>0</td><td>0</td><td>0</td></tr>\n",
       "\t<tr><td>0.5_867481</td><td>0</td><td>0</td><td> 0.00000</td><td>0</td><td>0</td><td>0</td><td>0</td></tr>\n",
       "\t<tr><td>0.5_867484</td><td>0</td><td>0</td><td>57.39144</td><td>0</td><td>0</td><td>0</td><td>0</td></tr>\n",
       "</tbody>\n",
       "</table>\n"
      ],
      "text/latex": [
       "A data.table: 6 × 8\n",
       "\\begin{tabular}{llllllll}\n",
       " Time\\_BiosetID & March1 & 43891 & 43892 & March2 & March3 & March5 & March6\\\\\n",
       " <chr> & <dbl> & <dbl> & <dbl> & <dbl> & <dbl> & <dbl> & <dbl>\\\\\n",
       "\\hline\n",
       "\t 0.5\\_867451 & 0 & 0 &  0.00000 & 0 & 0 & 0 & 0\\\\\n",
       "\t 0.5\\_867454 & 0 & 0 &  0.00000 & 0 & 0 & 0 & 0\\\\\n",
       "\t 0.5\\_867457 & 0 & 0 &  0.00000 & 0 & 0 & 0 & 0\\\\\n",
       "\t 0.5\\_867478 & 0 & 0 &  0.00000 & 0 & 0 & 0 & 0\\\\\n",
       "\t 0.5\\_867481 & 0 & 0 &  0.00000 & 0 & 0 & 0 & 0\\\\\n",
       "\t 0.5\\_867484 & 0 & 0 & 57.39144 & 0 & 0 & 0 & 0\\\\\n",
       "\\end{tabular}\n"
      ],
      "text/markdown": [
       "\n",
       "A data.table: 6 × 8\n",
       "\n",
       "| Time_BiosetID &lt;chr&gt; | March1 &lt;dbl&gt; | 43891 &lt;dbl&gt; | 43892 &lt;dbl&gt; | March2 &lt;dbl&gt; | March3 &lt;dbl&gt; | March5 &lt;dbl&gt; | March6 &lt;dbl&gt; |\n",
       "|---|---|---|---|---|---|---|---|\n",
       "| 0.5_867451 | 0 | 0 |  0.00000 | 0 | 0 | 0 | 0 |\n",
       "| 0.5_867454 | 0 | 0 |  0.00000 | 0 | 0 | 0 | 0 |\n",
       "| 0.5_867457 | 0 | 0 |  0.00000 | 0 | 0 | 0 | 0 |\n",
       "| 0.5_867478 | 0 | 0 |  0.00000 | 0 | 0 | 0 | 0 |\n",
       "| 0.5_867481 | 0 | 0 |  0.00000 | 0 | 0 | 0 | 0 |\n",
       "| 0.5_867484 | 0 | 0 | 57.39144 | 0 | 0 | 0 | 0 |\n",
       "\n"
      ],
      "text/plain": [
       "  Time_BiosetID March1 43891 43892    March2 March3 March5 March6\n",
       "1 0.5_867451    0      0      0.00000 0      0      0      0     \n",
       "2 0.5_867454    0      0      0.00000 0      0      0      0     \n",
       "3 0.5_867457    0      0      0.00000 0      0      0      0     \n",
       "4 0.5_867478    0      0      0.00000 0      0      0      0     \n",
       "5 0.5_867481    0      0      0.00000 0      0      0      0     \n",
       "6 0.5_867484    0      0     57.39144 0      0      0      0     "
      ]
     },
     "metadata": {},
     "output_type": "display_data"
    }
   ],
   "source": [
    "pd[, c(1:2, 24:30)] %>% unite(\"Time_BiosetID\", c(2, 1), sep = \"_\") %>% filter(!Time_BiosetID %>% \n",
    "    grepl(\"NA\", .)) %>% head\n",
    "pd.data <- pd %>% select(c(1:2, 24:(ncol(pd)))) %>% unite(\"Time_BiosetID\", c(2, 1), \n",
    "    sep = \"_\") %>% filter(!Time_BiosetID %>% grepl(\"NA\", .)) %>% t %>% as.data.frame"
   ]
  },
  {
   "cell_type": "code",
   "execution_count": 8,
   "id": "roman-introduction",
   "metadata": {},
   "outputs": [
    {
     "data": {
      "text/html": [
       "<table class=\"dataframe\">\n",
       "<caption>A data.frame: 6 × 74</caption>\n",
       "<thead>\n",
       "\t<tr><th></th><th scope=col>0.5_867451</th><th scope=col>0.5_867454</th><th scope=col>0.5_867457</th><th scope=col>0.5_867478</th><th scope=col>0.5_867481</th><th scope=col>0.5_867484</th><th scope=col>1_926614</th><th scope=col>1_494014</th><th scope=col>1_494017</th><th scope=col>1_494020</th><th scope=col>⋯</th><th scope=col>7_685178</th><th scope=col>7_685217</th><th scope=col>7_821662</th><th scope=col>7_823408</th><th scope=col>7_839434</th><th scope=col>7_839446</th><th scope=col>7_833455</th><th scope=col>7_840319</th><th scope=col>7_834112</th><th scope=col>7_995287</th></tr>\n",
       "\t<tr><th></th><th scope=col>&lt;chr&gt;</th><th scope=col>&lt;chr&gt;</th><th scope=col>&lt;chr&gt;</th><th scope=col>&lt;chr&gt;</th><th scope=col>&lt;chr&gt;</th><th scope=col>&lt;chr&gt;</th><th scope=col>&lt;chr&gt;</th><th scope=col>&lt;chr&gt;</th><th scope=col>&lt;chr&gt;</th><th scope=col>&lt;chr&gt;</th><th scope=col>⋯</th><th scope=col>&lt;chr&gt;</th><th scope=col>&lt;chr&gt;</th><th scope=col>&lt;chr&gt;</th><th scope=col>&lt;chr&gt;</th><th scope=col>&lt;chr&gt;</th><th scope=col>&lt;chr&gt;</th><th scope=col>&lt;chr&gt;</th><th scope=col>&lt;chr&gt;</th><th scope=col>&lt;chr&gt;</th><th scope=col>&lt;chr&gt;</th></tr>\n",
       "</thead>\n",
       "<tbody>\n",
       "\t<tr><th scope=row>March1</th><td>  0.00000 </td><td>  0.00000 </td><td>  0.00000 </td><td>  0.00000 </td><td>  0.00000 </td><td>  0.00000 </td><td>  0.00000 </td><td>  0.00000 </td><td>  0.00000 </td><td>  0.00000 </td><td>⋯</td><td>  0.00000 </td><td>  0.00000 </td><td>  0.00000 </td><td>  0.00000 </td><td>  0.00000 </td><td>  0.00000 </td><td>  0.00000 </td><td>  0.00000 </td><td>  0.00000 </td><td>  0.00000 </td></tr>\n",
       "\t<tr><th scope=row>43891</th><td>  0.00000 </td><td>  0.00000 </td><td>  0.00000 </td><td>  0.00000 </td><td>  0.00000 </td><td>  0.00000 </td><td>  0.00000 </td><td>  0.00000 </td><td>  0.00000 </td><td>  0.00000 </td><td>⋯</td><td>  0.00000 </td><td>  0.00000 </td><td>  0.00000 </td><td>  0.00000 </td><td>  0.00000 </td><td>  0.00000 </td><td>  0.00000 </td><td>  0.00000 </td><td>  0.00000 </td><td>  0.00000 </td></tr>\n",
       "\t<tr><th scope=row>43892</th><td> 0.00000  </td><td> 0.00000  </td><td> 0.00000  </td><td> 0.00000  </td><td> 0.00000  </td><td>57.39144  </td><td> 0.00000  </td><td> 0.00000  </td><td> 0.00000  </td><td> 0.00000  </td><td>⋯</td><td> 0.00000  </td><td> 0.00000  </td><td> 0.00000  </td><td> 0.00000  </td><td> 0.00000  </td><td> 0.00000  </td><td> 0.00000  </td><td> 0.00000  </td><td> 0.00000  </td><td> 0.00000  </td></tr>\n",
       "\t<tr><th scope=row>March2</th><td>  0.000000</td><td>  0.000000</td><td>  0.000000</td><td>  0.000000</td><td>  0.000000</td><td>  0.000000</td><td>  0.000000</td><td> 26.685596</td><td> 18.366350</td><td>  0.000000</td><td>⋯</td><td>  0.000000</td><td>  0.000000</td><td>  0.000000</td><td>  0.000000</td><td>  0.000000</td><td>  0.000000</td><td>  0.000000</td><td>  0.000000</td><td>  0.000000</td><td>  0.000000</td></tr>\n",
       "\t<tr><th scope=row>March3</th><td>  0.000000</td><td>  0.000000</td><td>  0.000000</td><td>  0.000000</td><td>  0.000000</td><td>  0.000000</td><td>-43.717376</td><td> 21.139951</td><td> 25.225516</td><td> 13.911069</td><td>⋯</td><td>  0.000000</td><td>  0.000000</td><td>  0.000000</td><td>  0.000000</td><td>  0.000000</td><td>  0.000000</td><td>  0.000000</td><td>  0.000000</td><td>  0.000000</td><td>  0.000000</td></tr>\n",
       "\t<tr><th scope=row>March5</th><td> 0.00000  </td><td> 0.00000  </td><td> 0.00000  </td><td> 0.00000  </td><td> 0.00000  </td><td> 0.00000  </td><td>43.71738  </td><td> 0.00000  </td><td> 0.00000  </td><td> 0.00000  </td><td>⋯</td><td> 0.00000  </td><td> 0.00000  </td><td> 0.00000  </td><td> 0.00000  </td><td> 0.00000  </td><td> 0.00000  </td><td> 0.00000  </td><td> 0.00000  </td><td> 0.00000  </td><td> 0.00000  </td></tr>\n",
       "</tbody>\n",
       "</table>\n"
      ],
      "text/latex": [
       "A data.frame: 6 × 74\n",
       "\\begin{tabular}{r|lllllllllllllllllllll}\n",
       "  & 0.5\\_867451 & 0.5\\_867454 & 0.5\\_867457 & 0.5\\_867478 & 0.5\\_867481 & 0.5\\_867484 & 1\\_926614 & 1\\_494014 & 1\\_494017 & 1\\_494020 & ⋯ & 7\\_685178 & 7\\_685217 & 7\\_821662 & 7\\_823408 & 7\\_839434 & 7\\_839446 & 7\\_833455 & 7\\_840319 & 7\\_834112 & 7\\_995287\\\\\n",
       "  & <chr> & <chr> & <chr> & <chr> & <chr> & <chr> & <chr> & <chr> & <chr> & <chr> & ⋯ & <chr> & <chr> & <chr> & <chr> & <chr> & <chr> & <chr> & <chr> & <chr> & <chr>\\\\\n",
       "\\hline\n",
       "\tMarch1 &   0.00000  &   0.00000  &   0.00000  &   0.00000  &   0.00000  &   0.00000  &   0.00000  &   0.00000  &   0.00000  &   0.00000  & ⋯ &   0.00000  &   0.00000  &   0.00000  &   0.00000  &   0.00000  &   0.00000  &   0.00000  &   0.00000  &   0.00000  &   0.00000 \\\\\n",
       "\t43891 &   0.00000  &   0.00000  &   0.00000  &   0.00000  &   0.00000  &   0.00000  &   0.00000  &   0.00000  &   0.00000  &   0.00000  & ⋯ &   0.00000  &   0.00000  &   0.00000  &   0.00000  &   0.00000  &   0.00000  &   0.00000  &   0.00000  &   0.00000  &   0.00000 \\\\\n",
       "\t43892 &  0.00000   &  0.00000   &  0.00000   &  0.00000   &  0.00000   & 57.39144   &  0.00000   &  0.00000   &  0.00000   &  0.00000   & ⋯ &  0.00000   &  0.00000   &  0.00000   &  0.00000   &  0.00000   &  0.00000   &  0.00000   &  0.00000   &  0.00000   &  0.00000  \\\\\n",
       "\tMarch2 &   0.000000 &   0.000000 &   0.000000 &   0.000000 &   0.000000 &   0.000000 &   0.000000 &  26.685596 &  18.366350 &   0.000000 & ⋯ &   0.000000 &   0.000000 &   0.000000 &   0.000000 &   0.000000 &   0.000000 &   0.000000 &   0.000000 &   0.000000 &   0.000000\\\\\n",
       "\tMarch3 &   0.000000 &   0.000000 &   0.000000 &   0.000000 &   0.000000 &   0.000000 & -43.717376 &  21.139951 &  25.225516 &  13.911069 & ⋯ &   0.000000 &   0.000000 &   0.000000 &   0.000000 &   0.000000 &   0.000000 &   0.000000 &   0.000000 &   0.000000 &   0.000000\\\\\n",
       "\tMarch5 &  0.00000   &  0.00000   &  0.00000   &  0.00000   &  0.00000   &  0.00000   & 43.71738   &  0.00000   &  0.00000   &  0.00000   & ⋯ &  0.00000   &  0.00000   &  0.00000   &  0.00000   &  0.00000   &  0.00000   &  0.00000   &  0.00000   &  0.00000   &  0.00000  \\\\\n",
       "\\end{tabular}\n"
      ],
      "text/markdown": [
       "\n",
       "A data.frame: 6 × 74\n",
       "\n",
       "| <!--/--> | 0.5_867451 &lt;chr&gt; | 0.5_867454 &lt;chr&gt; | 0.5_867457 &lt;chr&gt; | 0.5_867478 &lt;chr&gt; | 0.5_867481 &lt;chr&gt; | 0.5_867484 &lt;chr&gt; | 1_926614 &lt;chr&gt; | 1_494014 &lt;chr&gt; | 1_494017 &lt;chr&gt; | 1_494020 &lt;chr&gt; | ⋯ ⋯ | 7_685178 &lt;chr&gt; | 7_685217 &lt;chr&gt; | 7_821662 &lt;chr&gt; | 7_823408 &lt;chr&gt; | 7_839434 &lt;chr&gt; | 7_839446 &lt;chr&gt; | 7_833455 &lt;chr&gt; | 7_840319 &lt;chr&gt; | 7_834112 &lt;chr&gt; | 7_995287 &lt;chr&gt; |\n",
       "|---|---|---|---|---|---|---|---|---|---|---|---|---|---|---|---|---|---|---|---|---|---|\n",
       "| March1 |   0.00000  |   0.00000  |   0.00000  |   0.00000  |   0.00000  |   0.00000  |   0.00000  |   0.00000  |   0.00000  |   0.00000  | ⋯ |   0.00000  |   0.00000  |   0.00000  |   0.00000  |   0.00000  |   0.00000  |   0.00000  |   0.00000  |   0.00000  |   0.00000  |\n",
       "| 43891 |   0.00000  |   0.00000  |   0.00000  |   0.00000  |   0.00000  |   0.00000  |   0.00000  |   0.00000  |   0.00000  |   0.00000  | ⋯ |   0.00000  |   0.00000  |   0.00000  |   0.00000  |   0.00000  |   0.00000  |   0.00000  |   0.00000  |   0.00000  |   0.00000  |\n",
       "| 43892 |  0.00000   |  0.00000   |  0.00000   |  0.00000   |  0.00000   | 57.39144   |  0.00000   |  0.00000   |  0.00000   |  0.00000   | ⋯ |  0.00000   |  0.00000   |  0.00000   |  0.00000   |  0.00000   |  0.00000   |  0.00000   |  0.00000   |  0.00000   |  0.00000   |\n",
       "| March2 |   0.000000 |   0.000000 |   0.000000 |   0.000000 |   0.000000 |   0.000000 |   0.000000 |  26.685596 |  18.366350 |   0.000000 | ⋯ |   0.000000 |   0.000000 |   0.000000 |   0.000000 |   0.000000 |   0.000000 |   0.000000 |   0.000000 |   0.000000 |   0.000000 |\n",
       "| March3 |   0.000000 |   0.000000 |   0.000000 |   0.000000 |   0.000000 |   0.000000 | -43.717376 |  21.139951 |  25.225516 |  13.911069 | ⋯ |   0.000000 |   0.000000 |   0.000000 |   0.000000 |   0.000000 |   0.000000 |   0.000000 |   0.000000 |   0.000000 |   0.000000 |\n",
       "| March5 |  0.00000   |  0.00000   |  0.00000   |  0.00000   |  0.00000   |  0.00000   | 43.71738   |  0.00000   |  0.00000   |  0.00000   | ⋯ |  0.00000   |  0.00000   |  0.00000   |  0.00000   |  0.00000   |  0.00000   |  0.00000   |  0.00000   |  0.00000   |  0.00000   |\n",
       "\n"
      ],
      "text/plain": [
       "       0.5_867451 0.5_867454 0.5_867457 0.5_867478 0.5_867481 0.5_867484\n",
       "March1   0.00000    0.00000    0.00000    0.00000    0.00000    0.00000 \n",
       "43891    0.00000    0.00000    0.00000    0.00000    0.00000    0.00000 \n",
       "43892   0.00000    0.00000    0.00000    0.00000    0.00000   57.39144  \n",
       "March2   0.000000   0.000000   0.000000   0.000000   0.000000   0.000000\n",
       "March3   0.000000   0.000000   0.000000   0.000000   0.000000   0.000000\n",
       "March5  0.00000    0.00000    0.00000    0.00000    0.00000    0.00000  \n",
       "       1_926614   1_494014   1_494017   1_494020   ⋯ 7_685178   7_685217  \n",
       "March1   0.00000    0.00000    0.00000    0.00000  ⋯   0.00000    0.00000 \n",
       "43891    0.00000    0.00000    0.00000    0.00000  ⋯   0.00000    0.00000 \n",
       "43892   0.00000    0.00000    0.00000    0.00000   ⋯  0.00000    0.00000  \n",
       "March2   0.000000  26.685596  18.366350   0.000000 ⋯   0.000000   0.000000\n",
       "March3 -43.717376  21.139951  25.225516  13.911069 ⋯   0.000000   0.000000\n",
       "March5 43.71738    0.00000    0.00000    0.00000   ⋯  0.00000    0.00000  \n",
       "       7_821662   7_823408   7_839434   7_839446   7_833455   7_840319  \n",
       "March1   0.00000    0.00000    0.00000    0.00000    0.00000    0.00000 \n",
       "43891    0.00000    0.00000    0.00000    0.00000    0.00000    0.00000 \n",
       "43892   0.00000    0.00000    0.00000    0.00000    0.00000    0.00000  \n",
       "March2   0.000000   0.000000   0.000000   0.000000   0.000000   0.000000\n",
       "March3   0.000000   0.000000   0.000000   0.000000   0.000000   0.000000\n",
       "March5  0.00000    0.00000    0.00000    0.00000    0.00000    0.00000  \n",
       "       7_834112   7_995287  \n",
       "March1   0.00000    0.00000 \n",
       "43891    0.00000    0.00000 \n",
       "43892   0.00000    0.00000  \n",
       "March2   0.000000   0.000000\n",
       "March3   0.000000   0.000000\n",
       "March5  0.00000    0.00000  "
      ]
     },
     "metadata": {},
     "output_type": "display_data"
    },
    {
     "data": {
      "text/html": [
       "<style>\n",
       ".list-inline {list-style: none; margin:0; padding: 0}\n",
       ".list-inline>li {display: inline-block}\n",
       ".list-inline>li:not(:last-child)::after {content: \"\\00b7\"; padding: 0 .5ex}\n",
       "</style>\n",
       "<ol class=list-inline><li>10564</li><li>74</li></ol>\n"
      ],
      "text/latex": [
       "\\begin{enumerate*}\n",
       "\\item 10564\n",
       "\\item 74\n",
       "\\end{enumerate*}\n"
      ],
      "text/markdown": [
       "1. 10564\n",
       "2. 74\n",
       "\n",
       "\n"
      ],
      "text/plain": [
       "[1] 10564    74"
      ]
     },
     "metadata": {},
     "output_type": "display_data"
    }
   ],
   "source": [
    "colnames(pd.data) <- pd.data[\"Time_BiosetID\", ] %>% as.vector\n",
    "pd.data <- pd.data[2:nrow(pd.data), ]\n",
    "pd.data %>% head\n",
    "pd.data %>% dim"
   ]
  },
  {
   "cell_type": "code",
   "execution_count": 31,
   "id": "lucky-disease",
   "metadata": {},
   "outputs": [
    {
     "data": {
      "text/plain": [
       ".\n",
       " FALSE   TRUE \n",
       "229834 551902 "
      ]
     },
     "metadata": {},
     "output_type": "display_data"
    },
    {
     "name": "stdout",
     "output_type": "stream",
     "text": [
      "Sparsity =  70.6 %\n"
     ]
    }
   ],
   "source": [
    "(a=(pd.data %>% flatten  %>% unlist %>% as.numeric==0) %>% table)\n",
    "cat(\"Sparsity = \",round(a[['TRUE']]/sum(a)*100,2),\"%\\n\")"
   ]
  },
  {
   "cell_type": "code",
   "execution_count": 15,
   "id": "colored-physiology",
   "metadata": {},
   "outputs": [
    {
     "data": {
      "image/png": "[encoded data removed]",
      "text/plain": [
       "plot without title"
      ]
     },
     "metadata": {
      "image/png": {
       "height": 240,
       "width": 300
      }
     },
     "output_type": "display_data"
    }
   ],
   "source": [
    "options(repr.plot.width = 5, repr.plot.height = 4)\n",
    "data.frame(value = pd.data %>% flatten %>% unlist %>% as.numeric) %>% ggplot(., aes(value)) + \n",
    "    geom_density(color = \"darkblue\", fill = \"lightblue\") + theme_bw(base_size = 16)"
   ]
  },
  {
   "cell_type": "code",
   "execution_count": 43,
   "id": "systematic-arena",
   "metadata": {
    "scrolled": false
   },
   "outputs": [
    {
     "data": {
      "image/png": "[encoded data removed]",
      "text/plain": [
       "Plot with title “Row mins”"
      ]
     },
     "metadata": {
      "image/png": {
       "height": 240,
       "width": 300
      }
     },
     "output_type": "display_data"
    },
    {
     "data": {
      "image/png": "[encoded data removed]",
      "text/plain": [
       "Plot with title “Row maxs”"
      ]
     },
     "metadata": {
      "image/png": {
       "height": 240,
       "width": 300
      }
     },
     "output_type": "display_data"
    }
   ],
   "source": [
    "plot(pd.data %>% apply(1,min) %>% as.vector %>%as.numeric %>%  density(.),main = 'Row mins')\n",
    "plot(pd.data %>% apply(1,max) %>% as.vector %>%as.numeric %>%  density(.),main = 'Row maxs')"
   ]
  },
  {
   "cell_type": "code",
   "execution_count": 44,
   "id": "union-doubt",
   "metadata": {},
   "outputs": [
    {
     "data": {
      "text/plain": [
       "\n",
       "FALSE \n",
       "10564 "
      ]
     },
     "metadata": {},
     "output_type": "display_data"
    }
   ],
   "source": [
    "table((pd.data %>% apply(1, min) %>% as.vector %>% as.numeric) == (pd.data %>% apply(1, \n",
    "    max) %>% as.vector %>% as.numeric))"
   ]
  },
  {
   "cell_type": "code",
   "execution_count": 45,
   "id": "associate-paradise",
   "metadata": {},
   "outputs": [],
   "source": [
    "fwrite(pd.data,'../data_processed/plot_dat.csv',row.names = T)"
   ]
  },
  {
   "cell_type": "markdown",
   "id": "pretty-decision",
   "metadata": {},
   "source": [
    "### Target variables"
   ]
  },
  {
   "cell_type": "code",
   "execution_count": 13,
   "id": "above-tissue",
   "metadata": {},
   "outputs": [
    {
     "data": {
      "text/html": [
       "<style>\n",
       ".list-inline {list-style: none; margin:0; padding: 0}\n",
       ".list-inline>li {display: inline-block}\n",
       ".list-inline>li:not(:last-child)::after {content: \"\\00b7\"; padding: 0 .5ex}\n",
       "</style>\n",
       "<ol class=list-inline><li>0</li><li>0</li></ol>\n"
      ],
      "text/latex": [
       "\\begin{enumerate*}\n",
       "\\item 0\n",
       "\\item 0\n",
       "\\end{enumerate*}\n"
      ],
      "text/markdown": [
       "1. 0\n",
       "2. 0\n",
       "\n",
       "\n"
      ],
      "text/plain": [
       "[1] 0 0"
      ]
     },
     "metadata": {},
     "output_type": "display_data"
    }
   ],
   "source": [
    "## baseline, timepoint= 0 \n",
    "baseline.data <- pd[pd$`Day Post-Infection`==0,]\n",
    "baseline.data[,24:ncol(baseline.data)] %>% range"
   ]
  },
  {
   "cell_type": "code",
   "execution_count": 34,
   "id": "hispanic-fluid",
   "metadata": {
    "scrolled": false
   },
   "outputs": [
    {
     "data": {
      "text/html": [
       "<table class=\"dataframe\">\n",
       "<caption>A data.table: 1 × 24</caption>\n",
       "<thead>\n",
       "\t<tr><th scope=col>Bioset ID of SARS CoV-Round3BV2_74 Biosets_wZero Time Point.jmp</th><th scope=col>Day Post-Infection</th><th scope=col>Species</th><th scope=col>GEO ID, link</th><th scope=col>Study name</th><th scope=col>Bioset name</th><th scope=col>Test Samples</th><th scope=col>Control Samples</th><th scope=col>Feature Size</th><th scope=col>Article PubMed ID</th><th scope=col>⋯</th><th scope=col>Viral Severity</th><th scope=col>Sample Source (strain, cell)</th><th scope=col>Host Mouse Strain</th><th scope=col>Sex</th><th scope=col>Host Age Category</th><th scope=col>Host Age Cat</th><th scope=col>Host Age</th><th scope=col>Technology</th><th scope=col>Lab</th><th scope=col>March1</th></tr>\n",
       "\t<tr><th scope=col>&lt;int&gt;</th><th scope=col>&lt;dbl&gt;</th><th scope=col>&lt;chr&gt;</th><th scope=col>&lt;chr&gt;</th><th scope=col>&lt;chr&gt;</th><th scope=col>&lt;chr&gt;</th><th scope=col>&lt;int&gt;</th><th scope=col>&lt;int&gt;</th><th scope=col>&lt;int&gt;</th><th scope=col>&lt;chr&gt;</th><th scope=col>⋯</th><th scope=col>&lt;chr&gt;</th><th scope=col>&lt;chr&gt;</th><th scope=col>&lt;chr&gt;</th><th scope=col>&lt;chr&gt;</th><th scope=col>&lt;chr&gt;</th><th scope=col>&lt;chr&gt;</th><th scope=col>&lt;chr&gt;</th><th scope=col>&lt;chr&gt;</th><th scope=col>&lt;chr&gt;</th><th scope=col>&lt;dbl&gt;</th></tr>\n",
       "</thead>\n",
       "<tbody>\n",
       "\t<tr><td>867451</td><td>0.5</td><td>Mus musculus</td><td>GSE36969</td><td>Lungs from aged and young mice infected with mouse adapted SARS strains (Timecourse)</td><td>Lungs from 1yr old (aged) mice - 12hr post SARS MA15 strain infection _vs_ mock (PBS) infection</td><td>3</td><td>3</td><td>627</td><td>19420084</td><td>⋯</td><td></td><td>Lung</td><td>BALB/c</td><td>female</td><td>aged</td><td>3-aged (52 weeks old)</td><td>1yr</td><td>Agilent-014868 Whole Mouse Genome Microarray 4x44K G4122F</td><td>Michael Katze - University of Washington</td><td>0</td></tr>\n",
       "</tbody>\n",
       "</table>\n"
      ],
      "text/latex": [
       "A data.table: 1 × 24\n",
       "\\begin{tabular}{lllllllllllllllllllll}\n",
       " Bioset ID of SARS CoV-Round3BV2\\_74 Biosets\\_wZero Time Point.jmp & Day Post-Infection & Species & GEO ID, link & Study name & Bioset name & Test Samples & Control Samples & Feature Size & Article PubMed ID & ⋯ & Viral Severity & Sample Source (strain, cell) & Host Mouse Strain & Sex & Host Age Category & Host Age Cat & Host Age & Technology & Lab & March1\\\\\n",
       " <int> & <dbl> & <chr> & <chr> & <chr> & <chr> & <int> & <int> & <int> & <chr> & ⋯ & <chr> & <chr> & <chr> & <chr> & <chr> & <chr> & <chr> & <chr> & <chr> & <dbl>\\\\\n",
       "\\hline\n",
       "\t 867451 & 0.5 & Mus musculus & GSE36969 & Lungs from aged and young mice infected with mouse adapted SARS strains (Timecourse) & Lungs from 1yr old (aged) mice - 12hr post SARS MA15 strain infection \\_vs\\_ mock (PBS) infection & 3 & 3 & 627 & 19420084 & ⋯ &  & Lung & BALB/c & female & aged & 3-aged (52 weeks old) & 1yr & Agilent-014868 Whole Mouse Genome Microarray 4x44K G4122F & Michael Katze - University of Washington & 0\\\\\n",
       "\\end{tabular}\n"
      ],
      "text/markdown": [
       "\n",
       "A data.table: 1 × 24\n",
       "\n",
       "| Bioset ID of SARS CoV-Round3BV2_74 Biosets_wZero Time Point.jmp &lt;int&gt; | Day Post-Infection &lt;dbl&gt; | Species &lt;chr&gt; | GEO ID, link &lt;chr&gt; | Study name &lt;chr&gt; | Bioset name &lt;chr&gt; | Test Samples &lt;int&gt; | Control Samples &lt;int&gt; | Feature Size &lt;int&gt; | Article PubMed ID &lt;chr&gt; | ⋯ ⋯ | Viral Severity &lt;chr&gt; | Sample Source (strain, cell) &lt;chr&gt; | Host Mouse Strain &lt;chr&gt; | Sex &lt;chr&gt; | Host Age Category &lt;chr&gt; | Host Age Cat &lt;chr&gt; | Host Age &lt;chr&gt; | Technology &lt;chr&gt; | Lab &lt;chr&gt; | March1 &lt;dbl&gt; |\n",
       "|---|---|---|---|---|---|---|---|---|---|---|---|---|---|---|---|---|---|---|---|---|\n",
       "| 867451 | 0.5 | Mus musculus | GSE36969 | Lungs from aged and young mice infected with mouse adapted SARS strains (Timecourse) | Lungs from 1yr old (aged) mice - 12hr post SARS MA15 strain infection _vs_ mock (PBS) infection | 3 | 3 | 627 | 19420084 | ⋯ | <!----> | Lung | BALB/c | female | aged | 3-aged (52 weeks old) | 1yr | Agilent-014868 Whole Mouse Genome Microarray 4x44K G4122F | Michael Katze - University of Washington | 0 |\n",
       "\n"
      ],
      "text/plain": [
       "  Bioset ID of SARS CoV-Round3BV2_74 Biosets_wZero Time Point.jmp\n",
       "1 867451                                                         \n",
       "  Day Post-Infection Species      GEO ID, link\n",
       "1 0.5                Mus musculus GSE36969    \n",
       "  Study name                                                                          \n",
       "1 Lungs from aged and young mice infected with mouse adapted SARS strains (Timecourse)\n",
       "  Bioset name                                                                                    \n",
       "1 Lungs from 1yr old (aged) mice - 12hr post SARS MA15 strain infection _vs_ mock (PBS) infection\n",
       "  Test Samples Control Samples Feature Size Article PubMed ID ⋯ Viral Severity\n",
       "1 3            3               627          19420084          ⋯               \n",
       "  Sample Source (strain, cell) Host Mouse Strain Sex    Host Age Category\n",
       "1 Lung                         BALB/c            female aged             \n",
       "  Host Age Cat          Host Age\n",
       "1 3-aged (52 weeks old) 1yr     \n",
       "  Technology                                               \n",
       "1 Agilent-014868 Whole Mouse Genome Microarray 4x44K G4122F\n",
       "  Lab                                      March1\n",
       "1 Michael Katze - University of Washington 0     "
      ]
     },
     "metadata": {},
     "output_type": "display_data"
    }
   ],
   "source": [
    "# factorize\n",
    "pd[1, 1:24]\n",
    "meta.data <- pd[pd$`Day Post-Infection` != 0, 1:23] %>% unite(\"Time_BiosetID\", c(2, \n",
    "    1), sep = \"_\", remove = F) %>% select(-`Bioset ID of SARS CoV-Round3BV2_74 Biosets_wZero Time Point.jmp`) %>% \n",
    "    mutate_if(is.character, as.factor) %>% mutate(`Day Post-Infection` = as.factor(`Day Post-Infection`))"
   ]
  },
  {
   "cell_type": "code",
   "execution_count": 46,
   "id": "twelve-chemistry",
   "metadata": {},
   "outputs": [],
   "source": [
    "fwrite(meta.data, \"../data_processed/meta_data.csv\", row.names = T)"
   ]
  },
  {
   "cell_type": "code",
   "execution_count": 35,
   "id": "athletic-template",
   "metadata": {},
   "outputs": [
    {
     "data": {
      "text/plain": [
       "    Time_BiosetID Day Post-Infection         Species     GEO ID, link\n",
       " 0.5_867451: 1    0.5: 6             Mus musculus:74   GSE36969:21   \n",
       " 0.5_867454: 1    1  :15                               GSE33266:16   \n",
       " 0.5_867457: 1    2  :19                               GSE50000: 8   \n",
       " 0.5_867478: 1    4  :19                               GSE49262: 4   \n",
       " 0.5_867481: 1    7  :15                               GSE49263: 4   \n",
       " 0.5_867484: 1                                         GSE50878: 3   \n",
       " (Other)   :68                                         (Other) :18   \n",
       "                                                                                Study name\n",
       " Lungs from aged and young mice infected with mouse adapted SARS strains (Timecourse):21  \n",
       " Lung gene expression profiles of mice 2-7d following dosed SARS infection           :16  \n",
       " Lungs of mice infected with different strains of the SARS virus                     : 8  \n",
       " Lungs from mice infected with deltaORF6 mutant or wildtype SARS                     : 4  \n",
       " Lungs from mice infected with nsp16 mutant or wildtype SARS                         : 4  \n",
       " Lungs from CXCR3 knockouts infected with SARS MA15                                  : 3  \n",
       " (Other)                                                                             :18  \n",
       "                                                                                            Bioset name\n",
       " Lungs from wildtype mice infected 4d with SARS MA15 virus _vs_ 4d PBS controls                   : 3  \n",
       " Lungs from wildtype mice infected 7d with SARS MA15 virus _vs_ 7d PBS controls                   : 3  \n",
       " Lungs from 20wk mice 1d post infection with 1E5 PFU wildtype SARS MA15 strain _vs_ mock infection: 2  \n",
       " Lungs from 20wk mice 2d post infection with 1E5 PFU wildtype SARS MA15 strain _vs_ mock infection: 2  \n",
       " Lungs from 20wk mice 4d post infection with 1E5 PFU wildtype SARS MA15 strain _vs_ mock infection: 2  \n",
       " Lungs from 20wk mice 7d post infection with 1E5 PFU wildtype SARS MA15 strain _vs_ mock infection: 2  \n",
       " (Other)                                                                                          :60  \n",
       "  Test Samples   Control Samples  Feature Size   Article PubMed ID\n",
       " Min.   :2.000   Min.   :2.000   Min.   :  163   26015500:19      \n",
       " 1st Qu.:3.000   1st Qu.:3.000   1st Qu.: 4268   19420084:17      \n",
       " Median :4.000   Median :3.000   Median : 9082   25977790:16      \n",
       " Mean   :3.959   Mean   :3.149   Mean   : 8310   19420089: 4      \n",
       " 3rd Qu.:5.000   3rd Qu.:4.000   3rd Qu.:12775   23919993: 4      \n",
       " Max.   :9.000   Max.   :5.000   Max.   :16602   29976657: 4      \n",
       "                                                 (Other) :10      \n",
       "         Viral Strain SARS-CoV Strain               Viral Dose\n",
       " SARS-CoV-ic   : 4    0-ic   : 4      1,000 PFU          : 4  \n",
       " SARS-CoV-MA15 :54    1-TOR-2: 2      10,000 PFU         :35  \n",
       " SARS-CoV-MA15e: 7    2-MA15e: 7      10,000 PFU, 4x, 1/d: 1  \n",
       " SARS-CoV-MA15g: 7    3-MA15g: 7      100 PFU            : 4  \n",
       " SARS-CoV-TOR-2: 2    4-MA15 :54      100,000 PFU        :28  \n",
       "                                      22,000 PFU         : 2  \n",
       "                                                              \n",
       " Viral Dose (PFUs)            Viral Severity Sample Source (strain, cell)\n",
       " Min.   :   100                      :63     Lung:74                     \n",
       " 1st Qu.: 10000    lethal            : 3                                 \n",
       " Median : 10000    lethal to mice    : 4                                 \n",
       " Mean   : 43357    not lethal to mice: 4                                 \n",
       " 3rd Qu.:100000                                                          \n",
       " Max.   :100000                                                          \n",
       "                                                                         \n",
       " Host Mouse Strain     Sex     Host Age Category\n",
       " BALB/c   :21      ?     :16   adult:37         \n",
       " C57BL6   :19      female:58   aged : 9         \n",
       " C57BL/6NJ:16                  young:28         \n",
       " C57BL/6J : 7                                   \n",
       " C57BL6/J : 4                                   \n",
       " C57BL6/NJ: 3                                   \n",
       " (Other)  : 4                                   \n",
       "                    Host Age Cat    Host Age \n",
       " 1-young (<10 weeks old)  :28    20wk   :21  \n",
       " 2-adult (20-23 weeks old):37    23wk   :16  \n",
       " 3-aged (52 weeks old)    : 9    10wk   :11  \n",
       "                                 1yr    : 9  \n",
       "                                 8wks   : 9  \n",
       "                                 8wk    : 4  \n",
       "                                 (Other): 4  \n",
       "                                                     Technology\n",
       " Affymetrix Mouse Genome 430 2.0 Array                    : 2  \n",
       " Agilent-014868 Whole Mouse Genome Microarray 4x44K G4122F:71  \n",
       " Agilent-028005 SurePrint G3 Mouse GE 8x60K Microarray    : 1  \n",
       "                                                               \n",
       "                                                               \n",
       "                                                               \n",
       "                                                               \n",
       "                                                    Lab    \n",
       "                                                      : 1  \n",
       " David J Kelvin - Toronto General Research Institute  : 2  \n",
       " Luis Enjuanes - Universidad Autónoma de Madrid, Spain: 1  \n",
       " Michael Katze - University of Washington             :70  \n",
       "                                                           \n",
       "                                                           \n",
       "                                                           "
      ]
     },
     "metadata": {},
     "output_type": "display_data"
    }
   ],
   "source": [
    "meta.data  %>% summary "
   ]
  },
  {
   "cell_type": "code",
   "execution_count": 45,
   "id": "focused-yorkshire",
   "metadata": {},
   "outputs": [
    {
     "name": "stderr",
     "output_type": "stream",
     "text": [
      "`geom_smooth()` using formula 'y ~ x'\n",
      "\n"
     ]
    },
    {
     "data": {
      "image/png": "[encoded data removed]",
      "text/plain": [
       "plot without title"
      ]
     },
     "metadata": {
      "image/png": {
       "height": 240,
       "width": 300
      }
     },
     "output_type": "display_data"
    }
   ],
   "source": [
    "lm_eqn <- function(df) {\n",
    "    m <- lm(nonZeros ~ nfeature, df)\n",
    "    eq <- substitute(italic(y) == a + b %.% italic(x) * \",\" ~ ~italic(r)^2 ~ \"=\" ~ \n",
    "        r2, list(a = format(unname(coef(m)[1]), digits = 2), b = format(unname(coef(m)[2]), \n",
    "        digits = 2), r2 = format(summary(m)$r.squared, digits = 3)))\n",
    "    as.character(as.expression(eq))\n",
    "}\n",
    "\n",
    "\n",
    "df = data.frame(nfeature = meta.data$`Feature Size`, nonZeros = pd.data %>% apply(., \n",
    "    2, function(x) sum(as.numeric(x) != 0)))\n",
    "ggplot(df, aes(nfeature, nonZeros)) + geom_point() + theme_bw() + geom_abline(slope = 1, \n",
    "    intercept = 0, color = \"red\") + geom_smooth(method = \"lm\") + geom_text(x = 10000, \n",
    "    y = 1000, label = lm_eqn(df), parse = TRUE)"
   ]
  },
  {
   "cell_type": "markdown",
   "id": "6e50c9de",
   "metadata": {},
   "source": [
    "### save for ica tool"
   ]
  },
  {
   "cell_type": "code",
   "execution_count": null,
   "id": "44974fd0",
   "metadata": {},
   "outputs": [],
   "source": []
  }
 ],
 "metadata": {
  "kernelspec": {
   "display_name": "R",
   "language": "R",
   "name": "ir"
  },
  "language_info": {
   "codemirror_mode": "r",
   "file_extension": ".r",
   "mimetype": "text/x-r-source",
   "name": "R",
   "pygments_lexer": "r",
   "version": "4.1.0"
  },
  "toc": {
   "base_numbering": 1,
   "nav_menu": {},
   "number_sections": true,
   "sideBar": true,
   "skip_h1_title": false,
   "title_cell": "Table of Contents",
   "title_sidebar": "Contents",
   "toc_cell": false,
   "toc_position": {
    "height": "calc(100% - 180px)",
    "left": "10px",
    "top": "150px",
    "width": "192px"
   },
   "toc_section_display": true,
   "toc_window_display": true
  }
 },
 "nbformat": 4,
 "nbformat_minor": 5
}
