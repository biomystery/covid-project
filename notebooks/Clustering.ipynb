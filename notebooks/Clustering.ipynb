{
 "cells": [
  {
   "cell_type": "code",
   "execution_count": 1,
   "id": "acknowledged-creator",
   "metadata": {},
   "outputs": [],
   "source": [
    "suppressMessages(require(tidyverse))\n",
    "suppressMessages(require(data.table))"
   ]
  },
  {
   "cell_type": "code",
   "execution_count": 31,
   "id": "cheap-jumping",
   "metadata": {
    "scrolled": false
   },
   "outputs": [
    {
     "data": {
      "text/html": [
       "<style>\n",
       ".list-inline {list-style: none; margin:0; padding: 0}\n",
       ".list-inline>li {display: inline-block}\n",
       ".list-inline>li:not(:last-child)::after {content: \"\\00b7\"; padding: 0 .5ex}\n",
       "</style>\n",
       "<ol class=list-inline><li>89</li><li>10587</li></ol>\n"
      ],
      "text/latex": [
       "\\begin{enumerate*}\n",
       "\\item 89\n",
       "\\item 10587\n",
       "\\end{enumerate*}\n"
      ],
      "text/markdown": [
       "1. 89\n",
       "2. 10587\n",
       "\n",
       "\n"
      ],
      "text/plain": [
       "[1]    89 10587"
      ]
     },
     "metadata": {},
     "output_type": "display_data"
    },
    {
     "data": {
      "text/html": [
       "<table class=\"dataframe\">\n",
       "<caption>A data.table: 1 × 10587</caption>\n",
       "<thead>\n",
       "\t<tr><th scope=col>Bioset ID of SARS CoV-Round3BV2_74 Biosets_wZero Time Point.jmp</th><th scope=col>Day Post-Infection</th><th scope=col>Species</th><th scope=col>GEO ID, link</th><th scope=col>Study name</th><th scope=col>Bioset name</th><th scope=col>Test Samples</th><th scope=col>Control Samples</th><th scope=col>Feature Size</th><th scope=col>Article PubMed ID</th><th scope=col>⋯</th><th scope=col>Zswim5</th><th scope=col>Zswim6</th><th scope=col>Zswim8</th><th scope=col>Zufsp</th><th scope=col>Zwilch</th><th scope=col>Zwint</th><th scope=col>Zxda</th><th scope=col>Zxdc</th><th scope=col>Zyg11b</th><th scope=col>Zzz3</th></tr>\n",
       "\t<tr><th scope=col>&lt;int&gt;</th><th scope=col>&lt;dbl&gt;</th><th scope=col>&lt;chr&gt;</th><th scope=col>&lt;chr&gt;</th><th scope=col>&lt;chr&gt;</th><th scope=col>&lt;chr&gt;</th><th scope=col>&lt;int&gt;</th><th scope=col>&lt;int&gt;</th><th scope=col>&lt;int&gt;</th><th scope=col>&lt;chr&gt;</th><th scope=col>⋯</th><th scope=col>&lt;dbl&gt;</th><th scope=col>&lt;dbl&gt;</th><th scope=col>&lt;dbl&gt;</th><th scope=col>&lt;dbl&gt;</th><th scope=col>&lt;dbl&gt;</th><th scope=col>&lt;dbl&gt;</th><th scope=col>&lt;dbl&gt;</th><th scope=col>&lt;dbl&gt;</th><th scope=col>&lt;dbl&gt;</th><th scope=col>&lt;dbl&gt;</th></tr>\n",
       "</thead>\n",
       "<tbody>\n",
       "\t<tr><td>867451</td><td>0.5</td><td>Mus musculus</td><td>GSE36969</td><td>Lungs from aged and young mice infected with mouse adapted SARS strains (Timecourse)</td><td>Lungs from 1yr old (aged) mice - 12hr post SARS MA15 strain infection _vs_ mock (PBS) infection</td><td>3</td><td>3</td><td>627</td><td>19420084</td><td>⋯</td><td>0</td><td>0</td><td>-61.05975</td><td>0</td><td>0</td><td>0</td><td>0</td><td>0</td><td>0</td><td>0</td></tr>\n",
       "</tbody>\n",
       "</table>\n"
      ],
      "text/latex": [
       "A data.table: 1 × 10587\n",
       "\\begin{tabular}{lllllllllllllllllllll}\n",
       " Bioset ID of SARS CoV-Round3BV2\\_74 Biosets\\_wZero Time Point.jmp & Day Post-Infection & Species & GEO ID, link & Study name & Bioset name & Test Samples & Control Samples & Feature Size & Article PubMed ID & ⋯ & Zswim5 & Zswim6 & Zswim8 & Zufsp & Zwilch & Zwint & Zxda & Zxdc & Zyg11b & Zzz3\\\\\n",
       " <int> & <dbl> & <chr> & <chr> & <chr> & <chr> & <int> & <int> & <int> & <chr> & ⋯ & <dbl> & <dbl> & <dbl> & <dbl> & <dbl> & <dbl> & <dbl> & <dbl> & <dbl> & <dbl>\\\\\n",
       "\\hline\n",
       "\t 867451 & 0.5 & Mus musculus & GSE36969 & Lungs from aged and young mice infected with mouse adapted SARS strains (Timecourse) & Lungs from 1yr old (aged) mice - 12hr post SARS MA15 strain infection \\_vs\\_ mock (PBS) infection & 3 & 3 & 627 & 19420084 & ⋯ & 0 & 0 & -61.05975 & 0 & 0 & 0 & 0 & 0 & 0 & 0\\\\\n",
       "\\end{tabular}\n"
      ],
      "text/markdown": [
       "\n",
       "A data.table: 1 × 10587\n",
       "\n",
       "| Bioset ID of SARS CoV-Round3BV2_74 Biosets_wZero Time Point.jmp &lt;int&gt; | Day Post-Infection &lt;dbl&gt; | Species &lt;chr&gt; | GEO ID, link &lt;chr&gt; | Study name &lt;chr&gt; | Bioset name &lt;chr&gt; | Test Samples &lt;int&gt; | Control Samples &lt;int&gt; | Feature Size &lt;int&gt; | Article PubMed ID &lt;chr&gt; | ⋯ ⋯ | Zswim5 &lt;dbl&gt; | Zswim6 &lt;dbl&gt; | Zswim8 &lt;dbl&gt; | Zufsp &lt;dbl&gt; | Zwilch &lt;dbl&gt; | Zwint &lt;dbl&gt; | Zxda &lt;dbl&gt; | Zxdc &lt;dbl&gt; | Zyg11b &lt;dbl&gt; | Zzz3 &lt;dbl&gt; |\n",
       "|---|---|---|---|---|---|---|---|---|---|---|---|---|---|---|---|---|---|---|---|---|\n",
       "| 867451 | 0.5 | Mus musculus | GSE36969 | Lungs from aged and young mice infected with mouse adapted SARS strains (Timecourse) | Lungs from 1yr old (aged) mice - 12hr post SARS MA15 strain infection _vs_ mock (PBS) infection | 3 | 3 | 627 | 19420084 | ⋯ | 0 | 0 | -61.05975 | 0 | 0 | 0 | 0 | 0 | 0 | 0 |\n",
       "\n"
      ],
      "text/plain": [
       "  Bioset ID of SARS CoV-Round3BV2_74 Biosets_wZero Time Point.jmp\n",
       "1 867451                                                         \n",
       "  Day Post-Infection Species      GEO ID, link\n",
       "1 0.5                Mus musculus GSE36969    \n",
       "  Study name                                                                          \n",
       "1 Lungs from aged and young mice infected with mouse adapted SARS strains (Timecourse)\n",
       "  Bioset name                                                                                    \n",
       "1 Lungs from 1yr old (aged) mice - 12hr post SARS MA15 strain infection _vs_ mock (PBS) infection\n",
       "  Test Samples Control Samples Feature Size Article PubMed ID ⋯ Zswim5 Zswim6\n",
       "1 3            3               627          19420084          ⋯ 0      0     \n",
       "  Zswim8    Zufsp Zwilch Zwint Zxda Zxdc Zyg11b Zzz3\n",
       "1 -61.05975 0     0      0     0    0    0      0   "
      ]
     },
     "metadata": {},
     "output_type": "display_data"
    },
    {
     "data": {
      "text/html": [
       "<style>\n",
       ".list-inline {list-style: none; margin:0; padding: 0}\n",
       ".list-inline>li {display: inline-block}\n",
       ".list-inline>li:not(:last-child)::after {content: \"\\00b7\"; padding: 0 .5ex}\n",
       "</style>\n",
       "<ol class=list-inline><li>'Bioset ID of SARS CoV-Round3BV2_74 Biosets_wZero Time Point.jmp'</li><li>'Day Post-Infection'</li><li>'Species'</li><li>'GEO ID, link'</li><li>'Study name'</li><li>'Bioset name'</li><li>'Test Samples'</li><li>'Control Samples'</li><li>'Feature Size'</li><li>'Article PubMed ID'</li><li>'Viral Strain'</li><li>'SARS-CoV Strain'</li><li>'Viral Dose'</li><li>'Viral Dose (PFUs)'</li><li>'Viral Severity'</li><li>'Sample Source (strain, cell)'</li><li>'Host Mouse Strain'</li><li>'Sex'</li><li>'Host Age Category'</li><li>'Host Age Cat'</li><li>'Host Age'</li><li>'Technology'</li><li>'Lab'</li><li>'March1'</li><li>'43891'</li><li>'43892'</li><li>'March2'</li><li>'March3'</li><li>'March5'</li><li>'March6'</li><li>'44075'</li><li>'Sept2'</li><li>'Sept3'</li><li>'44077'</li><li>'Sept4'</li><li>'44078'</li><li>'Sept5'</li><li>'Sept6'</li><li>'44080'</li><li>'Sept7'</li><li>'Sept8'</li><li>'44082'</li><li>'44083'</li><li>'Sept11'</li><li>'44086'</li><li>'212970'</li><li>'228712'</li><li>'329302'</li><li>'385414'</li><li>'432575'</li></ol>\n"
      ],
      "text/latex": [
       "\\begin{enumerate*}\n",
       "\\item 'Bioset ID of SARS CoV-Round3BV2\\_74 Biosets\\_wZero Time Point.jmp'\n",
       "\\item 'Day Post-Infection'\n",
       "\\item 'Species'\n",
       "\\item 'GEO ID, link'\n",
       "\\item 'Study name'\n",
       "\\item 'Bioset name'\n",
       "\\item 'Test Samples'\n",
       "\\item 'Control Samples'\n",
       "\\item 'Feature Size'\n",
       "\\item 'Article PubMed ID'\n",
       "\\item 'Viral Strain'\n",
       "\\item 'SARS-CoV Strain'\n",
       "\\item 'Viral Dose'\n",
       "\\item 'Viral Dose (PFUs)'\n",
       "\\item 'Viral Severity'\n",
       "\\item 'Sample Source (strain, cell)'\n",
       "\\item 'Host Mouse Strain'\n",
       "\\item 'Sex'\n",
       "\\item 'Host Age Category'\n",
       "\\item 'Host Age Cat'\n",
       "\\item 'Host Age'\n",
       "\\item 'Technology'\n",
       "\\item 'Lab'\n",
       "\\item 'March1'\n",
       "\\item '43891'\n",
       "\\item '43892'\n",
       "\\item 'March2'\n",
       "\\item 'March3'\n",
       "\\item 'March5'\n",
       "\\item 'March6'\n",
       "\\item '44075'\n",
       "\\item 'Sept2'\n",
       "\\item 'Sept3'\n",
       "\\item '44077'\n",
       "\\item 'Sept4'\n",
       "\\item '44078'\n",
       "\\item 'Sept5'\n",
       "\\item 'Sept6'\n",
       "\\item '44080'\n",
       "\\item 'Sept7'\n",
       "\\item 'Sept8'\n",
       "\\item '44082'\n",
       "\\item '44083'\n",
       "\\item 'Sept11'\n",
       "\\item '44086'\n",
       "\\item '212970'\n",
       "\\item '228712'\n",
       "\\item '329302'\n",
       "\\item '385414'\n",
       "\\item '432575'\n",
       "\\end{enumerate*}\n"
      ],
      "text/markdown": [
       "1. 'Bioset ID of SARS CoV-Round3BV2_74 Biosets_wZero Time Point.jmp'\n",
       "2. 'Day Post-Infection'\n",
       "3. 'Species'\n",
       "4. 'GEO ID, link'\n",
       "5. 'Study name'\n",
       "6. 'Bioset name'\n",
       "7. 'Test Samples'\n",
       "8. 'Control Samples'\n",
       "9. 'Feature Size'\n",
       "10. 'Article PubMed ID'\n",
       "11. 'Viral Strain'\n",
       "12. 'SARS-CoV Strain'\n",
       "13. 'Viral Dose'\n",
       "14. 'Viral Dose (PFUs)'\n",
       "15. 'Viral Severity'\n",
       "16. 'Sample Source (strain, cell)'\n",
       "17. 'Host Mouse Strain'\n",
       "18. 'Sex'\n",
       "19. 'Host Age Category'\n",
       "20. 'Host Age Cat'\n",
       "21. 'Host Age'\n",
       "22. 'Technology'\n",
       "23. 'Lab'\n",
       "24. 'March1'\n",
       "25. '43891'\n",
       "26. '43892'\n",
       "27. 'March2'\n",
       "28. 'March3'\n",
       "29. 'March5'\n",
       "30. 'March6'\n",
       "31. '44075'\n",
       "32. 'Sept2'\n",
       "33. 'Sept3'\n",
       "34. '44077'\n",
       "35. 'Sept4'\n",
       "36. '44078'\n",
       "37. 'Sept5'\n",
       "38. 'Sept6'\n",
       "39. '44080'\n",
       "40. 'Sept7'\n",
       "41. 'Sept8'\n",
       "42. '44082'\n",
       "43. '44083'\n",
       "44. 'Sept11'\n",
       "45. '44086'\n",
       "46. '212970'\n",
       "47. '228712'\n",
       "48. '329302'\n",
       "49. '385414'\n",
       "50. '432575'\n",
       "\n",
       "\n"
      ],
      "text/plain": [
       " [1] \"Bioset ID of SARS CoV-Round3BV2_74 Biosets_wZero Time Point.jmp\"\n",
       " [2] \"Day Post-Infection\"                                             \n",
       " [3] \"Species\"                                                        \n",
       " [4] \"GEO ID, link\"                                                   \n",
       " [5] \"Study name\"                                                     \n",
       " [6] \"Bioset name\"                                                    \n",
       " [7] \"Test Samples\"                                                   \n",
       " [8] \"Control Samples\"                                                \n",
       " [9] \"Feature Size\"                                                   \n",
       "[10] \"Article PubMed ID\"                                              \n",
       "[11] \"Viral Strain\"                                                   \n",
       "[12] \"SARS-CoV Strain\"                                                \n",
       "[13] \"Viral Dose\"                                                     \n",
       "[14] \"Viral Dose (PFUs)\"                                              \n",
       "[15] \"Viral Severity\"                                                 \n",
       "[16] \"Sample Source (strain, cell)\"                                   \n",
       "[17] \"Host Mouse Strain\"                                              \n",
       "[18] \"Sex\"                                                            \n",
       "[19] \"Host Age Category\"                                              \n",
       "[20] \"Host Age Cat\"                                                   \n",
       "[21] \"Host Age\"                                                       \n",
       "[22] \"Technology\"                                                     \n",
       "[23] \"Lab\"                                                            \n",
       "[24] \"March1\"                                                         \n",
       "[25] \"43891\"                                                          \n",
       "[26] \"43892\"                                                          \n",
       "[27] \"March2\"                                                         \n",
       "[28] \"March3\"                                                         \n",
       "[29] \"March5\"                                                         \n",
       "[30] \"March6\"                                                         \n",
       "[31] \"44075\"                                                          \n",
       "[32] \"Sept2\"                                                          \n",
       "[33] \"Sept3\"                                                          \n",
       "[34] \"44077\"                                                          \n",
       "[35] \"Sept4\"                                                          \n",
       "[36] \"44078\"                                                          \n",
       "[37] \"Sept5\"                                                          \n",
       "[38] \"Sept6\"                                                          \n",
       "[39] \"44080\"                                                          \n",
       "[40] \"Sept7\"                                                          \n",
       "[41] \"Sept8\"                                                          \n",
       "[42] \"44082\"                                                          \n",
       "[43] \"44083\"                                                          \n",
       "[44] \"Sept11\"                                                         \n",
       "[45] \"44086\"                                                          \n",
       "[46] \"212970\"                                                         \n",
       "[47] \"228712\"                                                         \n",
       "[48] \"329302\"                                                         \n",
       "[49] \"385414\"                                                         \n",
       "[50] \"432575\"                                                         "
      ]
     },
     "metadata": {},
     "output_type": "display_data"
    }
   ],
   "source": [
    "pd= fread('../data//2021-03-09_round4v2_74_biosets_wZero_Time_point.txt') \n",
    "pd %>% dim\n",
    "pd %>% head(1)\n",
    "pd %>% colnames %>% head(50)"
   ]
  },
  {
   "cell_type": "code",
   "execution_count": 28,
   "id": "robust-exposure",
   "metadata": {},
   "outputs": [
    {
     "data": {
      "text/html": [
       "<table class=\"dataframe\">\n",
       "<caption>A data.table: 6 × 10587</caption>\n",
       "<thead>\n",
       "\t<tr><th scope=col>Bioset ID of SARS CoV-Round3BV2_74 Biosets_wZero Time Point.jmp</th><th scope=col>Day Post-Infection</th><th scope=col>Species</th><th scope=col>GEO ID, link</th><th scope=col>Study name</th><th scope=col>Bioset name</th><th scope=col>Test Samples</th><th scope=col>Control Samples</th><th scope=col>Feature Size</th><th scope=col>Article PubMed ID</th><th scope=col>⋯</th><th scope=col>Zswim5</th><th scope=col>Zswim6</th><th scope=col>Zswim8</th><th scope=col>Zufsp</th><th scope=col>Zwilch</th><th scope=col>Zwint</th><th scope=col>Zxda</th><th scope=col>Zxdc</th><th scope=col>Zyg11b</th><th scope=col>Zzz3</th></tr>\n",
       "\t<tr><th scope=col>&lt;int&gt;</th><th scope=col>&lt;dbl&gt;</th><th scope=col>&lt;chr&gt;</th><th scope=col>&lt;chr&gt;</th><th scope=col>&lt;chr&gt;</th><th scope=col>&lt;chr&gt;</th><th scope=col>&lt;int&gt;</th><th scope=col>&lt;int&gt;</th><th scope=col>&lt;int&gt;</th><th scope=col>&lt;chr&gt;</th><th scope=col>⋯</th><th scope=col>&lt;dbl&gt;</th><th scope=col>&lt;dbl&gt;</th><th scope=col>&lt;dbl&gt;</th><th scope=col>&lt;dbl&gt;</th><th scope=col>&lt;dbl&gt;</th><th scope=col>&lt;dbl&gt;</th><th scope=col>&lt;dbl&gt;</th><th scope=col>&lt;dbl&gt;</th><th scope=col>&lt;dbl&gt;</th><th scope=col>&lt;dbl&gt;</th></tr>\n",
       "</thead>\n",
       "<tbody>\n",
       "\t<tr><td>NA</td><td>0</td><td></td><td></td><td></td><td></td><td>0</td><td>0</td><td>0</td><td></td><td>⋯</td><td>0</td><td>0</td><td>0</td><td>0</td><td>0</td><td>0</td><td>0</td><td>0</td><td>0</td><td>0</td></tr>\n",
       "\t<tr><td>NA</td><td>0</td><td></td><td></td><td></td><td></td><td>0</td><td>0</td><td>0</td><td></td><td>⋯</td><td>0</td><td>0</td><td>0</td><td>0</td><td>0</td><td>0</td><td>0</td><td>0</td><td>0</td><td>0</td></tr>\n",
       "\t<tr><td>NA</td><td>0</td><td></td><td></td><td></td><td></td><td>0</td><td>0</td><td>0</td><td></td><td>⋯</td><td>0</td><td>0</td><td>0</td><td>0</td><td>0</td><td>0</td><td>0</td><td>0</td><td>0</td><td>0</td></tr>\n",
       "\t<tr><td>NA</td><td>0</td><td></td><td></td><td></td><td></td><td>0</td><td>0</td><td>0</td><td></td><td>⋯</td><td>0</td><td>0</td><td>0</td><td>0</td><td>0</td><td>0</td><td>0</td><td>0</td><td>0</td><td>0</td></tr>\n",
       "\t<tr><td>NA</td><td>0</td><td></td><td></td><td></td><td></td><td>0</td><td>0</td><td>0</td><td></td><td>⋯</td><td>0</td><td>0</td><td>0</td><td>0</td><td>0</td><td>0</td><td>0</td><td>0</td><td>0</td><td>0</td></tr>\n",
       "\t<tr><td>NA</td><td>0</td><td></td><td></td><td></td><td></td><td>0</td><td>0</td><td>0</td><td></td><td>⋯</td><td>0</td><td>0</td><td>0</td><td>0</td><td>0</td><td>0</td><td>0</td><td>0</td><td>0</td><td>0</td></tr>\n",
       "</tbody>\n",
       "</table>\n"
      ],
      "text/latex": [
       "A data.table: 6 × 10587\n",
       "\\begin{tabular}{lllllllllllllllllllll}\n",
       " Bioset ID of SARS CoV-Round3BV2\\_74 Biosets\\_wZero Time Point.jmp & Day Post-Infection & Species & GEO ID, link & Study name & Bioset name & Test Samples & Control Samples & Feature Size & Article PubMed ID & ⋯ & Zswim5 & Zswim6 & Zswim8 & Zufsp & Zwilch & Zwint & Zxda & Zxdc & Zyg11b & Zzz3\\\\\n",
       " <int> & <dbl> & <chr> & <chr> & <chr> & <chr> & <int> & <int> & <int> & <chr> & ⋯ & <dbl> & <dbl> & <dbl> & <dbl> & <dbl> & <dbl> & <dbl> & <dbl> & <dbl> & <dbl>\\\\\n",
       "\\hline\n",
       "\t NA & 0 &  &  &  &  & 0 & 0 & 0 &  & ⋯ & 0 & 0 & 0 & 0 & 0 & 0 & 0 & 0 & 0 & 0\\\\\n",
       "\t NA & 0 &  &  &  &  & 0 & 0 & 0 &  & ⋯ & 0 & 0 & 0 & 0 & 0 & 0 & 0 & 0 & 0 & 0\\\\\n",
       "\t NA & 0 &  &  &  &  & 0 & 0 & 0 &  & ⋯ & 0 & 0 & 0 & 0 & 0 & 0 & 0 & 0 & 0 & 0\\\\\n",
       "\t NA & 0 &  &  &  &  & 0 & 0 & 0 &  & ⋯ & 0 & 0 & 0 & 0 & 0 & 0 & 0 & 0 & 0 & 0\\\\\n",
       "\t NA & 0 &  &  &  &  & 0 & 0 & 0 &  & ⋯ & 0 & 0 & 0 & 0 & 0 & 0 & 0 & 0 & 0 & 0\\\\\n",
       "\t NA & 0 &  &  &  &  & 0 & 0 & 0 &  & ⋯ & 0 & 0 & 0 & 0 & 0 & 0 & 0 & 0 & 0 & 0\\\\\n",
       "\\end{tabular}\n"
      ],
      "text/markdown": [
       "\n",
       "A data.table: 6 × 10587\n",
       "\n",
       "| Bioset ID of SARS CoV-Round3BV2_74 Biosets_wZero Time Point.jmp &lt;int&gt; | Day Post-Infection &lt;dbl&gt; | Species &lt;chr&gt; | GEO ID, link &lt;chr&gt; | Study name &lt;chr&gt; | Bioset name &lt;chr&gt; | Test Samples &lt;int&gt; | Control Samples &lt;int&gt; | Feature Size &lt;int&gt; | Article PubMed ID &lt;chr&gt; | ⋯ ⋯ | Zswim5 &lt;dbl&gt; | Zswim6 &lt;dbl&gt; | Zswim8 &lt;dbl&gt; | Zufsp &lt;dbl&gt; | Zwilch &lt;dbl&gt; | Zwint &lt;dbl&gt; | Zxda &lt;dbl&gt; | Zxdc &lt;dbl&gt; | Zyg11b &lt;dbl&gt; | Zzz3 &lt;dbl&gt; |\n",
       "|---|---|---|---|---|---|---|---|---|---|---|---|---|---|---|---|---|---|---|---|---|\n",
       "| NA | 0 | <!----> | <!----> | <!----> | <!----> | 0 | 0 | 0 | <!----> | ⋯ | 0 | 0 | 0 | 0 | 0 | 0 | 0 | 0 | 0 | 0 |\n",
       "| NA | 0 | <!----> | <!----> | <!----> | <!----> | 0 | 0 | 0 | <!----> | ⋯ | 0 | 0 | 0 | 0 | 0 | 0 | 0 | 0 | 0 | 0 |\n",
       "| NA | 0 | <!----> | <!----> | <!----> | <!----> | 0 | 0 | 0 | <!----> | ⋯ | 0 | 0 | 0 | 0 | 0 | 0 | 0 | 0 | 0 | 0 |\n",
       "| NA | 0 | <!----> | <!----> | <!----> | <!----> | 0 | 0 | 0 | <!----> | ⋯ | 0 | 0 | 0 | 0 | 0 | 0 | 0 | 0 | 0 | 0 |\n",
       "| NA | 0 | <!----> | <!----> | <!----> | <!----> | 0 | 0 | 0 | <!----> | ⋯ | 0 | 0 | 0 | 0 | 0 | 0 | 0 | 0 | 0 | 0 |\n",
       "| NA | 0 | <!----> | <!----> | <!----> | <!----> | 0 | 0 | 0 | <!----> | ⋯ | 0 | 0 | 0 | 0 | 0 | 0 | 0 | 0 | 0 | 0 |\n",
       "\n"
      ],
      "text/plain": [
       "  Bioset ID of SARS CoV-Round3BV2_74 Biosets_wZero Time Point.jmp\n",
       "1 NA                                                             \n",
       "2 NA                                                             \n",
       "3 NA                                                             \n",
       "4 NA                                                             \n",
       "5 NA                                                             \n",
       "6 NA                                                             \n",
       "  Day Post-Infection Species GEO ID, link Study name Bioset name Test Samples\n",
       "1 0                                                              0           \n",
       "2 0                                                              0           \n",
       "3 0                                                              0           \n",
       "4 0                                                              0           \n",
       "5 0                                                              0           \n",
       "6 0                                                              0           \n",
       "  Control Samples Feature Size Article PubMed ID ⋯ Zswim5 Zswim6 Zswim8 Zufsp\n",
       "1 0               0                              ⋯ 0      0      0      0    \n",
       "2 0               0                              ⋯ 0      0      0      0    \n",
       "3 0               0                              ⋯ 0      0      0      0    \n",
       "4 0               0                              ⋯ 0      0      0      0    \n",
       "5 0               0                              ⋯ 0      0      0      0    \n",
       "6 0               0                              ⋯ 0      0      0      0    \n",
       "  Zwilch Zwint Zxda Zxdc Zyg11b Zzz3\n",
       "1 0      0     0    0    0      0   \n",
       "2 0      0     0    0    0      0   \n",
       "3 0      0     0    0    0      0   \n",
       "4 0      0     0    0    0      0   \n",
       "5 0      0     0    0    0      0   \n",
       "6 0      0     0    0    0      0   "
      ]
     },
     "metadata": {},
     "output_type": "display_data"
    }
   ],
   "source": [
    "pd %>% filter(`Day Post-Infection` == 0) %>% head"
   ]
  },
  {
   "cell_type": "code",
   "execution_count": 5,
   "id": "minute-anthropology",
   "metadata": {},
   "outputs": [
    {
     "data": {
      "text/html": [
       "<style>\n",
       ".list-inline {list-style: none; margin:0; padding: 0}\n",
       ".list-inline>li {display: inline-block}\n",
       ".list-inline>li:not(:last-child)::after {content: \"\\00b7\"; padding: 0 .5ex}\n",
       "</style>\n",
       "<ol class=list-inline><li>89</li><li>10560</li></ol>\n"
      ],
      "text/latex": [
       "\\begin{enumerate*}\n",
       "\\item 89\n",
       "\\item 10560\n",
       "\\end{enumerate*}\n"
      ],
      "text/markdown": [
       "1. 89\n",
       "2. 10560\n",
       "\n",
       "\n"
      ],
      "text/plain": [
       "[1]    89 10560"
      ]
     },
     "metadata": {},
     "output_type": "display_data"
    },
    {
     "data": {
      "text/html": [
       "<table class=\"dataframe\">\n",
       "<caption>A matrix: 1 × 7 of type dbl</caption>\n",
       "<thead>\n",
       "\t<tr><th scope=col>0%</th><th scope=col>5%</th><th scope=col>25%</th><th scope=col>50%</th><th scope=col>75%</th><th scope=col>95%</th><th scope=col>100%</th></tr>\n",
       "</thead>\n",
       "<tbody>\n",
       "\t<tr><td>-99.89212</td><td>-26.2773</td><td>0</td><td>0</td><td>0</td><td>36.85242</td><td>99.9001</td></tr>\n",
       "</tbody>\n",
       "</table>\n"
      ],
      "text/latex": [
       "A matrix: 1 × 7 of type dbl\n",
       "\\begin{tabular}{lllllll}\n",
       " 0\\% & 5\\% & 25\\% & 50\\% & 75\\% & 95\\% & 100\\%\\\\\n",
       "\\hline\n",
       "\t -99.89212 & -26.2773 & 0 & 0 & 0 & 36.85242 & 99.9001\\\\\n",
       "\\end{tabular}\n"
      ],
      "text/markdown": [
       "\n",
       "A matrix: 1 × 7 of type dbl\n",
       "\n",
       "| 0% | 5% | 25% | 50% | 75% | 95% | 100% |\n",
       "|---|---|---|---|---|---|---|\n",
       "| -99.89212 | -26.2773 | 0 | 0 | 0 | 36.85242 | 99.9001 |\n",
       "\n"
      ],
      "text/plain": [
       "     0%        5%       25% 50% 75% 95%      100%   \n",
       "[1,] -99.89212 -26.2773 0   0   0   36.85242 99.9001"
      ]
     },
     "metadata": {},
     "output_type": "display_data"
    }
   ],
   "source": [
    "(pd.data = pd[, 28:(ncol(pd))]) %>% dim\n",
    "pd.data %>% flatten %>% unlist %>% quantile(.,probs = c(0,0.05,.25,.5,.75,.95,1)) %>% t\n"
   ]
  },
  {
   "cell_type": "code",
   "execution_count": 11,
   "id": "rocky-authority",
   "metadata": {},
   "outputs": [
    {
     "data": {
      "image/png": "[encoded data removed]",
      "text/plain": [
       "plot without title"
      ]
     },
     "metadata": {
      "image/png": {
       "height": 240,
       "width": 300
      }
     },
     "output_type": "display_data"
    }
   ],
   "source": [
    "options(repr.plot.width = 5, repr.plot.height = 4)\n",
    "data.frame(value = pd.data %>% flatten %>% unlist) %>% ggplot(., aes(value)) + geom_density(color = \"darkblue\", \n",
    "    fill = \"lightblue\") + theme_bw(base_size = 16)"
   ]
  },
  {
   "cell_type": "code",
   "execution_count": null,
   "id": "pleasant-weapon",
   "metadata": {},
   "outputs": [],
   "source": [
    "pd[,1:100] %>%dim\n",
    "fwrite(pd[,1:100],'sub.csv')\n",
    "system('open sub.csv')"
   ]
  },
  {
   "cell_type": "code",
   "execution_count": 12,
   "id": "grave-equipment",
   "metadata": {},
   "outputs": [
    {
     "data": {
      "text/plain": [
       ".\n",
       "             Mus musculus \n",
       "          15           74 "
      ]
     },
     "metadata": {},
     "output_type": "display_data"
    },
    {
     "data": {
      "text/plain": [
       ".\n",
       "  0 0.5   1   2   4   7 \n",
       " 15   6  15  19  19  15 "
      ]
     },
     "metadata": {},
     "output_type": "display_data"
    }
   ],
   "source": [
    "pd$Species %>% table\n",
    "pd$`Day Post-Infection` %>% table"
   ]
  },
  {
   "cell_type": "code",
   "execution_count": 33,
   "id": "bronze-yemen",
   "metadata": {},
   "outputs": [
    {
     "data": {
      "text/html": [
       "<table class=\"dataframe\">\n",
       "<caption>A data.table: 1 × 5</caption>\n",
       "<thead>\n",
       "\t<tr><th scope=col>Time_BiosetID</th><th scope=col>March3</th><th scope=col>March5</th><th scope=col>March6</th><th scope=col>44075</th></tr>\n",
       "\t<tr><th scope=col>&lt;chr&gt;</th><th scope=col>&lt;dbl&gt;</th><th scope=col>&lt;dbl&gt;</th><th scope=col>&lt;dbl&gt;</th><th scope=col>&lt;dbl&gt;</th></tr>\n",
       "</thead>\n",
       "<tbody>\n",
       "\t<tr><td>0.5_867451</td><td>0</td><td>0</td><td>0</td><td>0</td></tr>\n",
       "</tbody>\n",
       "</table>\n"
      ],
      "text/latex": [
       "A data.table: 1 × 5\n",
       "\\begin{tabular}{lllll}\n",
       " Time\\_BiosetID & March3 & March5 & March6 & 44075\\\\\n",
       " <chr> & <dbl> & <dbl> & <dbl> & <dbl>\\\\\n",
       "\\hline\n",
       "\t 0.5\\_867451 & 0 & 0 & 0 & 0\\\\\n",
       "\\end{tabular}\n"
      ],
      "text/markdown": [
       "\n",
       "A data.table: 1 × 5\n",
       "\n",
       "| Time_BiosetID &lt;chr&gt; | March3 &lt;dbl&gt; | March5 &lt;dbl&gt; | March6 &lt;dbl&gt; | 44075 &lt;dbl&gt; |\n",
       "|---|---|---|---|---|\n",
       "| 0.5_867451 | 0 | 0 | 0 | 0 |\n",
       "\n"
      ],
      "text/plain": [
       "  Time_BiosetID March3 March5 March6 44075\n",
       "1 0.5_867451    0      0      0      0    "
      ]
     },
     "metadata": {},
     "output_type": "display_data"
    },
    {
     "data": {
      "text/plain": [
       ".\n",
       "      0_NA 0.5_867451 0.5_867454 0.5_867457 0.5_867478 0.5_867481 0.5_867484 \n",
       "        15          1          1          1          1          1          1 \n",
       "  1_494014   1_494017   1_494020   1_494023   1_821644   1_823390   1_839425 \n",
       "         1          1          1          1          1          1          1 \n",
       "  1_839437   1_867460   1_867463   1_867466   1_867487   1_867490   1_867493 \n",
       "         1          1          1          1          1          1          1 \n",
       "  1_926614  2_1326109   2_494026   2_494029   2_494032   2_494035   2_821650 \n",
       "         1          1          1          1          1          1          1 \n",
       "  2_823396   2_833449   2_839428   2_839440   2_867469   2_867472   2_867475 \n",
       "         1          1          1          1          1          1          1 \n",
       "  2_867496   2_867499   2_867502   2_926620   2_957616   2_995281   4_494038 \n",
       "         1          1          1          1          1          1          1 \n",
       "  4_494041   4_494044   4_494047   4_685187   4_685193   4_685244   4_821656 \n",
       "         1          1          1          1          1          1          1 \n",
       "  4_823402   4_833452   4_834109   4_839431   4_839443   4_840316   4_867505 \n",
       "         1          1          1          1          1          1          1 \n",
       "  4_867508   4_867511   4_957619   4_995284   7_494011   7_494050   7_494053 \n",
       "         1          1          1          1          1          1          1 \n",
       "  7_494056   7_685178   7_685217   7_685247   7_821662   7_823408   7_833455 \n",
       "         1          1          1          1          1          1          1 \n",
       "  7_834112   7_839434   7_839446   7_840319   7_995287 \n",
       "         1          1          1          1          1 "
      ]
     },
     "metadata": {},
     "output_type": "display_data"
    }
   ],
   "source": [
    "pd[, c(1:2, 28:31)] %>% unite(\"Time_BiosetID\", c(2, 1), sep = \"_\") %>% head(1)\n",
    "pd[, c(1:2, 28)] %>% unite(\"Time_BiosetID\", c(2, 1), sep = \"_\") %>% pull(Time_BiosetID) %>% \n",
    "    table\n"
   ]
  },
  {
   "cell_type": "code",
   "execution_count": 71,
   "id": "israeli-facing",
   "metadata": {},
   "outputs": [
    {
     "data": {
      "text/html": [
       "<table class=\"dataframe\">\n",
       "<caption>A data.table: 6 × 4</caption>\n",
       "<thead>\n",
       "\t<tr><th scope=col>Time_BiosetID</th><th scope=col>March3</th><th scope=col>March5</th><th scope=col>March6</th></tr>\n",
       "\t<tr><th scope=col>&lt;chr&gt;</th><th scope=col>&lt;dbl&gt;</th><th scope=col>&lt;dbl&gt;</th><th scope=col>&lt;dbl&gt;</th></tr>\n",
       "</thead>\n",
       "<tbody>\n",
       "\t<tr><td>0.5_867451</td><td>0</td><td>0</td><td>0</td></tr>\n",
       "\t<tr><td>0.5_867454</td><td>0</td><td>0</td><td>0</td></tr>\n",
       "\t<tr><td>0.5_867457</td><td>0</td><td>0</td><td>0</td></tr>\n",
       "\t<tr><td>0.5_867478</td><td>0</td><td>0</td><td>0</td></tr>\n",
       "\t<tr><td>0.5_867481</td><td>0</td><td>0</td><td>0</td></tr>\n",
       "\t<tr><td>0.5_867484</td><td>0</td><td>0</td><td>0</td></tr>\n",
       "</tbody>\n",
       "</table>\n"
      ],
      "text/latex": [
       "A data.table: 6 × 4\n",
       "\\begin{tabular}{llll}\n",
       " Time\\_BiosetID & March3 & March5 & March6\\\\\n",
       " <chr> & <dbl> & <dbl> & <dbl>\\\\\n",
       "\\hline\n",
       "\t 0.5\\_867451 & 0 & 0 & 0\\\\\n",
       "\t 0.5\\_867454 & 0 & 0 & 0\\\\\n",
       "\t 0.5\\_867457 & 0 & 0 & 0\\\\\n",
       "\t 0.5\\_867478 & 0 & 0 & 0\\\\\n",
       "\t 0.5\\_867481 & 0 & 0 & 0\\\\\n",
       "\t 0.5\\_867484 & 0 & 0 & 0\\\\\n",
       "\\end{tabular}\n"
      ],
      "text/markdown": [
       "\n",
       "A data.table: 6 × 4\n",
       "\n",
       "| Time_BiosetID &lt;chr&gt; | March3 &lt;dbl&gt; | March5 &lt;dbl&gt; | March6 &lt;dbl&gt; |\n",
       "|---|---|---|---|\n",
       "| 0.5_867451 | 0 | 0 | 0 |\n",
       "| 0.5_867454 | 0 | 0 | 0 |\n",
       "| 0.5_867457 | 0 | 0 | 0 |\n",
       "| 0.5_867478 | 0 | 0 | 0 |\n",
       "| 0.5_867481 | 0 | 0 | 0 |\n",
       "| 0.5_867484 | 0 | 0 | 0 |\n",
       "\n"
      ],
      "text/plain": [
       "  Time_BiosetID March3 March5 March6\n",
       "1 0.5_867451    0      0      0     \n",
       "2 0.5_867454    0      0      0     \n",
       "3 0.5_867457    0      0      0     \n",
       "4 0.5_867478    0      0      0     \n",
       "5 0.5_867481    0      0      0     \n",
       "6 0.5_867484    0      0      0     "
      ]
     },
     "metadata": {},
     "output_type": "display_data"
    }
   ],
   "source": [
    "pd[, c(1:2, 28:30)] %>% unite(\"Time_BiosetID\", c(2, 1), sep = \"_\") %>% filter(!Time_BiosetID %>% \n",
    "    grepl(\"NA\", .)) %>% head\n",
    "pd.data <- pd %>% select(c(1:2, 28:(ncol(pd)))) %>% unite(\"Time_BiosetID\", c(2, 1), \n",
    "    sep = \"_\") %>% filter(!Time_BiosetID %>% grepl(\"NA\", .)) %>% t %>% as.data.frame"
   ]
  },
  {
   "cell_type": "code",
   "execution_count": 72,
   "id": "generous-advantage",
   "metadata": {},
   "outputs": [
    {
     "data": {
      "text/html": [
       "<table class=\"dataframe\">\n",
       "<caption>A data.frame: 6 × 74</caption>\n",
       "<thead>\n",
       "\t<tr><th></th><th scope=col>0.5_867451</th><th scope=col>0.5_867454</th><th scope=col>0.5_867457</th><th scope=col>0.5_867478</th><th scope=col>0.5_867481</th><th scope=col>0.5_867484</th><th scope=col>1_926614</th><th scope=col>1_494014</th><th scope=col>1_494017</th><th scope=col>1_494020</th><th scope=col>⋯</th><th scope=col>7_685178</th><th scope=col>7_685217</th><th scope=col>7_821662</th><th scope=col>7_823408</th><th scope=col>7_839434</th><th scope=col>7_839446</th><th scope=col>7_833455</th><th scope=col>7_840319</th><th scope=col>7_834112</th><th scope=col>7_995287</th></tr>\n",
       "\t<tr><th></th><th scope=col>&lt;chr&gt;</th><th scope=col>&lt;chr&gt;</th><th scope=col>&lt;chr&gt;</th><th scope=col>&lt;chr&gt;</th><th scope=col>&lt;chr&gt;</th><th scope=col>&lt;chr&gt;</th><th scope=col>&lt;chr&gt;</th><th scope=col>&lt;chr&gt;</th><th scope=col>&lt;chr&gt;</th><th scope=col>&lt;chr&gt;</th><th scope=col>⋯</th><th scope=col>&lt;chr&gt;</th><th scope=col>&lt;chr&gt;</th><th scope=col>&lt;chr&gt;</th><th scope=col>&lt;chr&gt;</th><th scope=col>&lt;chr&gt;</th><th scope=col>&lt;chr&gt;</th><th scope=col>&lt;chr&gt;</th><th scope=col>&lt;chr&gt;</th><th scope=col>&lt;chr&gt;</th><th scope=col>&lt;chr&gt;</th></tr>\n",
       "</thead>\n",
       "<tbody>\n",
       "\t<tr><th scope=row>March3</th><td>  0.000000</td><td>  0.000000</td><td>  0.000000</td><td>  0.000000</td><td>  0.000000</td><td>  0.000000</td><td>-43.717376</td><td> 21.139951</td><td> 25.225516</td><td> 13.911069</td><td>⋯</td><td>  0.000000</td><td>  0.000000</td><td>  0.000000</td><td>  0.000000</td><td>  0.000000</td><td>  0.000000</td><td>  0.000000</td><td>  0.000000</td><td>  0.000000</td><td>  0.000000</td></tr>\n",
       "\t<tr><th scope=row>March5</th><td> 0.00000  </td><td> 0.00000  </td><td> 0.00000  </td><td> 0.00000  </td><td> 0.00000  </td><td> 0.00000  </td><td>43.71738  </td><td> 0.00000  </td><td> 0.00000  </td><td> 0.00000  </td><td>⋯</td><td> 0.00000  </td><td> 0.00000  </td><td> 0.00000  </td><td> 0.00000  </td><td> 0.00000  </td><td> 0.00000  </td><td> 0.00000  </td><td> 0.00000  </td><td> 0.00000  </td><td> 0.00000  </td></tr>\n",
       "\t<tr><th scope=row>March6</th><td>  0.000000</td><td>  0.000000</td><td>  0.000000</td><td>  0.000000</td><td>  0.000000</td><td>  0.000000</td><td>  0.000000</td><td> 17.345392</td><td> 19.622464</td><td> 13.911069</td><td>⋯</td><td>-12.210131</td><td>-11.108075</td><td> 12.417918</td><td>-16.572974</td><td>  0.000000</td><td> 10.816353</td><td>-15.346226</td><td>  0.000000</td><td>-13.180961</td><td>-13.735811</td></tr>\n",
       "\t<tr><th scope=row>44075</th><td> 0.00000  </td><td> 0.00000  </td><td> 0.00000  </td><td> 0.00000  </td><td> 0.00000  </td><td> 0.00000  </td><td> 0.00000  </td><td> 0.00000  </td><td> 0.00000  </td><td> 0.00000  </td><td>⋯</td><td>50.10020  </td><td>50.18166  </td><td>11.47676  </td><td>24.22962  </td><td>57.71340  </td><td>29.36616  </td><td> 0.00000  </td><td>53.20677  </td><td>39.04054  </td><td>71.68664  </td></tr>\n",
       "\t<tr><th scope=row>Sept2</th><td>  0.00000 </td><td>  0.00000 </td><td>  0.00000 </td><td>  0.00000 </td><td>  0.00000 </td><td>  0.00000 </td><td>  0.00000 </td><td>-49.59088 </td><td>-50.70325 </td><td>-24.04725 </td><td>⋯</td><td>  0.00000 </td><td>  0.00000 </td><td>  0.00000 </td><td>  0.00000 </td><td>  0.00000 </td><td>  0.00000 </td><td>  0.00000 </td><td>  0.00000 </td><td>  0.00000 </td><td>  0.00000 </td></tr>\n",
       "\t<tr><th scope=row>Sept3</th><td>  0.00000 </td><td>  0.00000 </td><td>  0.00000 </td><td>  0.00000 </td><td>  0.00000 </td><td>  0.00000 </td><td>  0.00000 </td><td>  0.00000 </td><td>  0.00000 </td><td>  0.00000 </td><td>⋯</td><td>  0.00000 </td><td>  0.00000 </td><td>  0.00000 </td><td>  0.00000 </td><td>  0.00000 </td><td>  0.00000 </td><td>  0.00000 </td><td>  0.00000 </td><td>  0.00000 </td><td>  0.00000 </td></tr>\n",
       "</tbody>\n",
       "</table>\n"
      ],
      "text/latex": [
       "A data.frame: 6 × 74\n",
       "\\begin{tabular}{r|lllllllllllllllllllll}\n",
       "  & 0.5\\_867451 & 0.5\\_867454 & 0.5\\_867457 & 0.5\\_867478 & 0.5\\_867481 & 0.5\\_867484 & 1\\_926614 & 1\\_494014 & 1\\_494017 & 1\\_494020 & ⋯ & 7\\_685178 & 7\\_685217 & 7\\_821662 & 7\\_823408 & 7\\_839434 & 7\\_839446 & 7\\_833455 & 7\\_840319 & 7\\_834112 & 7\\_995287\\\\\n",
       "  & <chr> & <chr> & <chr> & <chr> & <chr> & <chr> & <chr> & <chr> & <chr> & <chr> & ⋯ & <chr> & <chr> & <chr> & <chr> & <chr> & <chr> & <chr> & <chr> & <chr> & <chr>\\\\\n",
       "\\hline\n",
       "\tMarch3 &   0.000000 &   0.000000 &   0.000000 &   0.000000 &   0.000000 &   0.000000 & -43.717376 &  21.139951 &  25.225516 &  13.911069 & ⋯ &   0.000000 &   0.000000 &   0.000000 &   0.000000 &   0.000000 &   0.000000 &   0.000000 &   0.000000 &   0.000000 &   0.000000\\\\\n",
       "\tMarch5 &  0.00000   &  0.00000   &  0.00000   &  0.00000   &  0.00000   &  0.00000   & 43.71738   &  0.00000   &  0.00000   &  0.00000   & ⋯ &  0.00000   &  0.00000   &  0.00000   &  0.00000   &  0.00000   &  0.00000   &  0.00000   &  0.00000   &  0.00000   &  0.00000  \\\\\n",
       "\tMarch6 &   0.000000 &   0.000000 &   0.000000 &   0.000000 &   0.000000 &   0.000000 &   0.000000 &  17.345392 &  19.622464 &  13.911069 & ⋯ & -12.210131 & -11.108075 &  12.417918 & -16.572974 &   0.000000 &  10.816353 & -15.346226 &   0.000000 & -13.180961 & -13.735811\\\\\n",
       "\t44075 &  0.00000   &  0.00000   &  0.00000   &  0.00000   &  0.00000   &  0.00000   &  0.00000   &  0.00000   &  0.00000   &  0.00000   & ⋯ & 50.10020   & 50.18166   & 11.47676   & 24.22962   & 57.71340   & 29.36616   &  0.00000   & 53.20677   & 39.04054   & 71.68664  \\\\\n",
       "\tSept2 &   0.00000  &   0.00000  &   0.00000  &   0.00000  &   0.00000  &   0.00000  &   0.00000  & -49.59088  & -50.70325  & -24.04725  & ⋯ &   0.00000  &   0.00000  &   0.00000  &   0.00000  &   0.00000  &   0.00000  &   0.00000  &   0.00000  &   0.00000  &   0.00000 \\\\\n",
       "\tSept3 &   0.00000  &   0.00000  &   0.00000  &   0.00000  &   0.00000  &   0.00000  &   0.00000  &   0.00000  &   0.00000  &   0.00000  & ⋯ &   0.00000  &   0.00000  &   0.00000  &   0.00000  &   0.00000  &   0.00000  &   0.00000  &   0.00000  &   0.00000  &   0.00000 \\\\\n",
       "\\end{tabular}\n"
      ],
      "text/markdown": [
       "\n",
       "A data.frame: 6 × 74\n",
       "\n",
       "| <!--/--> | 0.5_867451 &lt;chr&gt; | 0.5_867454 &lt;chr&gt; | 0.5_867457 &lt;chr&gt; | 0.5_867478 &lt;chr&gt; | 0.5_867481 &lt;chr&gt; | 0.5_867484 &lt;chr&gt; | 1_926614 &lt;chr&gt; | 1_494014 &lt;chr&gt; | 1_494017 &lt;chr&gt; | 1_494020 &lt;chr&gt; | ⋯ ⋯ | 7_685178 &lt;chr&gt; | 7_685217 &lt;chr&gt; | 7_821662 &lt;chr&gt; | 7_823408 &lt;chr&gt; | 7_839434 &lt;chr&gt; | 7_839446 &lt;chr&gt; | 7_833455 &lt;chr&gt; | 7_840319 &lt;chr&gt; | 7_834112 &lt;chr&gt; | 7_995287 &lt;chr&gt; |\n",
       "|---|---|---|---|---|---|---|---|---|---|---|---|---|---|---|---|---|---|---|---|---|---|\n",
       "| March3 |   0.000000 |   0.000000 |   0.000000 |   0.000000 |   0.000000 |   0.000000 | -43.717376 |  21.139951 |  25.225516 |  13.911069 | ⋯ |   0.000000 |   0.000000 |   0.000000 |   0.000000 |   0.000000 |   0.000000 |   0.000000 |   0.000000 |   0.000000 |   0.000000 |\n",
       "| March5 |  0.00000   |  0.00000   |  0.00000   |  0.00000   |  0.00000   |  0.00000   | 43.71738   |  0.00000   |  0.00000   |  0.00000   | ⋯ |  0.00000   |  0.00000   |  0.00000   |  0.00000   |  0.00000   |  0.00000   |  0.00000   |  0.00000   |  0.00000   |  0.00000   |\n",
       "| March6 |   0.000000 |   0.000000 |   0.000000 |   0.000000 |   0.000000 |   0.000000 |   0.000000 |  17.345392 |  19.622464 |  13.911069 | ⋯ | -12.210131 | -11.108075 |  12.417918 | -16.572974 |   0.000000 |  10.816353 | -15.346226 |   0.000000 | -13.180961 | -13.735811 |\n",
       "| 44075 |  0.00000   |  0.00000   |  0.00000   |  0.00000   |  0.00000   |  0.00000   |  0.00000   |  0.00000   |  0.00000   |  0.00000   | ⋯ | 50.10020   | 50.18166   | 11.47676   | 24.22962   | 57.71340   | 29.36616   |  0.00000   | 53.20677   | 39.04054   | 71.68664   |\n",
       "| Sept2 |   0.00000  |   0.00000  |   0.00000  |   0.00000  |   0.00000  |   0.00000  |   0.00000  | -49.59088  | -50.70325  | -24.04725  | ⋯ |   0.00000  |   0.00000  |   0.00000  |   0.00000  |   0.00000  |   0.00000  |   0.00000  |   0.00000  |   0.00000  |   0.00000  |\n",
       "| Sept3 |   0.00000  |   0.00000  |   0.00000  |   0.00000  |   0.00000  |   0.00000  |   0.00000  |   0.00000  |   0.00000  |   0.00000  | ⋯ |   0.00000  |   0.00000  |   0.00000  |   0.00000  |   0.00000  |   0.00000  |   0.00000  |   0.00000  |   0.00000  |   0.00000  |\n",
       "\n"
      ],
      "text/plain": [
       "       0.5_867451 0.5_867454 0.5_867457 0.5_867478 0.5_867481 0.5_867484\n",
       "March3   0.000000   0.000000   0.000000   0.000000   0.000000   0.000000\n",
       "March5  0.00000    0.00000    0.00000    0.00000    0.00000    0.00000  \n",
       "March6   0.000000   0.000000   0.000000   0.000000   0.000000   0.000000\n",
       "44075   0.00000    0.00000    0.00000    0.00000    0.00000    0.00000  \n",
       "Sept2    0.00000    0.00000    0.00000    0.00000    0.00000    0.00000 \n",
       "Sept3    0.00000    0.00000    0.00000    0.00000    0.00000    0.00000 \n",
       "       1_926614   1_494014   1_494017   1_494020   ⋯ 7_685178   7_685217  \n",
       "March3 -43.717376  21.139951  25.225516  13.911069 ⋯   0.000000   0.000000\n",
       "March5 43.71738    0.00000    0.00000    0.00000   ⋯  0.00000    0.00000  \n",
       "March6   0.000000  17.345392  19.622464  13.911069 ⋯ -12.210131 -11.108075\n",
       "44075   0.00000    0.00000    0.00000    0.00000   ⋯ 50.10020   50.18166  \n",
       "Sept2    0.00000  -49.59088  -50.70325  -24.04725  ⋯   0.00000    0.00000 \n",
       "Sept3    0.00000    0.00000    0.00000    0.00000  ⋯   0.00000    0.00000 \n",
       "       7_821662   7_823408   7_839434   7_839446   7_833455   7_840319  \n",
       "March3   0.000000   0.000000   0.000000   0.000000   0.000000   0.000000\n",
       "March5  0.00000    0.00000    0.00000    0.00000    0.00000    0.00000  \n",
       "March6  12.417918 -16.572974   0.000000  10.816353 -15.346226   0.000000\n",
       "44075  11.47676   24.22962   57.71340   29.36616    0.00000   53.20677  \n",
       "Sept2    0.00000    0.00000    0.00000    0.00000    0.00000    0.00000 \n",
       "Sept3    0.00000    0.00000    0.00000    0.00000    0.00000    0.00000 \n",
       "       7_834112   7_995287  \n",
       "March3   0.000000   0.000000\n",
       "March5  0.00000    0.00000  \n",
       "March6 -13.180961 -13.735811\n",
       "44075  39.04054   71.68664  \n",
       "Sept2    0.00000    0.00000 \n",
       "Sept3    0.00000    0.00000 "
      ]
     },
     "metadata": {},
     "output_type": "display_data"
    },
    {
     "data": {
      "text/html": [
       "<style>\n",
       ".list-inline {list-style: none; margin:0; padding: 0}\n",
       ".list-inline>li {display: inline-block}\n",
       ".list-inline>li:not(:last-child)::after {content: \"\\00b7\"; padding: 0 .5ex}\n",
       "</style>\n",
       "<ol class=list-inline><li>10560</li><li>74</li></ol>\n"
      ],
      "text/latex": [
       "\\begin{enumerate*}\n",
       "\\item 10560\n",
       "\\item 74\n",
       "\\end{enumerate*}\n"
      ],
      "text/markdown": [
       "1. 10560\n",
       "2. 74\n",
       "\n",
       "\n"
      ],
      "text/plain": [
       "[1] 10560    74"
      ]
     },
     "metadata": {},
     "output_type": "display_data"
    }
   ],
   "source": [
    "colnames(pd.data) <- pd.data[\"Time_BiosetID\", ] %>% as.vector\n",
    "pd.data <- pd.data[2:nrow(pd.data), ]\n",
    "pd.data %>% head\n",
    "pd.data %>% dim"
   ]
  },
  {
   "cell_type": "code",
   "execution_count": 73,
   "id": "destroyed-inspection",
   "metadata": {},
   "outputs": [
    {
     "data": {
      "text/html": [
       "<style>\n",
       ".list-inline {list-style: none; margin:0; padding: 0}\n",
       ".list-inline>li {display: inline-block}\n",
       ".list-inline>li:not(:last-child)::after {content: \"\\00b7\"; padding: 0 .5ex}\n",
       "</style>\n",
       "<ol class=list-inline><li>9883</li><li>74</li></ol>\n"
      ],
      "text/latex": [
       "\\begin{enumerate*}\n",
       "\\item 9883\n",
       "\\item 74\n",
       "\\end{enumerate*}\n"
      ],
      "text/markdown": [
       "1. 9883\n",
       "2. 74\n",
       "\n",
       "\n"
      ],
      "text/plain": [
       "[1] 9883   74"
      ]
     },
     "metadata": {},
     "output_type": "display_data"
    }
   ],
   "source": [
    "pd.data %>% distinct %>% dim"
   ]
  },
  {
   "cell_type": "code",
   "execution_count": 76,
   "id": "associate-paradise",
   "metadata": {},
   "outputs": [],
   "source": [
    "fwrite(pd.data,'plot_dat.csv')"
   ]
  },
  {
   "cell_type": "code",
   "execution_count": 85,
   "id": "coral-grade",
   "metadata": {},
   "outputs": [
    {
     "name": "stderr",
     "output_type": "stream",
     "text": [
      "Warning message:\n",
      "“unable to access index for repository https://cran.r-project.org/src/contrib:\n",
      "  internet routines cannot be loaded”\n",
      "Warning message:\n",
      "“package ‘devtools’ is not available for this version of R\n",
      "\n",
      "A version of this package for your version of R might be available elsewhere,\n",
      "see the ideas at\n",
      "https://cran.r-project.org/doc/manuals/r-patched/R-admin.html#Installing-packages”\n"
     ]
    },
    {
     "ename": "ERROR",
     "evalue": "Error in install_github(\"jokergoo/ComplexHeatmap\"): could not find function \"install_github\"\n",
     "output_type": "error",
     "traceback": [
      "Error in install_github(\"jokergoo/ComplexHeatmap\"): could not find function \"install_github\"\nTraceback:\n"
     ]
    }
   ],
   "source": [
    "install.packages(\"devtools\")\n",
    "install_github(\"jokergoo/ComplexHeatmap\")"
   ]
  },
  {
   "cell_type": "code",
   "execution_count": 80,
   "id": "narrative-smart",
   "metadata": {},
   "outputs": [
    {
     "ename": "ERROR",
     "evalue": "Error in Heatmap(pd.data, row_km = 3): could not find function \"Heatmap\"\n",
     "output_type": "error",
     "traceback": [
      "Error in Heatmap(pd.data, row_km = 3): could not find function \"Heatmap\"\nTraceback:\n"
     ]
    }
   ],
   "source": [
    "ComplexHeHeatmap(pd.data, row_km = 3)"
   ]
  },
  {
   "cell_type": "code",
   "execution_count": null,
   "id": "injured-albert",
   "metadata": {},
   "outputs": [],
   "source": []
  }
 ],
 "metadata": {
  "kernelspec": {
   "display_name": "R",
   "language": "R",
   "name": "ir"
  },
  "language_info": {
   "codemirror_mode": "r",
   "file_extension": ".r",
   "mimetype": "text/x-r-source",
   "name": "R",
   "pygments_lexer": "r",
   "version": "4.0.3"
  }
 },
 "nbformat": 4,
 "nbformat_minor": 5
}
