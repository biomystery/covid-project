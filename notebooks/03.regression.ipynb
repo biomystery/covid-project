{
 "cells": [
  {
   "cell_type": "code",
   "execution_count": 104,
   "id": "dietary-funds",
   "metadata": {},
   "outputs": [],
   "source": [
    "# Import all the libraries that we shall be using\n",
    "import numpy as np\n",
    "import pandas as pd\n",
    "\n",
    "import matplotlib.pyplot as plt\n",
    "import seaborn as sns\n",
    "from mpl_toolkits.mplot3d import Axes3D\n",
    "%matplotlib inline\n",
    "\n",
    "from sklearn.preprocessing import StandardScaler\n",
    "from sklearn.decomposition import PCA\n",
    "from sklearn.model_selection import GridSearchCV, cross_val_score\n",
    "from sklearn.metrics import accuracy_score, confusion_matrix\n",
    "from sklearn.cluster import KMeans\n",
    "from sklearn.svm import SVC\n",
    "from sklearn.linear_model import LogisticRegression\n",
    "from sklearn.naive_bayes import GaussianNB\n",
    "from sklearn.ensemble import RandomForestClassifier\n",
    "\n",
    "import xgboost as xgb\n",
    "\n",
    "from keras.models import Sequential\n",
    "from keras.layers import Dense\n",
    "from keras.callbacks import EarlyStopping"
   ]
  },
  {
   "cell_type": "markdown",
   "id": "ignored-vessel",
   "metadata": {},
   "source": [
    "### labels"
   ]
  },
  {
   "cell_type": "code",
   "execution_count": 140,
   "id": "sophisticated-africa",
   "metadata": {},
   "outputs": [
    {
     "name": "stdout",
     "output_type": "stream",
     "text": [
      "(74, 24)\n"
     ]
    },
    {
     "data": {
      "text/html": [
       "<div>\n",
       "<style scoped>\n",
       "    .dataframe tbody tr th:only-of-type {\n",
       "        vertical-align: middle;\n",
       "    }\n",
       "\n",
       "    .dataframe tbody tr th {\n",
       "        vertical-align: top;\n",
       "    }\n",
       "\n",
       "    .dataframe thead th {\n",
       "        text-align: right;\n",
       "    }\n",
       "</style>\n",
       "<table border=\"1\" class=\"dataframe\">\n",
       "  <thead>\n",
       "    <tr style=\"text-align: right;\">\n",
       "      <th></th>\n",
       "      <th>Unnamed: 0</th>\n",
       "      <th>Time_BiosetID</th>\n",
       "      <th>Day Post-Infection</th>\n",
       "      <th>Species</th>\n",
       "      <th>GEO ID, link</th>\n",
       "      <th>Study name</th>\n",
       "      <th>Bioset name</th>\n",
       "      <th>Test Samples</th>\n",
       "      <th>Control Samples</th>\n",
       "      <th>Feature Size</th>\n",
       "      <th>...</th>\n",
       "      <th>Viral Dose (PFUs)</th>\n",
       "      <th>Viral Severity</th>\n",
       "      <th>Sample Source (strain, cell)</th>\n",
       "      <th>Host Mouse Strain</th>\n",
       "      <th>Sex</th>\n",
       "      <th>Host Age Category</th>\n",
       "      <th>Host Age Cat</th>\n",
       "      <th>Host Age</th>\n",
       "      <th>Technology</th>\n",
       "      <th>Lab</th>\n",
       "    </tr>\n",
       "  </thead>\n",
       "  <tbody>\n",
       "    <tr>\n",
       "      <th>0</th>\n",
       "      <td>1</td>\n",
       "      <td>0.5_867451</td>\n",
       "      <td>0.5</td>\n",
       "      <td>Mus musculus</td>\n",
       "      <td>GSE36969</td>\n",
       "      <td>Lungs from aged and young mice infected with m...</td>\n",
       "      <td>Lungs from 1yr old (aged) mice - 12hr post SAR...</td>\n",
       "      <td>3</td>\n",
       "      <td>3</td>\n",
       "      <td>627</td>\n",
       "      <td>...</td>\n",
       "      <td>10000</td>\n",
       "      <td>NaN</td>\n",
       "      <td>Lung</td>\n",
       "      <td>BALB/c</td>\n",
       "      <td>female</td>\n",
       "      <td>aged</td>\n",
       "      <td>3-aged (52 weeks old)</td>\n",
       "      <td>1yr</td>\n",
       "      <td>Agilent-014868 Whole Mouse Genome Microarray 4...</td>\n",
       "      <td>Michael Katze - University of Washington</td>\n",
       "    </tr>\n",
       "  </tbody>\n",
       "</table>\n",
       "<p>1 rows × 24 columns</p>\n",
       "</div>"
      ],
      "text/plain": [
       "   Unnamed: 0 Time_BiosetID  Day Post-Infection       Species GEO ID, link  \\\n",
       "0           1    0.5_867451                 0.5  Mus musculus     GSE36969   \n",
       "\n",
       "                                          Study name  \\\n",
       "0  Lungs from aged and young mice infected with m...   \n",
       "\n",
       "                                         Bioset name  Test Samples  \\\n",
       "0  Lungs from 1yr old (aged) mice - 12hr post SAR...             3   \n",
       "\n",
       "   Control Samples  Feature Size  ... Viral Dose (PFUs) Viral Severity  \\\n",
       "0                3           627  ...             10000            NaN   \n",
       "\n",
       "  Sample Source (strain, cell) Host Mouse Strain     Sex Host Age Category  \\\n",
       "0                         Lung            BALB/c  female              aged   \n",
       "\n",
       "            Host Age Cat Host Age  \\\n",
       "0  3-aged (52 weeks old)      1yr   \n",
       "\n",
       "                                          Technology  \\\n",
       "0  Agilent-014868 Whole Mouse Genome Microarray 4...   \n",
       "\n",
       "                                        Lab  \n",
       "0  Michael Katze - University of Washington  \n",
       "\n",
       "[1 rows x 24 columns]"
      ]
     },
     "execution_count": 140,
     "metadata": {},
     "output_type": "execute_result"
    }
   ],
   "source": [
    "# Import labels (for the whole dataset, both training and testing)\n",
    "y = pd.read_csv('../data_processed/meta_data.csv')\n",
    "print(y.shape)\n",
    "# y = y[['Time_BiosetID', 'Host Age Category']]\n",
    "y.head(1)\n"
   ]
  },
  {
   "cell_type": "markdown",
   "id": "pursuant-prior",
   "metadata": {
    "heading_collapsed": true
   },
   "source": [
    "#### merge adult and aged group"
   ]
  },
  {
   "cell_type": "code",
   "execution_count": 14,
   "id": "arabic-snake",
   "metadata": {
    "hidden": true
   },
   "outputs": [
    {
     "data": {
      "text/plain": [
       "adult    37\n",
       "young    28\n",
       "aged      9\n",
       "Name: Host Age Category, dtype: int64"
      ]
     },
     "execution_count": 14,
     "metadata": {},
     "output_type": "execute_result"
    }
   ],
   "source": [
    "y['Host Age Category'].value_counts()"
   ]
  },
  {
   "cell_type": "code",
   "execution_count": 18,
   "id": "shared-occasion",
   "metadata": {
    "hidden": true
   },
   "outputs": [
    {
     "data": {
      "text/plain": [
       "adult    46\n",
       "young    28\n",
       "Name: Host Age Category, dtype: int64"
      ]
     },
     "execution_count": 18,
     "metadata": {},
     "output_type": "execute_result"
    }
   ],
   "source": [
    "y.loc[y['Host Age Category'] == 'aged', 'Host Age Category'] = 'adult'\n",
    "y['Host Age Category'].value_counts()"
   ]
  },
  {
   "cell_type": "code",
   "execution_count": 19,
   "id": "official-collaboration",
   "metadata": {
    "hidden": true
   },
   "outputs": [],
   "source": [
    "y = y.replace({'young':0,'adult':1})\n",
    "labels = ['young', 'adult'] # for plotting convenience later on"
   ]
  },
  {
   "cell_type": "code",
   "execution_count": 29,
   "id": "composite-surrey",
   "metadata": {
    "hidden": true
   },
   "outputs": [
    {
     "name": "stdout",
     "output_type": "stream",
     "text": [
      "(74, 10564)\n"
     ]
    },
    {
     "data": {
      "text/html": [
       "<div>\n",
       "<style scoped>\n",
       "    .dataframe tbody tr th:only-of-type {\n",
       "        vertical-align: middle;\n",
       "    }\n",
       "\n",
       "    .dataframe tbody tr th {\n",
       "        vertical-align: top;\n",
       "    }\n",
       "\n",
       "    .dataframe thead th {\n",
       "        text-align: right;\n",
       "    }\n",
       "</style>\n",
       "<table border=\"1\" class=\"dataframe\">\n",
       "  <thead>\n",
       "    <tr style=\"text-align: right;\">\n",
       "      <th></th>\n",
       "      <th>March1</th>\n",
       "      <th>43891</th>\n",
       "      <th>43892</th>\n",
       "      <th>March2</th>\n",
       "      <th>March3</th>\n",
       "      <th>March5</th>\n",
       "      <th>March6</th>\n",
       "      <th>44075</th>\n",
       "      <th>Sept2</th>\n",
       "      <th>Sept3</th>\n",
       "      <th>...</th>\n",
       "      <th>Zswim5</th>\n",
       "      <th>Zswim6</th>\n",
       "      <th>Zswim8</th>\n",
       "      <th>Zufsp</th>\n",
       "      <th>Zwilch</th>\n",
       "      <th>Zwint</th>\n",
       "      <th>Zxda</th>\n",
       "      <th>Zxdc</th>\n",
       "      <th>Zyg11b</th>\n",
       "      <th>Zzz3</th>\n",
       "    </tr>\n",
       "  </thead>\n",
       "  <tbody>\n",
       "    <tr>\n",
       "      <th>0.5_867451</th>\n",
       "      <td>0.0</td>\n",
       "      <td>0.0</td>\n",
       "      <td>0.0</td>\n",
       "      <td>0.0</td>\n",
       "      <td>0.0</td>\n",
       "      <td>0.0</td>\n",
       "      <td>0.0</td>\n",
       "      <td>0.0</td>\n",
       "      <td>0.0</td>\n",
       "      <td>0.0</td>\n",
       "      <td>...</td>\n",
       "      <td>0.0</td>\n",
       "      <td>0.0</td>\n",
       "      <td>-61.05975</td>\n",
       "      <td>0.0</td>\n",
       "      <td>0.0</td>\n",
       "      <td>0.0</td>\n",
       "      <td>0.0</td>\n",
       "      <td>0.0</td>\n",
       "      <td>0.0</td>\n",
       "      <td>0.0</td>\n",
       "    </tr>\n",
       "  </tbody>\n",
       "</table>\n",
       "<p>1 rows × 10564 columns</p>\n",
       "</div>"
      ],
      "text/plain": [
       "            March1  43891  43892  March2  March3  March5  March6  44075  \\\n",
       "0.5_867451     0.0    0.0    0.0     0.0     0.0     0.0     0.0    0.0   \n",
       "\n",
       "            Sept2  Sept3  ...  Zswim5  Zswim6    Zswim8  Zufsp  Zwilch  Zwint  \\\n",
       "0.5_867451    0.0    0.0  ...     0.0     0.0 -61.05975    0.0     0.0    0.0   \n",
       "\n",
       "            Zxda  Zxdc  Zyg11b  Zzz3  \n",
       "0.5_867451   0.0   0.0     0.0   0.0  \n",
       "\n",
       "[1 rows x 10564 columns]"
      ]
     },
     "execution_count": 29,
     "metadata": {},
     "output_type": "execute_result"
    }
   ],
   "source": [
    "df_x = pd.read_csv('../data_processed/plot_dat.csv', index_col=0).T\n",
    "print(df_x.shape)\n",
    "df_x.head(1)"
   ]
  },
  {
   "cell_type": "code",
   "execution_count": 36,
   "id": "bizarre-sense",
   "metadata": {
    "hidden": true,
    "scrolled": true
   },
   "outputs": [
    {
     "data": {
      "text/plain": [
       "True"
      ]
     },
     "execution_count": 36,
     "metadata": {},
     "output_type": "execute_result"
    }
   ],
   "source": [
    "df_x.index.to_list() == y['Time_BiosetID'].to_list()"
   ]
  },
  {
   "cell_type": "markdown",
   "id": "active-narrow",
   "metadata": {
    "heading_collapsed": true
   },
   "source": [
    "#### split"
   ]
  },
  {
   "cell_type": "code",
   "execution_count": 86,
   "id": "toxic-compact",
   "metadata": {
    "hidden": true
   },
   "outputs": [],
   "source": [
    "# split train and testing\n",
    "from sklearn.model_selection import train_test_split\n",
    "\n",
    "# y_ = y.pop('Host Age Category')\n",
    "X = df_x\n",
    "\n",
    "X_train, X_test, y_train, y_test = train_test_split(X.index,\n",
    "                                                    y_,\n",
    "                                                    test_size=0.2,\n",
    "                                                    random_state=44,\n",
    "                                                    stratify=y_)\n",
    "# X.loc[X_train]  # return dataframe train"
   ]
  },
  {
   "cell_type": "code",
   "execution_count": 87,
   "id": "adjacent-settle",
   "metadata": {
    "hidden": true,
    "scrolled": true
   },
   "outputs": [
    {
     "name": "stdout",
     "output_type": "stream",
     "text": [
      "1    9\n",
      "0    6\n",
      "Name: Host Age Category, dtype: int64\n"
     ]
    },
    {
     "data": {
      "text/plain": [
       "1    37\n",
       "0    22\n",
       "Name: Host Age Category, dtype: int64"
      ]
     },
     "execution_count": 87,
     "metadata": {},
     "output_type": "execute_result"
    }
   ],
   "source": [
    "print(y_test.value_counts())\n",
    "y_train.value_counts()"
   ]
  },
  {
   "cell_type": "code",
   "execution_count": 88,
   "id": "qualified-jumping",
   "metadata": {
    "hidden": true
   },
   "outputs": [],
   "source": [
    "y_train = y_train.reset_index(drop=True)\n",
    "y_test  = y_test.reset_index(drop=True)"
   ]
  },
  {
   "cell_type": "code",
   "execution_count": 89,
   "id": "portable-martin",
   "metadata": {
    "hidden": true,
    "scrolled": true
   },
   "outputs": [
    {
     "name": "stdout",
     "output_type": "stream",
     "text": [
      "(59, 10564)\n"
     ]
    },
    {
     "data": {
      "text/html": [
       "<div>\n",
       "<style scoped>\n",
       "    .dataframe tbody tr th:only-of-type {\n",
       "        vertical-align: middle;\n",
       "    }\n",
       "\n",
       "    .dataframe tbody tr th {\n",
       "        vertical-align: top;\n",
       "    }\n",
       "\n",
       "    .dataframe thead th {\n",
       "        text-align: right;\n",
       "    }\n",
       "</style>\n",
       "<table border=\"1\" class=\"dataframe\">\n",
       "  <thead>\n",
       "    <tr style=\"text-align: right;\">\n",
       "      <th></th>\n",
       "      <th>March1</th>\n",
       "      <th>43891</th>\n",
       "      <th>43892</th>\n",
       "      <th>March2</th>\n",
       "      <th>March3</th>\n",
       "      <th>March5</th>\n",
       "      <th>March6</th>\n",
       "      <th>44075</th>\n",
       "      <th>Sept2</th>\n",
       "      <th>Sept3</th>\n",
       "      <th>...</th>\n",
       "      <th>Zswim5</th>\n",
       "      <th>Zswim6</th>\n",
       "      <th>Zswim8</th>\n",
       "      <th>Zufsp</th>\n",
       "      <th>Zwilch</th>\n",
       "      <th>Zwint</th>\n",
       "      <th>Zxda</th>\n",
       "      <th>Zxdc</th>\n",
       "      <th>Zyg11b</th>\n",
       "      <th>Zzz3</th>\n",
       "    </tr>\n",
       "  </thead>\n",
       "  <tbody>\n",
       "    <tr>\n",
       "      <th>4_494041</th>\n",
       "      <td>41.86237</td>\n",
       "      <td>0.0</td>\n",
       "      <td>0.0</td>\n",
       "      <td>-21.212507</td>\n",
       "      <td>0.0</td>\n",
       "      <td>18.08325</td>\n",
       "      <td>0.0</td>\n",
       "      <td>0.0</td>\n",
       "      <td>0.0</td>\n",
       "      <td>-38.60139</td>\n",
       "      <td>...</td>\n",
       "      <td>0.0</td>\n",
       "      <td>0.0</td>\n",
       "      <td>0.0</td>\n",
       "      <td>0.0</td>\n",
       "      <td>32.78409</td>\n",
       "      <td>0.0</td>\n",
       "      <td>0.0</td>\n",
       "      <td>0.0</td>\n",
       "      <td>-10.646135</td>\n",
       "      <td>-15.45887</td>\n",
       "    </tr>\n",
       "  </tbody>\n",
       "</table>\n",
       "<p>1 rows × 10564 columns</p>\n",
       "</div>"
      ],
      "text/plain": [
       "            March1  43891  43892     March2  March3    March5  March6  44075  \\\n",
       "4_494041  41.86237    0.0    0.0 -21.212507     0.0  18.08325     0.0    0.0   \n",
       "\n",
       "          Sept2     Sept3  ...  Zswim5  Zswim6  Zswim8  Zufsp    Zwilch  \\\n",
       "4_494041    0.0 -38.60139  ...     0.0     0.0     0.0    0.0  32.78409   \n",
       "\n",
       "          Zwint  Zxda  Zxdc     Zyg11b      Zzz3  \n",
       "4_494041    0.0   0.0   0.0 -10.646135 -15.45887  \n",
       "\n",
       "[1 rows x 10564 columns]"
      ]
     },
     "execution_count": 89,
     "metadata": {},
     "output_type": "execute_result"
    }
   ],
   "source": [
    "X_train = X.loc[X_train]\n",
    "print(X_train.shape)\n",
    "X_train.head(1)"
   ]
  },
  {
   "cell_type": "code",
   "execution_count": 90,
   "id": "separate-blond",
   "metadata": {
    "hidden": true
   },
   "outputs": [
    {
     "name": "stdout",
     "output_type": "stream",
     "text": [
      "(15, 10564)\n"
     ]
    },
    {
     "data": {
      "text/html": [
       "<div>\n",
       "<style scoped>\n",
       "    .dataframe tbody tr th:only-of-type {\n",
       "        vertical-align: middle;\n",
       "    }\n",
       "\n",
       "    .dataframe tbody tr th {\n",
       "        vertical-align: top;\n",
       "    }\n",
       "\n",
       "    .dataframe thead th {\n",
       "        text-align: right;\n",
       "    }\n",
       "</style>\n",
       "<table border=\"1\" class=\"dataframe\">\n",
       "  <thead>\n",
       "    <tr style=\"text-align: right;\">\n",
       "      <th></th>\n",
       "      <th>March1</th>\n",
       "      <th>43891</th>\n",
       "      <th>43892</th>\n",
       "      <th>March2</th>\n",
       "      <th>March3</th>\n",
       "      <th>March5</th>\n",
       "      <th>March6</th>\n",
       "      <th>44075</th>\n",
       "      <th>Sept2</th>\n",
       "      <th>Sept3</th>\n",
       "      <th>...</th>\n",
       "      <th>Zswim5</th>\n",
       "      <th>Zswim6</th>\n",
       "      <th>Zswim8</th>\n",
       "      <th>Zufsp</th>\n",
       "      <th>Zwilch</th>\n",
       "      <th>Zwint</th>\n",
       "      <th>Zxda</th>\n",
       "      <th>Zxdc</th>\n",
       "      <th>Zyg11b</th>\n",
       "      <th>Zzz3</th>\n",
       "    </tr>\n",
       "  </thead>\n",
       "  <tbody>\n",
       "    <tr>\n",
       "      <th>0.5_867478</th>\n",
       "      <td>0.0</td>\n",
       "      <td>0.0</td>\n",
       "      <td>0.0</td>\n",
       "      <td>0.0</td>\n",
       "      <td>0.0</td>\n",
       "      <td>0.0</td>\n",
       "      <td>0.0</td>\n",
       "      <td>0.0</td>\n",
       "      <td>0.0</td>\n",
       "      <td>0.0</td>\n",
       "      <td>...</td>\n",
       "      <td>0.0</td>\n",
       "      <td>0.0</td>\n",
       "      <td>0.0</td>\n",
       "      <td>0.0</td>\n",
       "      <td>0.0</td>\n",
       "      <td>0.0</td>\n",
       "      <td>0.0</td>\n",
       "      <td>0.0</td>\n",
       "      <td>0.0</td>\n",
       "      <td>0.0</td>\n",
       "    </tr>\n",
       "  </tbody>\n",
       "</table>\n",
       "<p>1 rows × 10564 columns</p>\n",
       "</div>"
      ],
      "text/plain": [
       "            March1  43891  43892  March2  March3  March5  March6  44075  \\\n",
       "0.5_867478     0.0    0.0    0.0     0.0     0.0     0.0     0.0    0.0   \n",
       "\n",
       "            Sept2  Sept3  ...  Zswim5  Zswim6  Zswim8  Zufsp  Zwilch  Zwint  \\\n",
       "0.5_867478    0.0    0.0  ...     0.0     0.0     0.0    0.0     0.0    0.0   \n",
       "\n",
       "            Zxda  Zxdc  Zyg11b  Zzz3  \n",
       "0.5_867478   0.0   0.0     0.0   0.0  \n",
       "\n",
       "[1 rows x 10564 columns]"
      ]
     },
     "execution_count": 90,
     "metadata": {},
     "output_type": "execute_result"
    }
   ],
   "source": [
    "X_test = X[~X.index.isin(X_train.index)]\n",
    "print(X_test.shape)\n",
    "X_test.head(1)"
   ]
  },
  {
   "cell_type": "code",
   "execution_count": 91,
   "id": "altered-algeria",
   "metadata": {
    "hidden": true
   },
   "outputs": [
    {
     "data": {
      "text/html": [
       "<div>\n",
       "<style scoped>\n",
       "    .dataframe tbody tr th:only-of-type {\n",
       "        vertical-align: middle;\n",
       "    }\n",
       "\n",
       "    .dataframe tbody tr th {\n",
       "        vertical-align: top;\n",
       "    }\n",
       "\n",
       "    .dataframe thead th {\n",
       "        text-align: right;\n",
       "    }\n",
       "</style>\n",
       "<table border=\"1\" class=\"dataframe\">\n",
       "  <thead>\n",
       "    <tr style=\"text-align: right;\">\n",
       "      <th></th>\n",
       "      <th>March1</th>\n",
       "      <th>43891</th>\n",
       "      <th>43892</th>\n",
       "      <th>March2</th>\n",
       "      <th>March3</th>\n",
       "      <th>March5</th>\n",
       "      <th>March6</th>\n",
       "      <th>44075</th>\n",
       "      <th>Sept2</th>\n",
       "      <th>Sept3</th>\n",
       "      <th>...</th>\n",
       "      <th>Zswim5</th>\n",
       "      <th>Zswim6</th>\n",
       "      <th>Zswim8</th>\n",
       "      <th>Zufsp</th>\n",
       "      <th>Zwilch</th>\n",
       "      <th>Zwint</th>\n",
       "      <th>Zxda</th>\n",
       "      <th>Zxdc</th>\n",
       "      <th>Zyg11b</th>\n",
       "      <th>Zzz3</th>\n",
       "    </tr>\n",
       "  </thead>\n",
       "  <tbody>\n",
       "    <tr>\n",
       "      <th>0</th>\n",
       "      <td>41.86237</td>\n",
       "      <td>0.0</td>\n",
       "      <td>0.0</td>\n",
       "      <td>-21.212507</td>\n",
       "      <td>0.0</td>\n",
       "      <td>18.08325</td>\n",
       "      <td>0.0</td>\n",
       "      <td>0.0</td>\n",
       "      <td>0.0</td>\n",
       "      <td>-38.60139</td>\n",
       "      <td>...</td>\n",
       "      <td>0.0</td>\n",
       "      <td>0.0</td>\n",
       "      <td>0.0</td>\n",
       "      <td>0.0</td>\n",
       "      <td>32.78409</td>\n",
       "      <td>0.0</td>\n",
       "      <td>0.0</td>\n",
       "      <td>0.0</td>\n",
       "      <td>-10.646135</td>\n",
       "      <td>-15.45887</td>\n",
       "    </tr>\n",
       "  </tbody>\n",
       "</table>\n",
       "<p>1 rows × 10564 columns</p>\n",
       "</div>"
      ],
      "text/plain": [
       "     March1  43891  43892     March2  March3    March5  March6  44075  Sept2  \\\n",
       "0  41.86237    0.0    0.0 -21.212507     0.0  18.08325     0.0    0.0    0.0   \n",
       "\n",
       "      Sept3  ...  Zswim5  Zswim6  Zswim8  Zufsp    Zwilch  Zwint  Zxda  Zxdc  \\\n",
       "0 -38.60139  ...     0.0     0.0     0.0    0.0  32.78409    0.0   0.0   0.0   \n",
       "\n",
       "      Zyg11b      Zzz3  \n",
       "0 -10.646135 -15.45887  \n",
       "\n",
       "[1 rows x 10564 columns]"
      ]
     },
     "execution_count": 91,
     "metadata": {},
     "output_type": "execute_result"
    }
   ],
   "source": [
    "X_train= X_train.reset_index(drop=True)\n",
    "X_train.head(1)"
   ]
  },
  {
   "cell_type": "code",
   "execution_count": 92,
   "id": "baking-elimination",
   "metadata": {
    "hidden": true
   },
   "outputs": [
    {
     "data": {
      "text/html": [
       "<div>\n",
       "<style scoped>\n",
       "    .dataframe tbody tr th:only-of-type {\n",
       "        vertical-align: middle;\n",
       "    }\n",
       "\n",
       "    .dataframe tbody tr th {\n",
       "        vertical-align: top;\n",
       "    }\n",
       "\n",
       "    .dataframe thead th {\n",
       "        text-align: right;\n",
       "    }\n",
       "</style>\n",
       "<table border=\"1\" class=\"dataframe\">\n",
       "  <thead>\n",
       "    <tr style=\"text-align: right;\">\n",
       "      <th></th>\n",
       "      <th>March1</th>\n",
       "      <th>43891</th>\n",
       "      <th>43892</th>\n",
       "      <th>March2</th>\n",
       "      <th>March3</th>\n",
       "      <th>March5</th>\n",
       "      <th>March6</th>\n",
       "      <th>44075</th>\n",
       "      <th>Sept2</th>\n",
       "      <th>Sept3</th>\n",
       "      <th>...</th>\n",
       "      <th>Zswim5</th>\n",
       "      <th>Zswim6</th>\n",
       "      <th>Zswim8</th>\n",
       "      <th>Zufsp</th>\n",
       "      <th>Zwilch</th>\n",
       "      <th>Zwint</th>\n",
       "      <th>Zxda</th>\n",
       "      <th>Zxdc</th>\n",
       "      <th>Zyg11b</th>\n",
       "      <th>Zzz3</th>\n",
       "    </tr>\n",
       "  </thead>\n",
       "  <tbody>\n",
       "    <tr>\n",
       "      <th>0</th>\n",
       "      <td>0.0</td>\n",
       "      <td>0.0</td>\n",
       "      <td>0.0</td>\n",
       "      <td>0.0</td>\n",
       "      <td>0.0</td>\n",
       "      <td>0.0</td>\n",
       "      <td>0.0</td>\n",
       "      <td>0.0</td>\n",
       "      <td>0.0</td>\n",
       "      <td>0.0</td>\n",
       "      <td>...</td>\n",
       "      <td>0.0</td>\n",
       "      <td>0.0</td>\n",
       "      <td>0.0</td>\n",
       "      <td>0.0</td>\n",
       "      <td>0.0</td>\n",
       "      <td>0.0</td>\n",
       "      <td>0.0</td>\n",
       "      <td>0.0</td>\n",
       "      <td>0.0</td>\n",
       "      <td>0.0</td>\n",
       "    </tr>\n",
       "  </tbody>\n",
       "</table>\n",
       "<p>1 rows × 10564 columns</p>\n",
       "</div>"
      ],
      "text/plain": [
       "   March1  43891  43892  March2  March3  March5  March6  44075  Sept2  Sept3  \\\n",
       "0     0.0    0.0    0.0     0.0     0.0     0.0     0.0    0.0    0.0    0.0   \n",
       "\n",
       "   ...  Zswim5  Zswim6  Zswim8  Zufsp  Zwilch  Zwint  Zxda  Zxdc  Zyg11b  Zzz3  \n",
       "0  ...     0.0     0.0     0.0    0.0     0.0    0.0   0.0   0.0     0.0   0.0  \n",
       "\n",
       "[1 rows x 10564 columns]"
      ]
     },
     "execution_count": 92,
     "metadata": {},
     "output_type": "execute_result"
    }
   ],
   "source": [
    "X_test= X_test.reset_index(drop=True)\n",
    "X_test.head(1)"
   ]
  },
  {
   "cell_type": "code",
   "execution_count": 62,
   "id": "prospective-philadelphia",
   "metadata": {
    "hidden": true
   },
   "outputs": [
    {
     "data": {
      "text/html": [
       "<div>\n",
       "<style scoped>\n",
       "    .dataframe tbody tr th:only-of-type {\n",
       "        vertical-align: middle;\n",
       "    }\n",
       "\n",
       "    .dataframe tbody tr th {\n",
       "        vertical-align: top;\n",
       "    }\n",
       "\n",
       "    .dataframe thead th {\n",
       "        text-align: right;\n",
       "    }\n",
       "</style>\n",
       "<table border=\"1\" class=\"dataframe\">\n",
       "  <thead>\n",
       "    <tr style=\"text-align: right;\">\n",
       "      <th></th>\n",
       "      <th>March1</th>\n",
       "      <th>43891</th>\n",
       "      <th>43892</th>\n",
       "      <th>March2</th>\n",
       "      <th>March3</th>\n",
       "      <th>March5</th>\n",
       "      <th>March6</th>\n",
       "      <th>44075</th>\n",
       "      <th>Sept2</th>\n",
       "      <th>Sept3</th>\n",
       "      <th>...</th>\n",
       "      <th>Zswim5</th>\n",
       "      <th>Zswim6</th>\n",
       "      <th>Zswim8</th>\n",
       "      <th>Zufsp</th>\n",
       "      <th>Zwilch</th>\n",
       "      <th>Zwint</th>\n",
       "      <th>Zxda</th>\n",
       "      <th>Zxdc</th>\n",
       "      <th>Zyg11b</th>\n",
       "      <th>Zzz3</th>\n",
       "    </tr>\n",
       "  </thead>\n",
       "  <tbody>\n",
       "    <tr>\n",
       "      <th>count</th>\n",
       "      <td>59.000000</td>\n",
       "      <td>59.000000</td>\n",
       "      <td>59.0</td>\n",
       "      <td>59.000000</td>\n",
       "      <td>59.000000</td>\n",
       "      <td>59.000000</td>\n",
       "      <td>59.000000</td>\n",
       "      <td>59.000000</td>\n",
       "      <td>59.000000</td>\n",
       "      <td>59.000000</td>\n",
       "      <td>...</td>\n",
       "      <td>59.000000</td>\n",
       "      <td>59.000000</td>\n",
       "      <td>59.000000</td>\n",
       "      <td>59.000000</td>\n",
       "      <td>59.000000</td>\n",
       "      <td>59.000000</td>\n",
       "      <td>59.000000</td>\n",
       "      <td>59.000000</td>\n",
       "      <td>59.000000</td>\n",
       "      <td>59.000000</td>\n",
       "    </tr>\n",
       "    <tr>\n",
       "      <th>mean</th>\n",
       "      <td>11.293577</td>\n",
       "      <td>-5.676667</td>\n",
       "      <td>0.0</td>\n",
       "      <td>-4.138761</td>\n",
       "      <td>3.666019</td>\n",
       "      <td>22.006571</td>\n",
       "      <td>-0.214556</td>\n",
       "      <td>6.416476</td>\n",
       "      <td>-1.853354</td>\n",
       "      <td>-23.933165</td>\n",
       "      <td>...</td>\n",
       "      <td>-8.861452</td>\n",
       "      <td>-0.780815</td>\n",
       "      <td>-0.910696</td>\n",
       "      <td>22.717001</td>\n",
       "      <td>17.831353</td>\n",
       "      <td>5.092241</td>\n",
       "      <td>-1.676427</td>\n",
       "      <td>-5.025238</td>\n",
       "      <td>-3.339970</td>\n",
       "      <td>-14.042053</td>\n",
       "    </tr>\n",
       "    <tr>\n",
       "      <th>std</th>\n",
       "      <td>19.543075</td>\n",
       "      <td>14.088811</td>\n",
       "      <td>0.0</td>\n",
       "      <td>9.416688</td>\n",
       "      <td>9.745559</td>\n",
       "      <td>24.214287</td>\n",
       "      <td>6.726063</td>\n",
       "      <td>17.137127</td>\n",
       "      <td>7.841150</td>\n",
       "      <td>29.104344</td>\n",
       "      <td>...</td>\n",
       "      <td>16.707150</td>\n",
       "      <td>6.183800</td>\n",
       "      <td>6.995192</td>\n",
       "      <td>30.027468</td>\n",
       "      <td>32.843332</td>\n",
       "      <td>11.242581</td>\n",
       "      <td>4.456388</td>\n",
       "      <td>10.039432</td>\n",
       "      <td>7.907173</td>\n",
       "      <td>14.131549</td>\n",
       "    </tr>\n",
       "    <tr>\n",
       "      <th>min</th>\n",
       "      <td>-56.472930</td>\n",
       "      <td>-57.641540</td>\n",
       "      <td>0.0</td>\n",
       "      <td>-34.712098</td>\n",
       "      <td>-43.717376</td>\n",
       "      <td>0.000000</td>\n",
       "      <td>-16.572974</td>\n",
       "      <td>0.000000</td>\n",
       "      <td>-50.703250</td>\n",
       "      <td>-91.687600</td>\n",
       "      <td>...</td>\n",
       "      <td>-85.907700</td>\n",
       "      <td>-33.738875</td>\n",
       "      <td>-53.731090</td>\n",
       "      <td>0.000000</td>\n",
       "      <td>-77.828280</td>\n",
       "      <td>0.000000</td>\n",
       "      <td>-19.896300</td>\n",
       "      <td>-38.876920</td>\n",
       "      <td>-35.756683</td>\n",
       "      <td>-45.411200</td>\n",
       "    </tr>\n",
       "    <tr>\n",
       "      <th>25%</th>\n",
       "      <td>0.000000</td>\n",
       "      <td>0.000000</td>\n",
       "      <td>0.0</td>\n",
       "      <td>0.000000</td>\n",
       "      <td>0.000000</td>\n",
       "      <td>0.000000</td>\n",
       "      <td>0.000000</td>\n",
       "      <td>0.000000</td>\n",
       "      <td>0.000000</td>\n",
       "      <td>-45.174985</td>\n",
       "      <td>...</td>\n",
       "      <td>-17.829775</td>\n",
       "      <td>0.000000</td>\n",
       "      <td>0.000000</td>\n",
       "      <td>0.000000</td>\n",
       "      <td>0.000000</td>\n",
       "      <td>0.000000</td>\n",
       "      <td>0.000000</td>\n",
       "      <td>-13.010555</td>\n",
       "      <td>0.000000</td>\n",
       "      <td>-25.167310</td>\n",
       "    </tr>\n",
       "    <tr>\n",
       "      <th>50%</th>\n",
       "      <td>0.000000</td>\n",
       "      <td>0.000000</td>\n",
       "      <td>0.0</td>\n",
       "      <td>0.000000</td>\n",
       "      <td>0.000000</td>\n",
       "      <td>15.277910</td>\n",
       "      <td>0.000000</td>\n",
       "      <td>0.000000</td>\n",
       "      <td>0.000000</td>\n",
       "      <td>0.000000</td>\n",
       "      <td>...</td>\n",
       "      <td>0.000000</td>\n",
       "      <td>0.000000</td>\n",
       "      <td>0.000000</td>\n",
       "      <td>0.000000</td>\n",
       "      <td>0.000000</td>\n",
       "      <td>0.000000</td>\n",
       "      <td>0.000000</td>\n",
       "      <td>0.000000</td>\n",
       "      <td>0.000000</td>\n",
       "      <td>-15.458870</td>\n",
       "    </tr>\n",
       "    <tr>\n",
       "      <th>75%</th>\n",
       "      <td>28.844930</td>\n",
       "      <td>0.000000</td>\n",
       "      <td>0.0</td>\n",
       "      <td>0.000000</td>\n",
       "      <td>10.550148</td>\n",
       "      <td>40.742820</td>\n",
       "      <td>0.000000</td>\n",
       "      <td>0.000000</td>\n",
       "      <td>0.000000</td>\n",
       "      <td>0.000000</td>\n",
       "      <td>...</td>\n",
       "      <td>0.000000</td>\n",
       "      <td>0.000000</td>\n",
       "      <td>0.000000</td>\n",
       "      <td>49.947105</td>\n",
       "      <td>54.073405</td>\n",
       "      <td>0.000000</td>\n",
       "      <td>0.000000</td>\n",
       "      <td>0.000000</td>\n",
       "      <td>0.000000</td>\n",
       "      <td>0.000000</td>\n",
       "    </tr>\n",
       "    <tr>\n",
       "      <th>max</th>\n",
       "      <td>48.399430</td>\n",
       "      <td>0.000000</td>\n",
       "      <td>0.0</td>\n",
       "      <td>18.366350</td>\n",
       "      <td>25.225516</td>\n",
       "      <td>70.918970</td>\n",
       "      <td>19.622464</td>\n",
       "      <td>71.686640</td>\n",
       "      <td>0.000000</td>\n",
       "      <td>0.000000</td>\n",
       "      <td>...</td>\n",
       "      <td>0.000000</td>\n",
       "      <td>13.462429</td>\n",
       "      <td>0.000000</td>\n",
       "      <td>82.910490</td>\n",
       "      <td>73.682190</td>\n",
       "      <td>52.041590</td>\n",
       "      <td>0.000000</td>\n",
       "      <td>18.602300</td>\n",
       "      <td>0.000000</td>\n",
       "      <td>0.000000</td>\n",
       "    </tr>\n",
       "  </tbody>\n",
       "</table>\n",
       "<p>8 rows × 10564 columns</p>\n",
       "</div>"
      ],
      "text/plain": [
       "          March1      43891  43892     March2     March3     March5  \\\n",
       "count  59.000000  59.000000   59.0  59.000000  59.000000  59.000000   \n",
       "mean   11.293577  -5.676667    0.0  -4.138761   3.666019  22.006571   \n",
       "std    19.543075  14.088811    0.0   9.416688   9.745559  24.214287   \n",
       "min   -56.472930 -57.641540    0.0 -34.712098 -43.717376   0.000000   \n",
       "25%     0.000000   0.000000    0.0   0.000000   0.000000   0.000000   \n",
       "50%     0.000000   0.000000    0.0   0.000000   0.000000  15.277910   \n",
       "75%    28.844930   0.000000    0.0   0.000000  10.550148  40.742820   \n",
       "max    48.399430   0.000000    0.0  18.366350  25.225516  70.918970   \n",
       "\n",
       "          March6      44075      Sept2      Sept3  ...     Zswim5     Zswim6  \\\n",
       "count  59.000000  59.000000  59.000000  59.000000  ...  59.000000  59.000000   \n",
       "mean   -0.214556   6.416476  -1.853354 -23.933165  ...  -8.861452  -0.780815   \n",
       "std     6.726063  17.137127   7.841150  29.104344  ...  16.707150   6.183800   \n",
       "min   -16.572974   0.000000 -50.703250 -91.687600  ... -85.907700 -33.738875   \n",
       "25%     0.000000   0.000000   0.000000 -45.174985  ... -17.829775   0.000000   \n",
       "50%     0.000000   0.000000   0.000000   0.000000  ...   0.000000   0.000000   \n",
       "75%     0.000000   0.000000   0.000000   0.000000  ...   0.000000   0.000000   \n",
       "max    19.622464  71.686640   0.000000   0.000000  ...   0.000000  13.462429   \n",
       "\n",
       "          Zswim8      Zufsp     Zwilch      Zwint       Zxda       Zxdc  \\\n",
       "count  59.000000  59.000000  59.000000  59.000000  59.000000  59.000000   \n",
       "mean   -0.910696  22.717001  17.831353   5.092241  -1.676427  -5.025238   \n",
       "std     6.995192  30.027468  32.843332  11.242581   4.456388  10.039432   \n",
       "min   -53.731090   0.000000 -77.828280   0.000000 -19.896300 -38.876920   \n",
       "25%     0.000000   0.000000   0.000000   0.000000   0.000000 -13.010555   \n",
       "50%     0.000000   0.000000   0.000000   0.000000   0.000000   0.000000   \n",
       "75%     0.000000  49.947105  54.073405   0.000000   0.000000   0.000000   \n",
       "max     0.000000  82.910490  73.682190  52.041590   0.000000  18.602300   \n",
       "\n",
       "          Zyg11b       Zzz3  \n",
       "count  59.000000  59.000000  \n",
       "mean   -3.339970 -14.042053  \n",
       "std     7.907173  14.131549  \n",
       "min   -35.756683 -45.411200  \n",
       "25%     0.000000 -25.167310  \n",
       "50%     0.000000 -15.458870  \n",
       "75%     0.000000   0.000000  \n",
       "max     0.000000   0.000000  \n",
       "\n",
       "[8 rows x 10564 columns]"
      ]
     },
     "execution_count": 62,
     "metadata": {},
     "output_type": "execute_result"
    }
   ],
   "source": [
    "X_train.describe()"
   ]
  },
  {
   "cell_type": "markdown",
   "id": "detailed-seminar",
   "metadata": {
    "heading_collapsed": true
   },
   "source": [
    "### PCA "
   ]
  },
  {
   "cell_type": "code",
   "execution_count": 95,
   "id": "vanilla-worst",
   "metadata": {
    "hidden": true
   },
   "outputs": [
    {
     "name": "stdout",
     "output_type": "stream",
     "text": [
      "25 features explain around 90% of the variance. From 7129 features to 25, not too bad.\n"
     ]
    },
    {
     "data": {
      "image/png": "[encoded data removed]",
      "text/plain": [
       "<Figure size 432x288 with 1 Axes>"
      ]
     },
     "metadata": {
      "needs_background": "light"
     },
     "output_type": "display_data"
    }
   ],
   "source": [
    "pca = PCA()\n",
    "pca.fit_transform(X_train)\n",
    "total = sum(pca.explained_variance_)\n",
    "k = 0\n",
    "current_variance = 0\n",
    "while current_variance/total < 0.90:\n",
    "    current_variance += pca.explained_variance_[k]\n",
    "    k = k + 1\n",
    "    \n",
    "print(k, \" features explain around 90% of the variance. From 7129 features to \", k, \", not too bad.\", sep='')\n",
    "\n",
    "pca = PCA(n_components=k)\n",
    "X_train.pca = pca.fit(X_train)\n",
    "X_train_pca = pca.transform(X_train)\n",
    "X_test_pca = pca.transform(X_test)\n",
    "\n",
    "var_exp = pca.explained_variance_ratio_.cumsum()\n",
    "var_exp = var_exp*100\n",
    "plt.bar(range(k), var_exp);"
   ]
  },
  {
   "cell_type": "code",
   "execution_count": 153,
   "id": "wound-length",
   "metadata": {
    "hidden": true,
    "scrolled": true
   },
   "outputs": [
    {
     "data": {
      "application/vnd.plotly.v1+json": {
       "config": {
        "plotlyServerURL": "https://plot.ly"
       },
       "data": [
        {
         "hovertemplate": "PC1=%{x}<br>PC2=%{y}<br>PC3=%{z}<br>Day Post-Infection=%{marker.color}<extra></extra>",
         "legendgroup": "",
         "marker": {
          "color": [
           0.5,
           0.5,
           0.5,
           0.5,
           0.5,
           0.5,
           1,
           1,
           1,
           1,
           1,
           1,
           1,
           1,
           1,
           1,
           1,
           1,
           1,
           1,
           1,
           2,
           2,
           2,
           2,
           2,
           2,
           2,
           2,
           2,
           2,
           2,
           2,
           2,
           2,
           2,
           2,
           2,
           2,
           2,
           4,
           4,
           4,
           4,
           4,
           4,
           4,
           4,
           4,
           4,
           4,
           4,
           4,
           4,
           4,
           4,
           4,
           4,
           4
          ],
          "coloraxis": "coloraxis",
          "symbol": "circle"
         },
         "mode": "markers",
         "name": "",
         "scene": "scene",
         "showlegend": false,
         "type": "scatter3d",
         "x": [
          -151.68959801173852,
          821.8857503971105,
          374.45988916715453,
          518.8700595695772,
          565.1546906705818,
          -1289.8584865901755,
          -1252.1045074794129,
          62.29212634716853,
          -38.45522597502539,
          691.0479987678453,
          1446.820154704774,
          638.8978493105134,
          717.2545582595369,
          495.22532930354333,
          549.6855912795837,
          -265.80630999598617,
          44.56467765360524,
          1467.0594316643044,
          461.9491496556018,
          640.5370086474138,
          776.8353931048962,
          479.3159906017405,
          -1315.3763050950654,
          -1260.482347497955,
          -505.0914561556148,
          -279.68122261567487,
          356.27879790323794,
          -1018.384924896556,
          -953.1285617202288,
          1113.4365852560297,
          -945.5265500800576,
          -502.2132972405696,
          -28.802549650365304,
          -1335.2367058286857,
          -1308.6016504876939,
          848.3582746309654,
          807.4788292990224,
          -1102.8262884531648,
          -120.15703040213482,
          284.87777965785017,
          -990.2874118551644,
          703.0184862753641,
          -1293.5501416432126,
          1488.1110775078116,
          -261.3916822939931,
          794.2901328615972,
          68.86415624065934,
          176.9178639761034,
          333.72947279493894,
          26.99112625212225,
          -1201.988365986241,
          -468.16800966242346,
          934.1187252622458,
          745.0865761181782,
          -1327.2682143900056,
          779.9951663665732,
          -711.4332936344048,
          -124.02469605977066,
          -161.8738658063316
         ],
         "y": [
          -524.64807381268,
          -1032.0385265488399,
          -968.1809735977446,
          -1106.4520091602149,
          1045.387363427198,
          -113.96070156649971,
          94.91268417658065,
          -828.8468391536124,
          -940.0572844380014,
          -1101.6887413256648,
          -534.3447207495993,
          1394.882177444261,
          993.0381390570157,
          -1147.1952947332557,
          -1133.3573238534314,
          -32.538520280385605,
          -931.4827604895722,
          -356.0682169601305,
          -301.77554659048565,
          1085.9993234153992,
          -1045.2792440079886,
          855.3289025154992,
          -5.479370381260083,
          -181.44384053979775,
          -546.7999474759683,
          -518.0323939214512,
          965.7026384157834,
          472.55285142427635,
          185.1122060451872,
          -349.0164963045497,
          471.9112648953915,
          466.6081670538544,
          -652.8447517096185,
          -31.645495311485213,
          -32.76073671894573,
          1065.4724938647619,
          1334.5310231166584,
          431.92609844221306,
          679.9856024442834,
          -685.5667115027961,
          440.7106068051875,
          1140.0833138004866,
          -93.29484027420402,
          -512.6421061654803,
          684.9754444930398,
          1293.599426906482,
          -898.9755676900328,
          340.59055790591304,
          810.5098196327468,
          -402.86993550540734,
          -102.70767241390719,
          467.68769803422566,
          1419.4645418452408,
          970.7397240866795,
          -69.45756063042354,
          -939.025717914729,
          476.7412670496062,
          -597.0584858775907,
          -870.9169286922179
         ],
         "z": [
          353.5402629976308,
          -628.5396763369552,
          -103.29267311961718,
          -341.1125403462435,
          -38.98757337784286,
          -64.96179545390684,
          -369.263122878314,
          859.2231775088775,
          564.4530466419313,
          -611.3883109040984,
          -609.4429702631757,
          338.98854466300435,
          -51.09108711800012,
          -360.1469445157437,
          -438.67729619307926,
          178.3164301972502,
          371.0577982567448,
          -505.3917759306919,
          497.87341392529146,
          -15.703760896368207,
          -679.6811802033646,
          -43.96149442583607,
          -204.456652363981,
          -9.3123303002684,
          758.6898178467604,
          226.034610928344,
          -50.310517582083406,
          -505.6626194296546,
          -57.02974168378223,
          120.51661750562795,
          -616.8024565614965,
          -92.79959373051777,
          752.9008222117542,
          -170.53885126660185,
          -152.53796766091935,
          -82.42221899490222,
          334.5520803425537,
          -511.02613348790396,
          -120.5922457102123,
          452.3333843403549,
          -521.7053000762556,
          -66.95306857247846,
          -87.36152119101858,
          -602.8328414086283,
          -243.5563226006254,
          408.58740991202666,
          902.6462032645317,
          1240.6618062928633,
          -52.100433023133085,
          328.3713050302244,
          -7.199603478472962,
          -264.1053616555861,
          431.1539802411043,
          -108.06362984855174,
          -111.11725804109176,
          -704.0214438021626,
          -307.82558022404567,
          513.2857892497354,
          878.7893933009998
         ]
        }
       ],
       "layout": {
        "coloraxis": {
         "colorbar": {
          "title": {
           "text": "Day Post-Infection"
          }
         },
         "colorscale": [
          [
           0,
           "#0d0887"
          ],
          [
           0.1111111111111111,
           "#46039f"
          ],
          [
           0.2222222222222222,
           "#7201a8"
          ],
          [
           0.3333333333333333,
           "#9c179e"
          ],
          [
           0.4444444444444444,
           "#bd3786"
          ],
          [
           0.5555555555555556,
           "#d8576b"
          ],
          [
           0.6666666666666666,
           "#ed7953"
          ],
          [
           0.7777777777777778,
           "#fb9f3a"
          ],
          [
           0.8888888888888888,
           "#fdca26"
          ],
          [
           1,
           "#f0f921"
          ]
         ]
        },
        "legend": {
         "tracegroupgap": 0
        },
        "margin": {
         "t": 60
        },
        "scene": {
         "domain": {
          "x": [
           0,
           1
          ],
          "y": [
           0,
           1
          ]
         },
         "xaxis": {
          "title": {
           "text": "PC1"
          }
         },
         "yaxis": {
          "title": {
           "text": "PC2"
          }
         },
         "zaxis": {
          "title": {
           "text": "PC3"
          }
         }
        },
        "template": {
         "data": {
          "bar": [
           {
            "error_x": {
             "color": "#2a3f5f"
            },
            "error_y": {
             "color": "#2a3f5f"
            },
            "marker": {
             "line": {
              "color": "#E5ECF6",
              "width": 0.5
             }
            },
            "type": "bar"
           }
          ],
          "barpolar": [
           {
            "marker": {
             "line": {
              "color": "#E5ECF6",
              "width": 0.5
             }
            },
            "type": "barpolar"
           }
          ],
          "carpet": [
           {
            "aaxis": {
             "endlinecolor": "#2a3f5f",
             "gridcolor": "white",
             "linecolor": "white",
             "minorgridcolor": "white",
             "startlinecolor": "#2a3f5f"
            },
            "baxis": {
             "endlinecolor": "#2a3f5f",
             "gridcolor": "white",
             "linecolor": "white",
             "minorgridcolor": "white",
             "startlinecolor": "#2a3f5f"
            },
            "type": "carpet"
           }
          ],
          "choropleth": [
           {
            "colorbar": {
             "outlinewidth": 0,
             "ticks": ""
            },
            "type": "choropleth"
           }
          ],
          "contour": [
           {
            "colorbar": {
             "outlinewidth": 0,
             "ticks": ""
            },
            "colorscale": [
             [
              0,
              "#0d0887"
             ],
             [
              0.1111111111111111,
              "#46039f"
             ],
             [
              0.2222222222222222,
              "#7201a8"
             ],
             [
              0.3333333333333333,
              "#9c179e"
             ],
             [
              0.4444444444444444,
              "#bd3786"
             ],
             [
              0.5555555555555556,
              "#d8576b"
             ],
             [
              0.6666666666666666,
              "#ed7953"
             ],
             [
              0.7777777777777778,
              "#fb9f3a"
             ],
             [
              0.8888888888888888,
              "#fdca26"
             ],
             [
              1,
              "#f0f921"
             ]
            ],
            "type": "contour"
           }
          ],
          "contourcarpet": [
           {
            "colorbar": {
             "outlinewidth": 0,
             "ticks": ""
            },
            "type": "contourcarpet"
           }
          ],
          "heatmap": [
           {
            "colorbar": {
             "outlinewidth": 0,
             "ticks": ""
            },
            "colorscale": [
             [
              0,
              "#0d0887"
             ],
             [
              0.1111111111111111,
              "#46039f"
             ],
             [
              0.2222222222222222,
              "#7201a8"
             ],
             [
              0.3333333333333333,
              "#9c179e"
             ],
             [
              0.4444444444444444,
              "#bd3786"
             ],
             [
              0.5555555555555556,
              "#d8576b"
             ],
             [
              0.6666666666666666,
              "#ed7953"
             ],
             [
              0.7777777777777778,
              "#fb9f3a"
             ],
             [
              0.8888888888888888,
              "#fdca26"
             ],
             [
              1,
              "#f0f921"
             ]
            ],
            "type": "heatmap"
           }
          ],
          "heatmapgl": [
           {
            "colorbar": {
             "outlinewidth": 0,
             "ticks": ""
            },
            "colorscale": [
             [
              0,
              "#0d0887"
             ],
             [
              0.1111111111111111,
              "#46039f"
             ],
             [
              0.2222222222222222,
              "#7201a8"
             ],
             [
              0.3333333333333333,
              "#9c179e"
             ],
             [
              0.4444444444444444,
              "#bd3786"
             ],
             [
              0.5555555555555556,
              "#d8576b"
             ],
             [
              0.6666666666666666,
              "#ed7953"
             ],
             [
              0.7777777777777778,
              "#fb9f3a"
             ],
             [
              0.8888888888888888,
              "#fdca26"
             ],
             [
              1,
              "#f0f921"
             ]
            ],
            "type": "heatmapgl"
           }
          ],
          "histogram": [
           {
            "marker": {
             "colorbar": {
              "outlinewidth": 0,
              "ticks": ""
             }
            },
            "type": "histogram"
           }
          ],
          "histogram2d": [
           {
            "colorbar": {
             "outlinewidth": 0,
             "ticks": ""
            },
            "colorscale": [
             [
              0,
              "#0d0887"
             ],
             [
              0.1111111111111111,
              "#46039f"
             ],
             [
              0.2222222222222222,
              "#7201a8"
             ],
             [
              0.3333333333333333,
              "#9c179e"
             ],
             [
              0.4444444444444444,
              "#bd3786"
             ],
             [
              0.5555555555555556,
              "#d8576b"
             ],
             [
              0.6666666666666666,
              "#ed7953"
             ],
             [
              0.7777777777777778,
              "#fb9f3a"
             ],
             [
              0.8888888888888888,
              "#fdca26"
             ],
             [
              1,
              "#f0f921"
             ]
            ],
            "type": "histogram2d"
           }
          ],
          "histogram2dcontour": [
           {
            "colorbar": {
             "outlinewidth": 0,
             "ticks": ""
            },
            "colorscale": [
             [
              0,
              "#0d0887"
             ],
             [
              0.1111111111111111,
              "#46039f"
             ],
             [
              0.2222222222222222,
              "#7201a8"
             ],
             [
              0.3333333333333333,
              "#9c179e"
             ],
             [
              0.4444444444444444,
              "#bd3786"
             ],
             [
              0.5555555555555556,
              "#d8576b"
             ],
             [
              0.6666666666666666,
              "#ed7953"
             ],
             [
              0.7777777777777778,
              "#fb9f3a"
             ],
             [
              0.8888888888888888,
              "#fdca26"
             ],
             [
              1,
              "#f0f921"
             ]
            ],
            "type": "histogram2dcontour"
           }
          ],
          "mesh3d": [
           {
            "colorbar": {
             "outlinewidth": 0,
             "ticks": ""
            },
            "type": "mesh3d"
           }
          ],
          "parcoords": [
           {
            "line": {
             "colorbar": {
              "outlinewidth": 0,
              "ticks": ""
             }
            },
            "type": "parcoords"
           }
          ],
          "pie": [
           {
            "automargin": true,
            "type": "pie"
           }
          ],
          "scatter": [
           {
            "marker": {
             "colorbar": {
              "outlinewidth": 0,
              "ticks": ""
             }
            },
            "type": "scatter"
           }
          ],
          "scatter3d": [
           {
            "line": {
             "colorbar": {
              "outlinewidth": 0,
              "ticks": ""
             }
            },
            "marker": {
             "colorbar": {
              "outlinewidth": 0,
              "ticks": ""
             }
            },
            "type": "scatter3d"
           }
          ],
          "scattercarpet": [
           {
            "marker": {
             "colorbar": {
              "outlinewidth": 0,
              "ticks": ""
             }
            },
            "type": "scattercarpet"
           }
          ],
          "scattergeo": [
           {
            "marker": {
             "colorbar": {
              "outlinewidth": 0,
              "ticks": ""
             }
            },
            "type": "scattergeo"
           }
          ],
          "scattergl": [
           {
            "marker": {
             "colorbar": {
              "outlinewidth": 0,
              "ticks": ""
             }
            },
            "type": "scattergl"
           }
          ],
          "scattermapbox": [
           {
            "marker": {
             "colorbar": {
              "outlinewidth": 0,
              "ticks": ""
             }
            },
            "type": "scattermapbox"
           }
          ],
          "scatterpolar": [
           {
            "marker": {
             "colorbar": {
              "outlinewidth": 0,
              "ticks": ""
             }
            },
            "type": "scatterpolar"
           }
          ],
          "scatterpolargl": [
           {
            "marker": {
             "colorbar": {
              "outlinewidth": 0,
              "ticks": ""
             }
            },
            "type": "scatterpolargl"
           }
          ],
          "scatterternary": [
           {
            "marker": {
             "colorbar": {
              "outlinewidth": 0,
              "ticks": ""
             }
            },
            "type": "scatterternary"
           }
          ],
          "surface": [
           {
            "colorbar": {
             "outlinewidth": 0,
             "ticks": ""
            },
            "colorscale": [
             [
              0,
              "#0d0887"
             ],
             [
              0.1111111111111111,
              "#46039f"
             ],
             [
              0.2222222222222222,
              "#7201a8"
             ],
             [
              0.3333333333333333,
              "#9c179e"
             ],
             [
              0.4444444444444444,
              "#bd3786"
             ],
             [
              0.5555555555555556,
              "#d8576b"
             ],
             [
              0.6666666666666666,
              "#ed7953"
             ],
             [
              0.7777777777777778,
              "#fb9f3a"
             ],
             [
              0.8888888888888888,
              "#fdca26"
             ],
             [
              1,
              "#f0f921"
             ]
            ],
            "type": "surface"
           }
          ],
          "table": [
           {
            "cells": {
             "fill": {
              "color": "#EBF0F8"
             },
             "line": {
              "color": "white"
             }
            },
            "header": {
             "fill": {
              "color": "#C8D4E3"
             },
             "line": {
              "color": "white"
             }
            },
            "type": "table"
           }
          ]
         },
         "layout": {
          "annotationdefaults": {
           "arrowcolor": "#2a3f5f",
           "arrowhead": 0,
           "arrowwidth": 1
          },
          "autotypenumbers": "strict",
          "coloraxis": {
           "colorbar": {
            "outlinewidth": 0,
            "ticks": ""
           }
          },
          "colorscale": {
           "diverging": [
            [
             0,
             "#8e0152"
            ],
            [
             0.1,
             "#c51b7d"
            ],
            [
             0.2,
             "#de77ae"
            ],
            [
             0.3,
             "#f1b6da"
            ],
            [
             0.4,
             "#fde0ef"
            ],
            [
             0.5,
             "#f7f7f7"
            ],
            [
             0.6,
             "#e6f5d0"
            ],
            [
             0.7,
             "#b8e186"
            ],
            [
             0.8,
             "#7fbc41"
            ],
            [
             0.9,
             "#4d9221"
            ],
            [
             1,
             "#276419"
            ]
           ],
           "sequential": [
            [
             0,
             "#0d0887"
            ],
            [
             0.1111111111111111,
             "#46039f"
            ],
            [
             0.2222222222222222,
             "#7201a8"
            ],
            [
             0.3333333333333333,
             "#9c179e"
            ],
            [
             0.4444444444444444,
             "#bd3786"
            ],
            [
             0.5555555555555556,
             "#d8576b"
            ],
            [
             0.6666666666666666,
             "#ed7953"
            ],
            [
             0.7777777777777778,
             "#fb9f3a"
            ],
            [
             0.8888888888888888,
             "#fdca26"
            ],
            [
             1,
             "#f0f921"
            ]
           ],
           "sequentialminus": [
            [
             0,
             "#0d0887"
            ],
            [
             0.1111111111111111,
             "#46039f"
            ],
            [
             0.2222222222222222,
             "#7201a8"
            ],
            [
             0.3333333333333333,
             "#9c179e"
            ],
            [
             0.4444444444444444,
             "#bd3786"
            ],
            [
             0.5555555555555556,
             "#d8576b"
            ],
            [
             0.6666666666666666,
             "#ed7953"
            ],
            [
             0.7777777777777778,
             "#fb9f3a"
            ],
            [
             0.8888888888888888,
             "#fdca26"
            ],
            [
             1,
             "#f0f921"
            ]
           ]
          },
          "colorway": [
           "#636efa",
           "#EF553B",
           "#00cc96",
           "#ab63fa",
           "#FFA15A",
           "#19d3f3",
           "#FF6692",
           "#B6E880",
           "#FF97FF",
           "#FECB52"
          ],
          "font": {
           "color": "#2a3f5f"
          },
          "geo": {
           "bgcolor": "white",
           "lakecolor": "white",
           "landcolor": "#E5ECF6",
           "showlakes": true,
           "showland": true,
           "subunitcolor": "white"
          },
          "hoverlabel": {
           "align": "left"
          },
          "hovermode": "closest",
          "mapbox": {
           "style": "light"
          },
          "paper_bgcolor": "white",
          "plot_bgcolor": "#E5ECF6",
          "polar": {
           "angularaxis": {
            "gridcolor": "white",
            "linecolor": "white",
            "ticks": ""
           },
           "bgcolor": "#E5ECF6",
           "radialaxis": {
            "gridcolor": "white",
            "linecolor": "white",
            "ticks": ""
           }
          },
          "scene": {
           "xaxis": {
            "backgroundcolor": "#E5ECF6",
            "gridcolor": "white",
            "gridwidth": 2,
            "linecolor": "white",
            "showbackground": true,
            "ticks": "",
            "zerolinecolor": "white"
           },
           "yaxis": {
            "backgroundcolor": "#E5ECF6",
            "gridcolor": "white",
            "gridwidth": 2,
            "linecolor": "white",
            "showbackground": true,
            "ticks": "",
            "zerolinecolor": "white"
           },
           "zaxis": {
            "backgroundcolor": "#E5ECF6",
            "gridcolor": "white",
            "gridwidth": 2,
            "linecolor": "white",
            "showbackground": true,
            "ticks": "",
            "zerolinecolor": "white"
           }
          },
          "shapedefaults": {
           "line": {
            "color": "#2a3f5f"
           }
          },
          "ternary": {
           "aaxis": {
            "gridcolor": "white",
            "linecolor": "white",
            "ticks": ""
           },
           "baxis": {
            "gridcolor": "white",
            "linecolor": "white",
            "ticks": ""
           },
           "bgcolor": "#E5ECF6",
           "caxis": {
            "gridcolor": "white",
            "linecolor": "white",
            "ticks": ""
           }
          },
          "title": {
           "x": 0.05
          },
          "xaxis": {
           "automargin": true,
           "gridcolor": "white",
           "linecolor": "white",
           "ticks": "",
           "title": {
            "standoff": 15
           },
           "zerolinecolor": "white",
           "zerolinewidth": 2
          },
          "yaxis": {
           "automargin": true,
           "gridcolor": "white",
           "linecolor": "white",
           "ticks": "",
           "title": {
            "standoff": 15
           },
           "zerolinecolor": "white",
           "zerolinewidth": 2
          }
         }
        }
       }
      },
      "text/html": [
       "<div>                            <div id=\"82ee351d-0b44-41ed-9c02-e75ca8f8f903\" class=\"plotly-graph-div\" style=\"height:525px; width:100%;\"></div>            <script type=\"text/javascript\">                require([\"plotly\"], function(Plotly) {                    window.PLOTLYENV=window.PLOTLYENV || {};                                    if (document.getElementById(\"82ee351d-0b44-41ed-9c02-e75ca8f8f903\")) {                    Plotly.newPlot(                        \"82ee351d-0b44-41ed-9c02-e75ca8f8f903\",                        [{\"hovertemplate\": \"PC1=%{x}<br>PC2=%{y}<br>PC3=%{z}<br>Day Post-Infection=%{marker.color}<extra></extra>\", \"legendgroup\": \"\", \"marker\": {\"color\": [0.5, 0.5, 0.5, 0.5, 0.5, 0.5, 1.0, 1.0, 1.0, 1.0, 1.0, 1.0, 1.0, 1.0, 1.0, 1.0, 1.0, 1.0, 1.0, 1.0, 1.0, 2.0, 2.0, 2.0, 2.0, 2.0, 2.0, 2.0, 2.0, 2.0, 2.0, 2.0, 2.0, 2.0, 2.0, 2.0, 2.0, 2.0, 2.0, 2.0, 4.0, 4.0, 4.0, 4.0, 4.0, 4.0, 4.0, 4.0, 4.0, 4.0, 4.0, 4.0, 4.0, 4.0, 4.0, 4.0, 4.0, 4.0, 4.0], \"coloraxis\": \"coloraxis\", \"symbol\": \"circle\"}, \"mode\": \"markers\", \"name\": \"\", \"scene\": \"scene\", \"showlegend\": false, \"type\": \"scatter3d\", \"x\": [-151.68959801173852, 821.8857503971105, 374.45988916715453, 518.8700595695772, 565.1546906705818, -1289.8584865901755, -1252.1045074794129, 62.29212634716853, -38.45522597502539, 691.0479987678453, 1446.820154704774, 638.8978493105134, 717.2545582595369, 495.22532930354333, 549.6855912795837, -265.80630999598617, 44.56467765360524, 1467.0594316643044, 461.9491496556018, 640.5370086474138, 776.8353931048962, 479.3159906017405, -1315.3763050950654, -1260.482347497955, -505.0914561556148, -279.68122261567487, 356.27879790323794, -1018.384924896556, -953.1285617202288, 1113.4365852560297, -945.5265500800576, -502.2132972405696, -28.802549650365304, -1335.2367058286857, -1308.6016504876939, 848.3582746309654, 807.4788292990224, -1102.8262884531648, -120.15703040213482, 284.87777965785017, -990.2874118551644, 703.0184862753641, -1293.5501416432126, 1488.1110775078116, -261.3916822939931, 794.2901328615972, 68.86415624065934, 176.9178639761034, 333.72947279493894, 26.99112625212225, -1201.988365986241, -468.16800966242346, 934.1187252622458, 745.0865761181782, -1327.2682143900056, 779.9951663665732, -711.4332936344048, -124.02469605977066, -161.8738658063316], \"y\": [-524.64807381268, -1032.0385265488399, -968.1809735977446, -1106.4520091602149, 1045.387363427198, -113.96070156649971, 94.91268417658065, -828.8468391536124, -940.0572844380014, -1101.6887413256648, -534.3447207495993, 1394.882177444261, 993.0381390570157, -1147.1952947332557, -1133.3573238534314, -32.538520280385605, -931.4827604895722, -356.0682169601305, -301.77554659048565, 1085.9993234153992, -1045.2792440079886, 855.3289025154992, -5.479370381260083, -181.44384053979775, -546.7999474759683, -518.0323939214512, 965.7026384157834, 472.55285142427635, 185.1122060451872, -349.0164963045497, 471.9112648953915, 466.6081670538544, -652.8447517096185, -31.645495311485213, -32.76073671894573, 1065.4724938647619, 1334.5310231166584, 431.92609844221306, 679.9856024442834, -685.5667115027961, 440.7106068051875, 1140.0833138004866, -93.29484027420402, -512.6421061654803, 684.9754444930398, 1293.599426906482, -898.9755676900328, 340.59055790591304, 810.5098196327468, -402.86993550540734, -102.70767241390719, 467.68769803422566, 1419.4645418452408, 970.7397240866795, -69.45756063042354, -939.025717914729, 476.7412670496062, -597.0584858775907, -870.9169286922179], \"z\": [353.5402629976308, -628.5396763369552, -103.29267311961718, -341.1125403462435, -38.98757337784286, -64.96179545390684, -369.263122878314, 859.2231775088775, 564.4530466419313, -611.3883109040984, -609.4429702631757, 338.98854466300435, -51.09108711800012, -360.1469445157437, -438.67729619307926, 178.3164301972502, 371.0577982567448, -505.3917759306919, 497.87341392529146, -15.703760896368207, -679.6811802033646, -43.96149442583607, -204.456652363981, -9.3123303002684, 758.6898178467604, 226.034610928344, -50.310517582083406, -505.6626194296546, -57.02974168378223, 120.51661750562795, -616.8024565614965, -92.79959373051777, 752.9008222117542, -170.53885126660185, -152.53796766091935, -82.42221899490222, 334.5520803425537, -511.02613348790396, -120.5922457102123, 452.3333843403549, -521.7053000762556, -66.95306857247846, -87.36152119101858, -602.8328414086283, -243.5563226006254, 408.58740991202666, 902.6462032645317, 1240.6618062928633, -52.100433023133085, 328.3713050302244, -7.199603478472962, -264.1053616555861, 431.1539802411043, -108.06362984855174, -111.11725804109176, -704.0214438021626, -307.82558022404567, 513.2857892497354, 878.7893933009998]}],                        {\"coloraxis\": {\"colorbar\": {\"title\": {\"text\": \"Day Post-Infection\"}}, \"colorscale\": [[0.0, \"#0d0887\"], [0.1111111111111111, \"#46039f\"], [0.2222222222222222, \"#7201a8\"], [0.3333333333333333, \"#9c179e\"], [0.4444444444444444, \"#bd3786\"], [0.5555555555555556, \"#d8576b\"], [0.6666666666666666, \"#ed7953\"], [0.7777777777777778, \"#fb9f3a\"], [0.8888888888888888, \"#fdca26\"], [1.0, \"#f0f921\"]]}, \"legend\": {\"tracegroupgap\": 0}, \"margin\": {\"t\": 60}, \"scene\": {\"domain\": {\"x\": [0.0, 1.0], \"y\": [0.0, 1.0]}, \"xaxis\": {\"title\": {\"text\": \"PC1\"}}, \"yaxis\": {\"title\": {\"text\": \"PC2\"}}, \"zaxis\": {\"title\": {\"text\": \"PC3\"}}}, \"template\": {\"data\": {\"bar\": [{\"error_x\": {\"color\": \"#2a3f5f\"}, \"error_y\": {\"color\": \"#2a3f5f\"}, \"marker\": {\"line\": {\"color\": \"#E5ECF6\", \"width\": 0.5}}, \"type\": \"bar\"}], \"barpolar\": [{\"marker\": {\"line\": {\"color\": \"#E5ECF6\", \"width\": 0.5}}, \"type\": \"barpolar\"}], \"carpet\": [{\"aaxis\": {\"endlinecolor\": \"#2a3f5f\", \"gridcolor\": \"white\", \"linecolor\": \"white\", \"minorgridcolor\": \"white\", \"startlinecolor\": \"#2a3f5f\"}, \"baxis\": {\"endlinecolor\": \"#2a3f5f\", \"gridcolor\": \"white\", \"linecolor\": \"white\", \"minorgridcolor\": \"white\", \"startlinecolor\": \"#2a3f5f\"}, \"type\": \"carpet\"}], \"choropleth\": [{\"colorbar\": {\"outlinewidth\": 0, \"ticks\": \"\"}, \"type\": \"choropleth\"}], \"contour\": [{\"colorbar\": {\"outlinewidth\": 0, \"ticks\": \"\"}, \"colorscale\": [[0.0, \"#0d0887\"], [0.1111111111111111, \"#46039f\"], [0.2222222222222222, \"#7201a8\"], [0.3333333333333333, \"#9c179e\"], [0.4444444444444444, \"#bd3786\"], [0.5555555555555556, \"#d8576b\"], [0.6666666666666666, \"#ed7953\"], [0.7777777777777778, \"#fb9f3a\"], [0.8888888888888888, \"#fdca26\"], [1.0, \"#f0f921\"]], \"type\": \"contour\"}], \"contourcarpet\": [{\"colorbar\": {\"outlinewidth\": 0, \"ticks\": \"\"}, \"type\": \"contourcarpet\"}], \"heatmap\": [{\"colorbar\": {\"outlinewidth\": 0, \"ticks\": \"\"}, \"colorscale\": [[0.0, \"#0d0887\"], [0.1111111111111111, \"#46039f\"], [0.2222222222222222, \"#7201a8\"], [0.3333333333333333, \"#9c179e\"], [0.4444444444444444, \"#bd3786\"], [0.5555555555555556, \"#d8576b\"], [0.6666666666666666, \"#ed7953\"], [0.7777777777777778, \"#fb9f3a\"], [0.8888888888888888, \"#fdca26\"], [1.0, \"#f0f921\"]], \"type\": \"heatmap\"}], \"heatmapgl\": [{\"colorbar\": {\"outlinewidth\": 0, \"ticks\": \"\"}, \"colorscale\": [[0.0, \"#0d0887\"], [0.1111111111111111, \"#46039f\"], [0.2222222222222222, \"#7201a8\"], [0.3333333333333333, \"#9c179e\"], [0.4444444444444444, \"#bd3786\"], [0.5555555555555556, \"#d8576b\"], [0.6666666666666666, \"#ed7953\"], [0.7777777777777778, \"#fb9f3a\"], [0.8888888888888888, \"#fdca26\"], [1.0, \"#f0f921\"]], \"type\": \"heatmapgl\"}], \"histogram\": [{\"marker\": {\"colorbar\": {\"outlinewidth\": 0, \"ticks\": \"\"}}, \"type\": \"histogram\"}], \"histogram2d\": [{\"colorbar\": {\"outlinewidth\": 0, \"ticks\": \"\"}, \"colorscale\": [[0.0, \"#0d0887\"], [0.1111111111111111, \"#46039f\"], [0.2222222222222222, \"#7201a8\"], [0.3333333333333333, \"#9c179e\"], [0.4444444444444444, \"#bd3786\"], [0.5555555555555556, \"#d8576b\"], [0.6666666666666666, \"#ed7953\"], [0.7777777777777778, \"#fb9f3a\"], [0.8888888888888888, \"#fdca26\"], [1.0, \"#f0f921\"]], \"type\": \"histogram2d\"}], \"histogram2dcontour\": [{\"colorbar\": {\"outlinewidth\": 0, \"ticks\": \"\"}, \"colorscale\": [[0.0, \"#0d0887\"], [0.1111111111111111, \"#46039f\"], [0.2222222222222222, \"#7201a8\"], [0.3333333333333333, \"#9c179e\"], [0.4444444444444444, \"#bd3786\"], [0.5555555555555556, \"#d8576b\"], [0.6666666666666666, \"#ed7953\"], [0.7777777777777778, \"#fb9f3a\"], [0.8888888888888888, \"#fdca26\"], [1.0, \"#f0f921\"]], \"type\": \"histogram2dcontour\"}], \"mesh3d\": [{\"colorbar\": {\"outlinewidth\": 0, \"ticks\": \"\"}, \"type\": \"mesh3d\"}], \"parcoords\": [{\"line\": {\"colorbar\": {\"outlinewidth\": 0, \"ticks\": \"\"}}, \"type\": \"parcoords\"}], \"pie\": [{\"automargin\": true, \"type\": \"pie\"}], \"scatter\": [{\"marker\": {\"colorbar\": {\"outlinewidth\": 0, \"ticks\": \"\"}}, \"type\": \"scatter\"}], \"scatter3d\": [{\"line\": {\"colorbar\": {\"outlinewidth\": 0, \"ticks\": \"\"}}, \"marker\": {\"colorbar\": {\"outlinewidth\": 0, \"ticks\": \"\"}}, \"type\": \"scatter3d\"}], \"scattercarpet\": [{\"marker\": {\"colorbar\": {\"outlinewidth\": 0, \"ticks\": \"\"}}, \"type\": \"scattercarpet\"}], \"scattergeo\": [{\"marker\": {\"colorbar\": {\"outlinewidth\": 0, \"ticks\": \"\"}}, \"type\": \"scattergeo\"}], \"scattergl\": [{\"marker\": {\"colorbar\": {\"outlinewidth\": 0, \"ticks\": \"\"}}, \"type\": \"scattergl\"}], \"scattermapbox\": [{\"marker\": {\"colorbar\": {\"outlinewidth\": 0, \"ticks\": \"\"}}, \"type\": \"scattermapbox\"}], \"scatterpolar\": [{\"marker\": {\"colorbar\": {\"outlinewidth\": 0, \"ticks\": \"\"}}, \"type\": \"scatterpolar\"}], \"scatterpolargl\": [{\"marker\": {\"colorbar\": {\"outlinewidth\": 0, \"ticks\": \"\"}}, \"type\": \"scatterpolargl\"}], \"scatterternary\": [{\"marker\": {\"colorbar\": {\"outlinewidth\": 0, \"ticks\": \"\"}}, \"type\": \"scatterternary\"}], \"surface\": [{\"colorbar\": {\"outlinewidth\": 0, \"ticks\": \"\"}, \"colorscale\": [[0.0, \"#0d0887\"], [0.1111111111111111, \"#46039f\"], [0.2222222222222222, \"#7201a8\"], [0.3333333333333333, \"#9c179e\"], [0.4444444444444444, \"#bd3786\"], [0.5555555555555556, \"#d8576b\"], [0.6666666666666666, \"#ed7953\"], [0.7777777777777778, \"#fb9f3a\"], [0.8888888888888888, \"#fdca26\"], [1.0, \"#f0f921\"]], \"type\": \"surface\"}], \"table\": [{\"cells\": {\"fill\": {\"color\": \"#EBF0F8\"}, \"line\": {\"color\": \"white\"}}, \"header\": {\"fill\": {\"color\": \"#C8D4E3\"}, \"line\": {\"color\": \"white\"}}, \"type\": \"table\"}]}, \"layout\": {\"annotationdefaults\": {\"arrowcolor\": \"#2a3f5f\", \"arrowhead\": 0, \"arrowwidth\": 1}, \"autotypenumbers\": \"strict\", \"coloraxis\": {\"colorbar\": {\"outlinewidth\": 0, \"ticks\": \"\"}}, \"colorscale\": {\"diverging\": [[0, \"#8e0152\"], [0.1, \"#c51b7d\"], [0.2, \"#de77ae\"], [0.3, \"#f1b6da\"], [0.4, \"#fde0ef\"], [0.5, \"#f7f7f7\"], [0.6, \"#e6f5d0\"], [0.7, \"#b8e186\"], [0.8, \"#7fbc41\"], [0.9, \"#4d9221\"], [1, \"#276419\"]], \"sequential\": [[0.0, \"#0d0887\"], [0.1111111111111111, \"#46039f\"], [0.2222222222222222, \"#7201a8\"], [0.3333333333333333, \"#9c179e\"], [0.4444444444444444, \"#bd3786\"], [0.5555555555555556, \"#d8576b\"], [0.6666666666666666, \"#ed7953\"], [0.7777777777777778, \"#fb9f3a\"], [0.8888888888888888, \"#fdca26\"], [1.0, \"#f0f921\"]], \"sequentialminus\": [[0.0, \"#0d0887\"], [0.1111111111111111, \"#46039f\"], [0.2222222222222222, \"#7201a8\"], [0.3333333333333333, \"#9c179e\"], [0.4444444444444444, \"#bd3786\"], [0.5555555555555556, \"#d8576b\"], [0.6666666666666666, \"#ed7953\"], [0.7777777777777778, \"#fb9f3a\"], [0.8888888888888888, \"#fdca26\"], [1.0, \"#f0f921\"]]}, \"colorway\": [\"#636efa\", \"#EF553B\", \"#00cc96\", \"#ab63fa\", \"#FFA15A\", \"#19d3f3\", \"#FF6692\", \"#B6E880\", \"#FF97FF\", \"#FECB52\"], \"font\": {\"color\": \"#2a3f5f\"}, \"geo\": {\"bgcolor\": \"white\", \"lakecolor\": \"white\", \"landcolor\": \"#E5ECF6\", \"showlakes\": true, \"showland\": true, \"subunitcolor\": \"white\"}, \"hoverlabel\": {\"align\": \"left\"}, \"hovermode\": \"closest\", \"mapbox\": {\"style\": \"light\"}, \"paper_bgcolor\": \"white\", \"plot_bgcolor\": \"#E5ECF6\", \"polar\": {\"angularaxis\": {\"gridcolor\": \"white\", \"linecolor\": \"white\", \"ticks\": \"\"}, \"bgcolor\": \"#E5ECF6\", \"radialaxis\": {\"gridcolor\": \"white\", \"linecolor\": \"white\", \"ticks\": \"\"}}, \"scene\": {\"xaxis\": {\"backgroundcolor\": \"#E5ECF6\", \"gridcolor\": \"white\", \"gridwidth\": 2, \"linecolor\": \"white\", \"showbackground\": true, \"ticks\": \"\", \"zerolinecolor\": \"white\"}, \"yaxis\": {\"backgroundcolor\": \"#E5ECF6\", \"gridcolor\": \"white\", \"gridwidth\": 2, \"linecolor\": \"white\", \"showbackground\": true, \"ticks\": \"\", \"zerolinecolor\": \"white\"}, \"zaxis\": {\"backgroundcolor\": \"#E5ECF6\", \"gridcolor\": \"white\", \"gridwidth\": 2, \"linecolor\": \"white\", \"showbackground\": true, \"ticks\": \"\", \"zerolinecolor\": \"white\"}}, \"shapedefaults\": {\"line\": {\"color\": \"#2a3f5f\"}}, \"ternary\": {\"aaxis\": {\"gridcolor\": \"white\", \"linecolor\": \"white\", \"ticks\": \"\"}, \"baxis\": {\"gridcolor\": \"white\", \"linecolor\": \"white\", \"ticks\": \"\"}, \"bgcolor\": \"#E5ECF6\", \"caxis\": {\"gridcolor\": \"white\", \"linecolor\": \"white\", \"ticks\": \"\"}}, \"title\": {\"x\": 0.05}, \"xaxis\": {\"automargin\": true, \"gridcolor\": \"white\", \"linecolor\": \"white\", \"ticks\": \"\", \"title\": {\"standoff\": 15}, \"zerolinecolor\": \"white\", \"zerolinewidth\": 2}, \"yaxis\": {\"automargin\": true, \"gridcolor\": \"white\", \"linecolor\": \"white\", \"ticks\": \"\", \"title\": {\"standoff\": 15}, \"zerolinecolor\": \"white\", \"zerolinewidth\": 2}}}},                        {\"responsive\": true}                    ).then(function(){\n",
       "                            \n",
       "var gd = document.getElementById('82ee351d-0b44-41ed-9c02-e75ca8f8f903');\n",
       "var x = new MutationObserver(function (mutations, observer) {{\n",
       "        var display = window.getComputedStyle(gd).display;\n",
       "        if (!display || display === 'none') {{\n",
       "            console.log([gd, 'removed!']);\n",
       "            Plotly.purge(gd);\n",
       "            observer.disconnect();\n",
       "        }}\n",
       "}});\n",
       "\n",
       "// Listen for the removal of the full notebook cells\n",
       "var notebookContainer = gd.closest('#notebook-container');\n",
       "if (notebookContainer) {{\n",
       "    x.observe(notebookContainer, {childList: true});\n",
       "}}\n",
       "\n",
       "// Listen for the clearing of the current output cell\n",
       "var outputEl = gd.closest('.output');\n",
       "if (outputEl) {{\n",
       "    x.observe(outputEl, {childList: true});\n",
       "}}\n",
       "\n",
       "                        })                };                });            </script>        </div>"
      ]
     },
     "metadata": {},
     "output_type": "display_data"
    }
   ],
   "source": [
    "fig = px.scatter_3d(\n",
    "    X_train_reduced_df,\n",
    "    x='PC1',\n",
    "    y='PC2',\n",
    "    z='PC3',\n",
    "    color='Day Post-Infection',\n",
    "    size_max=8,\n",
    ")\n",
    "fig.show()"
   ]
  },
  {
   "cell_type": "code",
   "execution_count": 155,
   "id": "drawn-learning",
   "metadata": {
    "hidden": true,
    "scrolled": true
   },
   "outputs": [
    {
     "data": {
      "application/vnd.plotly.v1+json": {
       "config": {
        "plotlyServerURL": "https://plot.ly"
       },
       "data": [
        {
         "hovertemplate": "Host Age Category=aged<br>PC1=%{x}<br>PC2=%{y}<br>PC3=%{z}<extra></extra>",
         "legendgroup": "aged",
         "marker": {
          "color": "#636efa",
          "symbol": "circle"
         },
         "mode": "markers",
         "name": "aged",
         "scene": "scene",
         "showlegend": true,
         "type": "scatter3d",
         "x": [
          -151.68959801173852,
          821.8857503971105,
          374.45988916715453,
          638.8978493105134,
          717.2545582595369,
          495.22532930354333,
          356.27879790323794,
          -1018.384924896556,
          -953.1285617202288
         ],
         "y": [
          -524.64807381268,
          -1032.0385265488399,
          -968.1809735977446,
          1394.882177444261,
          993.0381390570157,
          -1147.1952947332557,
          965.7026384157834,
          472.55285142427635,
          185.1122060451872
         ],
         "z": [
          353.5402629976308,
          -628.5396763369552,
          -103.29267311961718,
          338.98854466300435,
          -51.09108711800012,
          -360.1469445157437,
          -50.310517582083406,
          -505.6626194296546,
          -57.02974168378223
         ]
        },
        {
         "hovertemplate": "Host Age Category=young<br>PC1=%{x}<br>PC2=%{y}<br>PC3=%{z}<extra></extra>",
         "legendgroup": "young",
         "marker": {
          "color": "#EF553B",
          "symbol": "circle"
         },
         "mode": "markers",
         "name": "young",
         "scene": "scene",
         "showlegend": true,
         "type": "scatter3d",
         "x": [
          518.8700595695772,
          565.1546906705818,
          -1289.8584865901755,
          -1252.1045074794129,
          549.6855912795837,
          -265.80630999598617,
          44.56467765360524,
          479.3159906017405,
          1113.4365852560297,
          -945.5265500800576,
          -502.2132972405696,
          807.4788292990224,
          -1102.8262884531648,
          -120.15703040213482,
          284.87777965785017,
          -261.3916822939931,
          794.2901328615972,
          68.86415624065934,
          176.9178639761034,
          333.72947279493894,
          26.99112625212225,
          -124.02469605977066,
          -161.8738658063316
         ],
         "y": [
          -1106.4520091602149,
          1045.387363427198,
          -113.96070156649971,
          94.91268417658065,
          -1133.3573238534314,
          -32.538520280385605,
          -931.4827604895722,
          855.3289025154992,
          -349.0164963045497,
          471.9112648953915,
          466.6081670538544,
          1334.5310231166584,
          431.92609844221306,
          679.9856024442834,
          -685.5667115027961,
          684.9754444930398,
          1293.599426906482,
          -898.9755676900328,
          340.59055790591304,
          810.5098196327468,
          -402.86993550540734,
          -597.0584858775907,
          -870.9169286922179
         ],
         "z": [
          -341.1125403462435,
          -38.98757337784286,
          -64.96179545390684,
          -369.263122878314,
          -438.67729619307926,
          178.3164301972502,
          371.0577982567448,
          -43.96149442583607,
          120.51661750562795,
          -616.8024565614965,
          -92.79959373051777,
          334.5520803425537,
          -511.02613348790396,
          -120.5922457102123,
          452.3333843403549,
          -243.5563226006254,
          408.58740991202666,
          902.6462032645317,
          1240.6618062928633,
          -52.100433023133085,
          328.3713050302244,
          513.2857892497354,
          878.7893933009998
         ]
        },
        {
         "hovertemplate": "Host Age Category=adult<br>PC1=%{x}<br>PC2=%{y}<br>PC3=%{z}<extra></extra>",
         "legendgroup": "adult",
         "marker": {
          "color": "#00cc96",
          "symbol": "circle"
         },
         "mode": "markers",
         "name": "adult",
         "scene": "scene",
         "showlegend": true,
         "type": "scatter3d",
         "x": [
          62.29212634716853,
          -38.45522597502539,
          691.0479987678453,
          1446.820154704774,
          1467.0594316643044,
          461.9491496556018,
          640.5370086474138,
          776.8353931048962,
          -1315.3763050950654,
          -1260.482347497955,
          -505.0914561556148,
          -279.68122261567487,
          -28.802549650365304,
          -1335.2367058286857,
          -1308.6016504876939,
          848.3582746309654,
          -990.2874118551644,
          703.0184862753641,
          -1293.5501416432126,
          1488.1110775078116,
          -1201.988365986241,
          -468.16800966242346,
          934.1187252622458,
          745.0865761181782,
          -1327.2682143900056,
          779.9951663665732,
          -711.4332936344048
         ],
         "y": [
          -828.8468391536124,
          -940.0572844380014,
          -1101.6887413256648,
          -534.3447207495993,
          -356.0682169601305,
          -301.77554659048565,
          1085.9993234153992,
          -1045.2792440079886,
          -5.479370381260083,
          -181.44384053979775,
          -546.7999474759683,
          -518.0323939214512,
          -652.8447517096185,
          -31.645495311485213,
          -32.76073671894573,
          1065.4724938647619,
          440.7106068051875,
          1140.0833138004866,
          -93.29484027420402,
          -512.6421061654803,
          -102.70767241390719,
          467.68769803422566,
          1419.4645418452408,
          970.7397240866795,
          -69.45756063042354,
          -939.025717914729,
          476.7412670496062
         ],
         "z": [
          859.2231775088775,
          564.4530466419313,
          -611.3883109040984,
          -609.4429702631757,
          -505.3917759306919,
          497.87341392529146,
          -15.703760896368207,
          -679.6811802033646,
          -204.456652363981,
          -9.3123303002684,
          758.6898178467604,
          226.034610928344,
          752.9008222117542,
          -170.53885126660185,
          -152.53796766091935,
          -82.42221899490222,
          -521.7053000762556,
          -66.95306857247846,
          -87.36152119101858,
          -602.8328414086283,
          -7.199603478472962,
          -264.1053616555861,
          431.1539802411043,
          -108.06362984855174,
          -111.11725804109176,
          -704.0214438021626,
          -307.82558022404567
         ]
        }
       ],
       "layout": {
        "legend": {
         "title": {
          "text": "Host Age Category"
         },
         "tracegroupgap": 0
        },
        "margin": {
         "t": 60
        },
        "scene": {
         "domain": {
          "x": [
           0,
           1
          ],
          "y": [
           0,
           1
          ]
         },
         "xaxis": {
          "title": {
           "text": "PC1"
          }
         },
         "yaxis": {
          "title": {
           "text": "PC2"
          }
         },
         "zaxis": {
          "title": {
           "text": "PC3"
          }
         }
        },
        "template": {
         "data": {
          "bar": [
           {
            "error_x": {
             "color": "#2a3f5f"
            },
            "error_y": {
             "color": "#2a3f5f"
            },
            "marker": {
             "line": {
              "color": "#E5ECF6",
              "width": 0.5
             }
            },
            "type": "bar"
           }
          ],
          "barpolar": [
           {
            "marker": {
             "line": {
              "color": "#E5ECF6",
              "width": 0.5
             }
            },
            "type": "barpolar"
           }
          ],
          "carpet": [
           {
            "aaxis": {
             "endlinecolor": "#2a3f5f",
             "gridcolor": "white",
             "linecolor": "white",
             "minorgridcolor": "white",
             "startlinecolor": "#2a3f5f"
            },
            "baxis": {
             "endlinecolor": "#2a3f5f",
             "gridcolor": "white",
             "linecolor": "white",
             "minorgridcolor": "white",
             "startlinecolor": "#2a3f5f"
            },
            "type": "carpet"
           }
          ],
          "choropleth": [
           {
            "colorbar": {
             "outlinewidth": 0,
             "ticks": ""
            },
            "type": "choropleth"
           }
          ],
          "contour": [
           {
            "colorbar": {
             "outlinewidth": 0,
             "ticks": ""
            },
            "colorscale": [
             [
              0,
              "#0d0887"
             ],
             [
              0.1111111111111111,
              "#46039f"
             ],
             [
              0.2222222222222222,
              "#7201a8"
             ],
             [
              0.3333333333333333,
              "#9c179e"
             ],
             [
              0.4444444444444444,
              "#bd3786"
             ],
             [
              0.5555555555555556,
              "#d8576b"
             ],
             [
              0.6666666666666666,
              "#ed7953"
             ],
             [
              0.7777777777777778,
              "#fb9f3a"
             ],
             [
              0.8888888888888888,
              "#fdca26"
             ],
             [
              1,
              "#f0f921"
             ]
            ],
            "type": "contour"
           }
          ],
          "contourcarpet": [
           {
            "colorbar": {
             "outlinewidth": 0,
             "ticks": ""
            },
            "type": "contourcarpet"
           }
          ],
          "heatmap": [
           {
            "colorbar": {
             "outlinewidth": 0,
             "ticks": ""
            },
            "colorscale": [
             [
              0,
              "#0d0887"
             ],
             [
              0.1111111111111111,
              "#46039f"
             ],
             [
              0.2222222222222222,
              "#7201a8"
             ],
             [
              0.3333333333333333,
              "#9c179e"
             ],
             [
              0.4444444444444444,
              "#bd3786"
             ],
             [
              0.5555555555555556,
              "#d8576b"
             ],
             [
              0.6666666666666666,
              "#ed7953"
             ],
             [
              0.7777777777777778,
              "#fb9f3a"
             ],
             [
              0.8888888888888888,
              "#fdca26"
             ],
             [
              1,
              "#f0f921"
             ]
            ],
            "type": "heatmap"
           }
          ],
          "heatmapgl": [
           {
            "colorbar": {
             "outlinewidth": 0,
             "ticks": ""
            },
            "colorscale": [
             [
              0,
              "#0d0887"
             ],
             [
              0.1111111111111111,
              "#46039f"
             ],
             [
              0.2222222222222222,
              "#7201a8"
             ],
             [
              0.3333333333333333,
              "#9c179e"
             ],
             [
              0.4444444444444444,
              "#bd3786"
             ],
             [
              0.5555555555555556,
              "#d8576b"
             ],
             [
              0.6666666666666666,
              "#ed7953"
             ],
             [
              0.7777777777777778,
              "#fb9f3a"
             ],
             [
              0.8888888888888888,
              "#fdca26"
             ],
             [
              1,
              "#f0f921"
             ]
            ],
            "type": "heatmapgl"
           }
          ],
          "histogram": [
           {
            "marker": {
             "colorbar": {
              "outlinewidth": 0,
              "ticks": ""
             }
            },
            "type": "histogram"
           }
          ],
          "histogram2d": [
           {
            "colorbar": {
             "outlinewidth": 0,
             "ticks": ""
            },
            "colorscale": [
             [
              0,
              "#0d0887"
             ],
             [
              0.1111111111111111,
              "#46039f"
             ],
             [
              0.2222222222222222,
              "#7201a8"
             ],
             [
              0.3333333333333333,
              "#9c179e"
             ],
             [
              0.4444444444444444,
              "#bd3786"
             ],
             [
              0.5555555555555556,
              "#d8576b"
             ],
             [
              0.6666666666666666,
              "#ed7953"
             ],
             [
              0.7777777777777778,
              "#fb9f3a"
             ],
             [
              0.8888888888888888,
              "#fdca26"
             ],
             [
              1,
              "#f0f921"
             ]
            ],
            "type": "histogram2d"
           }
          ],
          "histogram2dcontour": [
           {
            "colorbar": {
             "outlinewidth": 0,
             "ticks": ""
            },
            "colorscale": [
             [
              0,
              "#0d0887"
             ],
             [
              0.1111111111111111,
              "#46039f"
             ],
             [
              0.2222222222222222,
              "#7201a8"
             ],
             [
              0.3333333333333333,
              "#9c179e"
             ],
             [
              0.4444444444444444,
              "#bd3786"
             ],
             [
              0.5555555555555556,
              "#d8576b"
             ],
             [
              0.6666666666666666,
              "#ed7953"
             ],
             [
              0.7777777777777778,
              "#fb9f3a"
             ],
             [
              0.8888888888888888,
              "#fdca26"
             ],
             [
              1,
              "#f0f921"
             ]
            ],
            "type": "histogram2dcontour"
           }
          ],
          "mesh3d": [
           {
            "colorbar": {
             "outlinewidth": 0,
             "ticks": ""
            },
            "type": "mesh3d"
           }
          ],
          "parcoords": [
           {
            "line": {
             "colorbar": {
              "outlinewidth": 0,
              "ticks": ""
             }
            },
            "type": "parcoords"
           }
          ],
          "pie": [
           {
            "automargin": true,
            "type": "pie"
           }
          ],
          "scatter": [
           {
            "marker": {
             "colorbar": {
              "outlinewidth": 0,
              "ticks": ""
             }
            },
            "type": "scatter"
           }
          ],
          "scatter3d": [
           {
            "line": {
             "colorbar": {
              "outlinewidth": 0,
              "ticks": ""
             }
            },
            "marker": {
             "colorbar": {
              "outlinewidth": 0,
              "ticks": ""
             }
            },
            "type": "scatter3d"
           }
          ],
          "scattercarpet": [
           {
            "marker": {
             "colorbar": {
              "outlinewidth": 0,
              "ticks": ""
             }
            },
            "type": "scattercarpet"
           }
          ],
          "scattergeo": [
           {
            "marker": {
             "colorbar": {
              "outlinewidth": 0,
              "ticks": ""
             }
            },
            "type": "scattergeo"
           }
          ],
          "scattergl": [
           {
            "marker": {
             "colorbar": {
              "outlinewidth": 0,
              "ticks": ""
             }
            },
            "type": "scattergl"
           }
          ],
          "scattermapbox": [
           {
            "marker": {
             "colorbar": {
              "outlinewidth": 0,
              "ticks": ""
             }
            },
            "type": "scattermapbox"
           }
          ],
          "scatterpolar": [
           {
            "marker": {
             "colorbar": {
              "outlinewidth": 0,
              "ticks": ""
             }
            },
            "type": "scatterpolar"
           }
          ],
          "scatterpolargl": [
           {
            "marker": {
             "colorbar": {
              "outlinewidth": 0,
              "ticks": ""
             }
            },
            "type": "scatterpolargl"
           }
          ],
          "scatterternary": [
           {
            "marker": {
             "colorbar": {
              "outlinewidth": 0,
              "ticks": ""
             }
            },
            "type": "scatterternary"
           }
          ],
          "surface": [
           {
            "colorbar": {
             "outlinewidth": 0,
             "ticks": ""
            },
            "colorscale": [
             [
              0,
              "#0d0887"
             ],
             [
              0.1111111111111111,
              "#46039f"
             ],
             [
              0.2222222222222222,
              "#7201a8"
             ],
             [
              0.3333333333333333,
              "#9c179e"
             ],
             [
              0.4444444444444444,
              "#bd3786"
             ],
             [
              0.5555555555555556,
              "#d8576b"
             ],
             [
              0.6666666666666666,
              "#ed7953"
             ],
             [
              0.7777777777777778,
              "#fb9f3a"
             ],
             [
              0.8888888888888888,
              "#fdca26"
             ],
             [
              1,
              "#f0f921"
             ]
            ],
            "type": "surface"
           }
          ],
          "table": [
           {
            "cells": {
             "fill": {
              "color": "#EBF0F8"
             },
             "line": {
              "color": "white"
             }
            },
            "header": {
             "fill": {
              "color": "#C8D4E3"
             },
             "line": {
              "color": "white"
             }
            },
            "type": "table"
           }
          ]
         },
         "layout": {
          "annotationdefaults": {
           "arrowcolor": "#2a3f5f",
           "arrowhead": 0,
           "arrowwidth": 1
          },
          "autotypenumbers": "strict",
          "coloraxis": {
           "colorbar": {
            "outlinewidth": 0,
            "ticks": ""
           }
          },
          "colorscale": {
           "diverging": [
            [
             0,
             "#8e0152"
            ],
            [
             0.1,
             "#c51b7d"
            ],
            [
             0.2,
             "#de77ae"
            ],
            [
             0.3,
             "#f1b6da"
            ],
            [
             0.4,
             "#fde0ef"
            ],
            [
             0.5,
             "#f7f7f7"
            ],
            [
             0.6,
             "#e6f5d0"
            ],
            [
             0.7,
             "#b8e186"
            ],
            [
             0.8,
             "#7fbc41"
            ],
            [
             0.9,
             "#4d9221"
            ],
            [
             1,
             "#276419"
            ]
           ],
           "sequential": [
            [
             0,
             "#0d0887"
            ],
            [
             0.1111111111111111,
             "#46039f"
            ],
            [
             0.2222222222222222,
             "#7201a8"
            ],
            [
             0.3333333333333333,
             "#9c179e"
            ],
            [
             0.4444444444444444,
             "#bd3786"
            ],
            [
             0.5555555555555556,
             "#d8576b"
            ],
            [
             0.6666666666666666,
             "#ed7953"
            ],
            [
             0.7777777777777778,
             "#fb9f3a"
            ],
            [
             0.8888888888888888,
             "#fdca26"
            ],
            [
             1,
             "#f0f921"
            ]
           ],
           "sequentialminus": [
            [
             0,
             "#0d0887"
            ],
            [
             0.1111111111111111,
             "#46039f"
            ],
            [
             0.2222222222222222,
             "#7201a8"
            ],
            [
             0.3333333333333333,
             "#9c179e"
            ],
            [
             0.4444444444444444,
             "#bd3786"
            ],
            [
             0.5555555555555556,
             "#d8576b"
            ],
            [
             0.6666666666666666,
             "#ed7953"
            ],
            [
             0.7777777777777778,
             "#fb9f3a"
            ],
            [
             0.8888888888888888,
             "#fdca26"
            ],
            [
             1,
             "#f0f921"
            ]
           ]
          },
          "colorway": [
           "#636efa",
           "#EF553B",
           "#00cc96",
           "#ab63fa",
           "#FFA15A",
           "#19d3f3",
           "#FF6692",
           "#B6E880",
           "#FF97FF",
           "#FECB52"
          ],
          "font": {
           "color": "#2a3f5f"
          },
          "geo": {
           "bgcolor": "white",
           "lakecolor": "white",
           "landcolor": "#E5ECF6",
           "showlakes": true,
           "showland": true,
           "subunitcolor": "white"
          },
          "hoverlabel": {
           "align": "left"
          },
          "hovermode": "closest",
          "mapbox": {
           "style": "light"
          },
          "paper_bgcolor": "white",
          "plot_bgcolor": "#E5ECF6",
          "polar": {
           "angularaxis": {
            "gridcolor": "white",
            "linecolor": "white",
            "ticks": ""
           },
           "bgcolor": "#E5ECF6",
           "radialaxis": {
            "gridcolor": "white",
            "linecolor": "white",
            "ticks": ""
           }
          },
          "scene": {
           "xaxis": {
            "backgroundcolor": "#E5ECF6",
            "gridcolor": "white",
            "gridwidth": 2,
            "linecolor": "white",
            "showbackground": true,
            "ticks": "",
            "zerolinecolor": "white"
           },
           "yaxis": {
            "backgroundcolor": "#E5ECF6",
            "gridcolor": "white",
            "gridwidth": 2,
            "linecolor": "white",
            "showbackground": true,
            "ticks": "",
            "zerolinecolor": "white"
           },
           "zaxis": {
            "backgroundcolor": "#E5ECF6",
            "gridcolor": "white",
            "gridwidth": 2,
            "linecolor": "white",
            "showbackground": true,
            "ticks": "",
            "zerolinecolor": "white"
           }
          },
          "shapedefaults": {
           "line": {
            "color": "#2a3f5f"
           }
          },
          "ternary": {
           "aaxis": {
            "gridcolor": "white",
            "linecolor": "white",
            "ticks": ""
           },
           "baxis": {
            "gridcolor": "white",
            "linecolor": "white",
            "ticks": ""
           },
           "bgcolor": "#E5ECF6",
           "caxis": {
            "gridcolor": "white",
            "linecolor": "white",
            "ticks": ""
           }
          },
          "title": {
           "x": 0.05
          },
          "xaxis": {
           "automargin": true,
           "gridcolor": "white",
           "linecolor": "white",
           "ticks": "",
           "title": {
            "standoff": 15
           },
           "zerolinecolor": "white",
           "zerolinewidth": 2
          },
          "yaxis": {
           "automargin": true,
           "gridcolor": "white",
           "linecolor": "white",
           "ticks": "",
           "title": {
            "standoff": 15
           },
           "zerolinecolor": "white",
           "zerolinewidth": 2
          }
         }
        }
       }
      },
      "text/html": [
       "<div>                            <div id=\"30215c93-f5ab-4605-beb6-ac90c89be725\" class=\"plotly-graph-div\" style=\"height:525px; width:100%;\"></div>            <script type=\"text/javascript\">                require([\"plotly\"], function(Plotly) {                    window.PLOTLYENV=window.PLOTLYENV || {};                                    if (document.getElementById(\"30215c93-f5ab-4605-beb6-ac90c89be725\")) {                    Plotly.newPlot(                        \"30215c93-f5ab-4605-beb6-ac90c89be725\",                        [{\"hovertemplate\": \"Host Age Category=aged<br>PC1=%{x}<br>PC2=%{y}<br>PC3=%{z}<extra></extra>\", \"legendgroup\": \"aged\", \"marker\": {\"color\": \"#636efa\", \"symbol\": \"circle\"}, \"mode\": \"markers\", \"name\": \"aged\", \"scene\": \"scene\", \"showlegend\": true, \"type\": \"scatter3d\", \"x\": [-151.68959801173852, 821.8857503971105, 374.45988916715453, 638.8978493105134, 717.2545582595369, 495.22532930354333, 356.27879790323794, -1018.384924896556, -953.1285617202288], \"y\": [-524.64807381268, -1032.0385265488399, -968.1809735977446, 1394.882177444261, 993.0381390570157, -1147.1952947332557, 965.7026384157834, 472.55285142427635, 185.1122060451872], \"z\": [353.5402629976308, -628.5396763369552, -103.29267311961718, 338.98854466300435, -51.09108711800012, -360.1469445157437, -50.310517582083406, -505.6626194296546, -57.02974168378223]}, {\"hovertemplate\": \"Host Age Category=young<br>PC1=%{x}<br>PC2=%{y}<br>PC3=%{z}<extra></extra>\", \"legendgroup\": \"young\", \"marker\": {\"color\": \"#EF553B\", \"symbol\": \"circle\"}, \"mode\": \"markers\", \"name\": \"young\", \"scene\": \"scene\", \"showlegend\": true, \"type\": \"scatter3d\", \"x\": [518.8700595695772, 565.1546906705818, -1289.8584865901755, -1252.1045074794129, 549.6855912795837, -265.80630999598617, 44.56467765360524, 479.3159906017405, 1113.4365852560297, -945.5265500800576, -502.2132972405696, 807.4788292990224, -1102.8262884531648, -120.15703040213482, 284.87777965785017, -261.3916822939931, 794.2901328615972, 68.86415624065934, 176.9178639761034, 333.72947279493894, 26.99112625212225, -124.02469605977066, -161.8738658063316], \"y\": [-1106.4520091602149, 1045.387363427198, -113.96070156649971, 94.91268417658065, -1133.3573238534314, -32.538520280385605, -931.4827604895722, 855.3289025154992, -349.0164963045497, 471.9112648953915, 466.6081670538544, 1334.5310231166584, 431.92609844221306, 679.9856024442834, -685.5667115027961, 684.9754444930398, 1293.599426906482, -898.9755676900328, 340.59055790591304, 810.5098196327468, -402.86993550540734, -597.0584858775907, -870.9169286922179], \"z\": [-341.1125403462435, -38.98757337784286, -64.96179545390684, -369.263122878314, -438.67729619307926, 178.3164301972502, 371.0577982567448, -43.96149442583607, 120.51661750562795, -616.8024565614965, -92.79959373051777, 334.5520803425537, -511.02613348790396, -120.5922457102123, 452.3333843403549, -243.5563226006254, 408.58740991202666, 902.6462032645317, 1240.6618062928633, -52.100433023133085, 328.3713050302244, 513.2857892497354, 878.7893933009998]}, {\"hovertemplate\": \"Host Age Category=adult<br>PC1=%{x}<br>PC2=%{y}<br>PC3=%{z}<extra></extra>\", \"legendgroup\": \"adult\", \"marker\": {\"color\": \"#00cc96\", \"symbol\": \"circle\"}, \"mode\": \"markers\", \"name\": \"adult\", \"scene\": \"scene\", \"showlegend\": true, \"type\": \"scatter3d\", \"x\": [62.29212634716853, -38.45522597502539, 691.0479987678453, 1446.820154704774, 1467.0594316643044, 461.9491496556018, 640.5370086474138, 776.8353931048962, -1315.3763050950654, -1260.482347497955, -505.0914561556148, -279.68122261567487, -28.802549650365304, -1335.2367058286857, -1308.6016504876939, 848.3582746309654, -990.2874118551644, 703.0184862753641, -1293.5501416432126, 1488.1110775078116, -1201.988365986241, -468.16800966242346, 934.1187252622458, 745.0865761181782, -1327.2682143900056, 779.9951663665732, -711.4332936344048], \"y\": [-828.8468391536124, -940.0572844380014, -1101.6887413256648, -534.3447207495993, -356.0682169601305, -301.77554659048565, 1085.9993234153992, -1045.2792440079886, -5.479370381260083, -181.44384053979775, -546.7999474759683, -518.0323939214512, -652.8447517096185, -31.645495311485213, -32.76073671894573, 1065.4724938647619, 440.7106068051875, 1140.0833138004866, -93.29484027420402, -512.6421061654803, -102.70767241390719, 467.68769803422566, 1419.4645418452408, 970.7397240866795, -69.45756063042354, -939.025717914729, 476.7412670496062], \"z\": [859.2231775088775, 564.4530466419313, -611.3883109040984, -609.4429702631757, -505.3917759306919, 497.87341392529146, -15.703760896368207, -679.6811802033646, -204.456652363981, -9.3123303002684, 758.6898178467604, 226.034610928344, 752.9008222117542, -170.53885126660185, -152.53796766091935, -82.42221899490222, -521.7053000762556, -66.95306857247846, -87.36152119101858, -602.8328414086283, -7.199603478472962, -264.1053616555861, 431.1539802411043, -108.06362984855174, -111.11725804109176, -704.0214438021626, -307.82558022404567]}],                        {\"legend\": {\"title\": {\"text\": \"Host Age Category\"}, \"tracegroupgap\": 0}, \"margin\": {\"t\": 60}, \"scene\": {\"domain\": {\"x\": [0.0, 1.0], \"y\": [0.0, 1.0]}, \"xaxis\": {\"title\": {\"text\": \"PC1\"}}, \"yaxis\": {\"title\": {\"text\": \"PC2\"}}, \"zaxis\": {\"title\": {\"text\": \"PC3\"}}}, \"template\": {\"data\": {\"bar\": [{\"error_x\": {\"color\": \"#2a3f5f\"}, \"error_y\": {\"color\": \"#2a3f5f\"}, \"marker\": {\"line\": {\"color\": \"#E5ECF6\", \"width\": 0.5}}, \"type\": \"bar\"}], \"barpolar\": [{\"marker\": {\"line\": {\"color\": \"#E5ECF6\", \"width\": 0.5}}, \"type\": \"barpolar\"}], \"carpet\": [{\"aaxis\": {\"endlinecolor\": \"#2a3f5f\", \"gridcolor\": \"white\", \"linecolor\": \"white\", \"minorgridcolor\": \"white\", \"startlinecolor\": \"#2a3f5f\"}, \"baxis\": {\"endlinecolor\": \"#2a3f5f\", \"gridcolor\": \"white\", \"linecolor\": \"white\", \"minorgridcolor\": \"white\", \"startlinecolor\": \"#2a3f5f\"}, \"type\": \"carpet\"}], \"choropleth\": [{\"colorbar\": {\"outlinewidth\": 0, \"ticks\": \"\"}, \"type\": \"choropleth\"}], \"contour\": [{\"colorbar\": {\"outlinewidth\": 0, \"ticks\": \"\"}, \"colorscale\": [[0.0, \"#0d0887\"], [0.1111111111111111, \"#46039f\"], [0.2222222222222222, \"#7201a8\"], [0.3333333333333333, \"#9c179e\"], [0.4444444444444444, \"#bd3786\"], [0.5555555555555556, \"#d8576b\"], [0.6666666666666666, \"#ed7953\"], [0.7777777777777778, \"#fb9f3a\"], [0.8888888888888888, \"#fdca26\"], [1.0, \"#f0f921\"]], \"type\": \"contour\"}], \"contourcarpet\": [{\"colorbar\": {\"outlinewidth\": 0, \"ticks\": \"\"}, \"type\": \"contourcarpet\"}], \"heatmap\": [{\"colorbar\": {\"outlinewidth\": 0, \"ticks\": \"\"}, \"colorscale\": [[0.0, \"#0d0887\"], [0.1111111111111111, \"#46039f\"], [0.2222222222222222, \"#7201a8\"], [0.3333333333333333, \"#9c179e\"], [0.4444444444444444, \"#bd3786\"], [0.5555555555555556, \"#d8576b\"], [0.6666666666666666, \"#ed7953\"], [0.7777777777777778, \"#fb9f3a\"], [0.8888888888888888, \"#fdca26\"], [1.0, \"#f0f921\"]], \"type\": \"heatmap\"}], \"heatmapgl\": [{\"colorbar\": {\"outlinewidth\": 0, \"ticks\": \"\"}, \"colorscale\": [[0.0, \"#0d0887\"], [0.1111111111111111, \"#46039f\"], [0.2222222222222222, \"#7201a8\"], [0.3333333333333333, \"#9c179e\"], [0.4444444444444444, \"#bd3786\"], [0.5555555555555556, \"#d8576b\"], [0.6666666666666666, \"#ed7953\"], [0.7777777777777778, \"#fb9f3a\"], [0.8888888888888888, \"#fdca26\"], [1.0, \"#f0f921\"]], \"type\": \"heatmapgl\"}], \"histogram\": [{\"marker\": {\"colorbar\": {\"outlinewidth\": 0, \"ticks\": \"\"}}, \"type\": \"histogram\"}], \"histogram2d\": [{\"colorbar\": {\"outlinewidth\": 0, \"ticks\": \"\"}, \"colorscale\": [[0.0, \"#0d0887\"], [0.1111111111111111, \"#46039f\"], [0.2222222222222222, \"#7201a8\"], [0.3333333333333333, \"#9c179e\"], [0.4444444444444444, \"#bd3786\"], [0.5555555555555556, \"#d8576b\"], [0.6666666666666666, \"#ed7953\"], [0.7777777777777778, \"#fb9f3a\"], [0.8888888888888888, \"#fdca26\"], [1.0, \"#f0f921\"]], \"type\": \"histogram2d\"}], \"histogram2dcontour\": [{\"colorbar\": {\"outlinewidth\": 0, \"ticks\": \"\"}, \"colorscale\": [[0.0, \"#0d0887\"], [0.1111111111111111, \"#46039f\"], [0.2222222222222222, \"#7201a8\"], [0.3333333333333333, \"#9c179e\"], [0.4444444444444444, \"#bd3786\"], [0.5555555555555556, \"#d8576b\"], [0.6666666666666666, \"#ed7953\"], [0.7777777777777778, \"#fb9f3a\"], [0.8888888888888888, \"#fdca26\"], [1.0, \"#f0f921\"]], \"type\": \"histogram2dcontour\"}], \"mesh3d\": [{\"colorbar\": {\"outlinewidth\": 0, \"ticks\": \"\"}, \"type\": \"mesh3d\"}], \"parcoords\": [{\"line\": {\"colorbar\": {\"outlinewidth\": 0, \"ticks\": \"\"}}, \"type\": \"parcoords\"}], \"pie\": [{\"automargin\": true, \"type\": \"pie\"}], \"scatter\": [{\"marker\": {\"colorbar\": {\"outlinewidth\": 0, \"ticks\": \"\"}}, \"type\": \"scatter\"}], \"scatter3d\": [{\"line\": {\"colorbar\": {\"outlinewidth\": 0, \"ticks\": \"\"}}, \"marker\": {\"colorbar\": {\"outlinewidth\": 0, \"ticks\": \"\"}}, \"type\": \"scatter3d\"}], \"scattercarpet\": [{\"marker\": {\"colorbar\": {\"outlinewidth\": 0, \"ticks\": \"\"}}, \"type\": \"scattercarpet\"}], \"scattergeo\": [{\"marker\": {\"colorbar\": {\"outlinewidth\": 0, \"ticks\": \"\"}}, \"type\": \"scattergeo\"}], \"scattergl\": [{\"marker\": {\"colorbar\": {\"outlinewidth\": 0, \"ticks\": \"\"}}, \"type\": \"scattergl\"}], \"scattermapbox\": [{\"marker\": {\"colorbar\": {\"outlinewidth\": 0, \"ticks\": \"\"}}, \"type\": \"scattermapbox\"}], \"scatterpolar\": [{\"marker\": {\"colorbar\": {\"outlinewidth\": 0, \"ticks\": \"\"}}, \"type\": \"scatterpolar\"}], \"scatterpolargl\": [{\"marker\": {\"colorbar\": {\"outlinewidth\": 0, \"ticks\": \"\"}}, \"type\": \"scatterpolargl\"}], \"scatterternary\": [{\"marker\": {\"colorbar\": {\"outlinewidth\": 0, \"ticks\": \"\"}}, \"type\": \"scatterternary\"}], \"surface\": [{\"colorbar\": {\"outlinewidth\": 0, \"ticks\": \"\"}, \"colorscale\": [[0.0, \"#0d0887\"], [0.1111111111111111, \"#46039f\"], [0.2222222222222222, \"#7201a8\"], [0.3333333333333333, \"#9c179e\"], [0.4444444444444444, \"#bd3786\"], [0.5555555555555556, \"#d8576b\"], [0.6666666666666666, \"#ed7953\"], [0.7777777777777778, \"#fb9f3a\"], [0.8888888888888888, \"#fdca26\"], [1.0, \"#f0f921\"]], \"type\": \"surface\"}], \"table\": [{\"cells\": {\"fill\": {\"color\": \"#EBF0F8\"}, \"line\": {\"color\": \"white\"}}, \"header\": {\"fill\": {\"color\": \"#C8D4E3\"}, \"line\": {\"color\": \"white\"}}, \"type\": \"table\"}]}, \"layout\": {\"annotationdefaults\": {\"arrowcolor\": \"#2a3f5f\", \"arrowhead\": 0, \"arrowwidth\": 1}, \"autotypenumbers\": \"strict\", \"coloraxis\": {\"colorbar\": {\"outlinewidth\": 0, \"ticks\": \"\"}}, \"colorscale\": {\"diverging\": [[0, \"#8e0152\"], [0.1, \"#c51b7d\"], [0.2, \"#de77ae\"], [0.3, \"#f1b6da\"], [0.4, \"#fde0ef\"], [0.5, \"#f7f7f7\"], [0.6, \"#e6f5d0\"], [0.7, \"#b8e186\"], [0.8, \"#7fbc41\"], [0.9, \"#4d9221\"], [1, \"#276419\"]], \"sequential\": [[0.0, \"#0d0887\"], [0.1111111111111111, \"#46039f\"], [0.2222222222222222, \"#7201a8\"], [0.3333333333333333, \"#9c179e\"], [0.4444444444444444, \"#bd3786\"], [0.5555555555555556, \"#d8576b\"], [0.6666666666666666, \"#ed7953\"], [0.7777777777777778, \"#fb9f3a\"], [0.8888888888888888, \"#fdca26\"], [1.0, \"#f0f921\"]], \"sequentialminus\": [[0.0, \"#0d0887\"], [0.1111111111111111, \"#46039f\"], [0.2222222222222222, \"#7201a8\"], [0.3333333333333333, \"#9c179e\"], [0.4444444444444444, \"#bd3786\"], [0.5555555555555556, \"#d8576b\"], [0.6666666666666666, \"#ed7953\"], [0.7777777777777778, \"#fb9f3a\"], [0.8888888888888888, \"#fdca26\"], [1.0, \"#f0f921\"]]}, \"colorway\": [\"#636efa\", \"#EF553B\", \"#00cc96\", \"#ab63fa\", \"#FFA15A\", \"#19d3f3\", \"#FF6692\", \"#B6E880\", \"#FF97FF\", \"#FECB52\"], \"font\": {\"color\": \"#2a3f5f\"}, \"geo\": {\"bgcolor\": \"white\", \"lakecolor\": \"white\", \"landcolor\": \"#E5ECF6\", \"showlakes\": true, \"showland\": true, \"subunitcolor\": \"white\"}, \"hoverlabel\": {\"align\": \"left\"}, \"hovermode\": \"closest\", \"mapbox\": {\"style\": \"light\"}, \"paper_bgcolor\": \"white\", \"plot_bgcolor\": \"#E5ECF6\", \"polar\": {\"angularaxis\": {\"gridcolor\": \"white\", \"linecolor\": \"white\", \"ticks\": \"\"}, \"bgcolor\": \"#E5ECF6\", \"radialaxis\": {\"gridcolor\": \"white\", \"linecolor\": \"white\", \"ticks\": \"\"}}, \"scene\": {\"xaxis\": {\"backgroundcolor\": \"#E5ECF6\", \"gridcolor\": \"white\", \"gridwidth\": 2, \"linecolor\": \"white\", \"showbackground\": true, \"ticks\": \"\", \"zerolinecolor\": \"white\"}, \"yaxis\": {\"backgroundcolor\": \"#E5ECF6\", \"gridcolor\": \"white\", \"gridwidth\": 2, \"linecolor\": \"white\", \"showbackground\": true, \"ticks\": \"\", \"zerolinecolor\": \"white\"}, \"zaxis\": {\"backgroundcolor\": \"#E5ECF6\", \"gridcolor\": \"white\", \"gridwidth\": 2, \"linecolor\": \"white\", \"showbackground\": true, \"ticks\": \"\", \"zerolinecolor\": \"white\"}}, \"shapedefaults\": {\"line\": {\"color\": \"#2a3f5f\"}}, \"ternary\": {\"aaxis\": {\"gridcolor\": \"white\", \"linecolor\": \"white\", \"ticks\": \"\"}, \"baxis\": {\"gridcolor\": \"white\", \"linecolor\": \"white\", \"ticks\": \"\"}, \"bgcolor\": \"#E5ECF6\", \"caxis\": {\"gridcolor\": \"white\", \"linecolor\": \"white\", \"ticks\": \"\"}}, \"title\": {\"x\": 0.05}, \"xaxis\": {\"automargin\": true, \"gridcolor\": \"white\", \"linecolor\": \"white\", \"ticks\": \"\", \"title\": {\"standoff\": 15}, \"zerolinecolor\": \"white\", \"zerolinewidth\": 2}, \"yaxis\": {\"automargin\": true, \"gridcolor\": \"white\", \"linecolor\": \"white\", \"ticks\": \"\", \"title\": {\"standoff\": 15}, \"zerolinecolor\": \"white\", \"zerolinewidth\": 2}}}},                        {\"responsive\": true}                    ).then(function(){\n",
       "                            \n",
       "var gd = document.getElementById('30215c93-f5ab-4605-beb6-ac90c89be725');\n",
       "var x = new MutationObserver(function (mutations, observer) {{\n",
       "        var display = window.getComputedStyle(gd).display;\n",
       "        if (!display || display === 'none') {{\n",
       "            console.log([gd, 'removed!']);\n",
       "            Plotly.purge(gd);\n",
       "            observer.disconnect();\n",
       "        }}\n",
       "}});\n",
       "\n",
       "// Listen for the removal of the full notebook cells\n",
       "var notebookContainer = gd.closest('#notebook-container');\n",
       "if (notebookContainer) {{\n",
       "    x.observe(notebookContainer, {childList: true});\n",
       "}}\n",
       "\n",
       "// Listen for the clearing of the current output cell\n",
       "var outputEl = gd.closest('.output');\n",
       "if (outputEl) {{\n",
       "    x.observe(outputEl, {childList: true});\n",
       "}}\n",
       "\n",
       "                        })                };                });            </script>        </div>"
      ]
     },
     "metadata": {},
     "output_type": "display_data"
    }
   ],
   "source": [
    "import plotly.express as px\n",
    "pca3 = PCA(n_components=3).fit(X_train)\n",
    "X_train_reduced = pca3.transform(X_train)\n",
    "\n",
    "X_train_reduced_df = pd.DataFrame(X_train_reduced,\n",
    "                                  columns=['PC1', 'PC2', 'PC3'])\n",
    "X_train_reduced_df=X_train_reduced_df.join(y.reset_index())\n",
    "fig = px.scatter_3d(\n",
    "    X_train_reduced_df,\n",
    "    x='PC1',\n",
    "    y='PC2',\n",
    "    z='PC3',\n",
    "    color='Host Age Category',\n",
    "    size_max=8,\n",
    ")\n",
    "fig.show()"
   ]
  },
  {
   "cell_type": "code",
   "execution_count": 121,
   "id": "piano-arrangement",
   "metadata": {
    "hidden": true
   },
   "outputs": [
    {
     "data": {
      "text/plain": [
       "Text(0.5, 1.0, '2D Transformation of the Above Graph ')"
      ]
     },
     "execution_count": 121,
     "metadata": {},
     "output_type": "execute_result"
    },
    {
     "data": {
      "image/png": "[encoded data removed]",
      "text/plain": [
       "<Figure size 480x300 with 1 Axes>"
      ]
     },
     "metadata": {
      "needs_background": "light"
     },
     "output_type": "display_data"
    }
   ],
   "source": [
    "# fig = plt.figure(1, figsize=(10*2, 6*2))\n",
    "%matplotlib inline\n",
    "plt.rcParams['figure.figsize'] = [8, 5]\n",
    "plt.rcParams['figure.dpi'] = 60\n",
    "plt.scatter(X_train_reduced[:, 0],\n",
    "            X_train_reduced[:, 1],\n",
    "            c=y_train,\n",
    "            cmap=plt.cm.Paired,\n",
    "            linewidths=10)\n",
    "plt.annotate('Note the Brown Cluster', xy=(30000, -2000))\n",
    "plt.title(\"2D Transformation of the Above Graph \")"
   ]
  },
  {
   "cell_type": "markdown",
   "id": "inner-separate",
   "metadata": {
    "heading_collapsed": true
   },
   "source": [
    "### Regression Models"
   ]
  },
  {
   "cell_type": "markdown",
   "id": "closing-grove",
   "metadata": {
    "heading_collapsed": true,
    "hidden": true
   },
   "source": [
    "#### baseline"
   ]
  },
  {
   "cell_type": "code",
   "execution_count": 93,
   "id": "diagnostic-principle",
   "metadata": {
    "hidden": true
   },
   "outputs": [
    {
     "name": "stdout",
     "output_type": "stream",
     "text": [
      "Simply predicting everything as acute lymphoblastic leukemia (ALL) results in an accuracy of 0.4.\n"
     ]
    }
   ],
   "source": [
    "print(\n",
    "    \"Simply predicting everything as acute lymphoblastic leukemia (ALL) results in an accuracy of \",\n",
    "    round(1 - np.mean(y_test), 3),\n",
    "    \".\",\n",
    "    sep='')"
   ]
  },
  {
   "cell_type": "markdown",
   "id": "blind-preliminary",
   "metadata": {
    "heading_collapsed": true,
    "hidden": true
   },
   "source": [
    "#### Logistic Regression\n"
   ]
  },
  {
   "cell_type": "code",
   "execution_count": 122,
   "id": "embedded-allen",
   "metadata": {
    "hidden": true
   },
   "outputs": [
    {
     "name": "stdout",
     "output_type": "stream",
     "text": [
      "Best Parameters:\n",
      " {'C': 0.01, 'penalty': 'l2'}\n",
      "Logistic Regression accuracy: 0.533\n"
     ]
    },
    {
     "data": {
      "text/plain": [
       "[Text(0, 0.5, 'young'), Text(0, 1.5, 'adult')]"
      ]
     },
     "execution_count": 122,
     "metadata": {},
     "output_type": "execute_result"
    },
    {
     "data": {
      "image/png": "[encoded data removed]",
      "text/plain": [
       "<Figure size 480x300 with 2 Axes>"
      ]
     },
     "metadata": {
      "needs_background": "light"
     },
     "output_type": "display_data"
    }
   ],
   "source": [
    "log_grid = {'C': [1e-03, 1e-2, 1e-1, 5e-1, 1, 10], 'penalty': ['l1', 'l2']}\n",
    "\n",
    "log_estimator = LogisticRegression(solver='liblinear')\n",
    "\n",
    "log_model = GridSearchCV(estimator=log_estimator,\n",
    "                         param_grid=log_grid,\n",
    "                         cv=3,\n",
    "                         scoring='accuracy')\n",
    "\n",
    "log_model.fit(X_train, y_train)\n",
    "\n",
    "print(\"Best Parameters:\\n\", log_model.best_params_)\n",
    "\n",
    "# Select best log model\n",
    "best_log = log_model.best_estimator_\n",
    "\n",
    "# Make predictions using the optimised parameters\n",
    "log_pred = best_log.predict(X_test)\n",
    "\n",
    "print('Logistic Regression accuracy:',\n",
    "      round(accuracy_score(y_test, log_pred), 3))\n",
    "\n",
    "cm_log = confusion_matrix(y_test, log_pred)\n",
    "\n",
    "ax = plt.subplot()\n",
    "sns.heatmap(cm_log, annot=True, ax=ax, fmt='g', cmap='Greens')\n",
    "\n",
    "# labels, title and ticks\n",
    "ax.set_xlabel('Predicted labels')\n",
    "ax.set_ylabel('True labels')\n",
    "ax.set_title('Logistic Regression Confusion Matrix')\n",
    "ax.xaxis.set_ticklabels(labels)\n",
    "ax.yaxis.set_ticklabels(labels, rotation=360)"
   ]
  },
  {
   "cell_type": "markdown",
   "id": "suspected-theta",
   "metadata": {
    "heading_collapsed": true,
    "hidden": true
   },
   "source": [
    "#### Naive bayes "
   ]
  },
  {
   "cell_type": "code",
   "execution_count": 126,
   "id": "sitting-librarian",
   "metadata": {
    "hidden": true
   },
   "outputs": [
    {
     "name": "stdout",
     "output_type": "stream",
     "text": [
      "Naive Bayes accuracy: 0.467\n"
     ]
    },
    {
     "data": {
      "text/plain": [
       "[Text(0, 0.5, 'young'), Text(0, 1.5, 'adult')]"
      ]
     },
     "execution_count": 126,
     "metadata": {},
     "output_type": "execute_result"
    },
    {
     "data": {
      "image/png": "[encoded data removed]",
      "text/plain": [
       "<Figure size 480x300 with 2 Axes>"
      ]
     },
     "metadata": {
      "needs_background": "light"
     },
     "output_type": "display_data"
    }
   ],
   "source": [
    "# Create a Gaussian classifier\n",
    "nb_model = GaussianNB()\n",
    "\n",
    "nb_model.fit(X_train, y_train)\n",
    "\n",
    "nb_pred = nb_model.predict(X_test)\n",
    "\n",
    "print('Naive Bayes accuracy:', round(accuracy_score(y_test, nb_pred), 3))\n",
    "\n",
    "cm_nb = confusion_matrix(y_test, nb_pred)\n",
    "\n",
    "ax = plt.subplot()\n",
    "sns.heatmap(cm_nb, annot=True, ax=ax, fmt='g', cmap='Greens')\n",
    "\n",
    "# labels, title and ticks\n",
    "ax.set_xlabel('Predicted labels')\n",
    "ax.set_ylabel('True labels')\n",
    "ax.set_title('Naive Bayes Confusion Matrix')\n",
    "ax.xaxis.set_ticklabels(labels)\n",
    "ax.yaxis.set_ticklabels(labels, rotation=360)"
   ]
  },
  {
   "cell_type": "markdown",
   "id": "chemical-establishment",
   "metadata": {
    "heading_collapsed": true,
    "hidden": true
   },
   "source": [
    "#### K-means"
   ]
  },
  {
   "cell_type": "code",
   "execution_count": 125,
   "id": "roman-adult",
   "metadata": {
    "hidden": true,
    "scrolled": true
   },
   "outputs": [
    {
     "name": "stdout",
     "output_type": "stream",
     "text": [
      "K-means accuracy: 0.467\n"
     ]
    },
    {
     "data": {
      "text/plain": [
       "[Text(0, 0.5, 'young'), Text(0, 1.5, 'adult')]"
      ]
     },
     "execution_count": 125,
     "metadata": {},
     "output_type": "execute_result"
    },
    {
     "data": {
      "image/png": "[encoded data removed]",
      "text/plain": [
       "<Figure size 480x300 with 2 Axes>"
      ]
     },
     "metadata": {
      "needs_background": "light"
     },
     "output_type": "display_data"
    }
   ],
   "source": [
    "kmeans = KMeans(n_clusters=2, random_state=0).fit(X_train)\n",
    "km_pred = kmeans.predict(X_test)\n",
    "\n",
    "print('K-means accuracy:', round(accuracy_score(y_test, km_pred), 3))\n",
    "\n",
    "cm_km = confusion_matrix(y_test, km_pred)\n",
    "\n",
    "ax = plt.subplot()\n",
    "sns.heatmap(cm_km, annot=True, ax=ax, fmt='g', cmap='Greens')\n",
    "\n",
    "# labels, title and ticks\n",
    "ax.set_xlabel('Predicted labels')\n",
    "ax.set_ylabel('True labels')\n",
    "ax.set_title('K-means Confusion Matrix')\n",
    "ax.xaxis.set_ticklabels(labels)\n",
    "ax.yaxis.set_ticklabels(labels, rotation=360)"
   ]
  },
  {
   "cell_type": "markdown",
   "id": "nuclear-chase",
   "metadata": {
    "heading_collapsed": true,
    "hidden": true
   },
   "source": [
    "#### SVM"
   ]
  },
  {
   "cell_type": "code",
   "execution_count": 127,
   "id": "hollywood-northeast",
   "metadata": {
    "hidden": true
   },
   "outputs": [
    {
     "name": "stdout",
     "output_type": "stream",
     "text": [
      "Best Parameters:\n",
      " {'C': 10, 'decision_function_shape': 'ovo', 'gamma': 1e-05, 'kernel': 'rbf'}\n",
      "SVM accuracy: 0.667\n"
     ]
    },
    {
     "data": {
      "text/plain": [
       "[Text(0, 0.5, 'young'), Text(0, 1.5, 'adult')]"
      ]
     },
     "execution_count": 127,
     "metadata": {},
     "output_type": "execute_result"
    },
    {
     "data": {
      "image/png": "[encoded data removed]",
      "text/plain": [
       "<Figure size 480x300 with 2 Axes>"
      ]
     },
     "metadata": {
      "needs_background": "light"
     },
     "output_type": "display_data"
    }
   ],
   "source": [
    "# Parameter grid\n",
    "svm_param_grid = {\n",
    "    'C': [0.1, 1, 10, 100],\n",
    "    'gamma': [1, 0.1, 0.01, 0.001, 0.00001, 10],\n",
    "    \"kernel\": [\"linear\", \"rbf\", \"poly\"],\n",
    "    \"decision_function_shape\": [\"ovo\", \"ovr\"]\n",
    "}\n",
    "\n",
    "# Create SVM grid search classifier\n",
    "svm_grid = GridSearchCV(SVC(), svm_param_grid, cv=3)\n",
    "\n",
    "# Train the classifier\n",
    "svm_grid.fit(X_train_pca, y_train)\n",
    "\n",
    "print(\"Best Parameters:\\n\", svm_grid.best_params_)\n",
    "\n",
    "# Select best svc\n",
    "best_svc = svm_grid.best_estimator_\n",
    "\n",
    "# Make predictions using the optimised parameters\n",
    "svm_pred = best_svc.predict(X_test_pca)\n",
    "\n",
    "print('SVM accuracy:', round(accuracy_score(y_test, svm_pred), 3))\n",
    "\n",
    "cm_svm = confusion_matrix(y_test, svm_pred)\n",
    "\n",
    "ax = plt.subplot()\n",
    "sns.heatmap(cm_svm, annot=True, ax=ax, fmt='g', cmap='Greens')\n",
    "\n",
    "# Labels, title and ticks\n",
    "ax.set_xlabel('Predicted labels')\n",
    "ax.set_ylabel('True labels')\n",
    "ax.set_title('SVM Confusion Matrix')\n",
    "ax.xaxis.set_ticklabels(labels)\n",
    "ax.yaxis.set_ticklabels(labels, rotation=360)"
   ]
  },
  {
   "cell_type": "markdown",
   "id": "satellite-church",
   "metadata": {
    "heading_collapsed": true,
    "hidden": true
   },
   "source": [
    "#### Random Forest"
   ]
  },
  {
   "cell_type": "code",
   "execution_count": 128,
   "id": "aboriginal-prince",
   "metadata": {
    "hidden": true
   },
   "outputs": [
    {
     "name": "stdout",
     "output_type": "stream",
     "text": [
      "Best Parameters:\n",
      " {'bootstrap': True, 'max_features': 0.6, 'min_samples_leaf': 8, 'min_samples_split': 3, 'n_estimators': 60}\n",
      "Random Forest accuracy: 0.733\n"
     ]
    },
    {
     "data": {
      "text/plain": [
       "[Text(0, 0.5, 'young'), Text(0, 1.5, 'adult')]"
      ]
     },
     "execution_count": 128,
     "metadata": {},
     "output_type": "execute_result"
    },
    {
     "data": {
      "image/png": "[encoded data removed]",
      "text/plain": [
       "<Figure size 480x300 with 2 Axes>"
      ]
     },
     "metadata": {
      "needs_background": "light"
     },
     "output_type": "display_data"
    }
   ],
   "source": [
    "# Hyperparameters search grid\n",
    "rf_param_grid = {\n",
    "    'bootstrap': [False, True],\n",
    "    'n_estimators': [60, 70, 80, 90, 100],\n",
    "    'max_features': [0.6, 0.65, 0.7, 0.75, 0.8],\n",
    "    'min_samples_leaf': [8, 10, 12, 14],\n",
    "    'min_samples_split': [3, 5, 7]\n",
    "}\n",
    "\n",
    "# Instantiate random forest classifier\n",
    "rf_estimator = RandomForestClassifier(random_state=0)\n",
    "\n",
    "# Create the GridSearchCV object\n",
    "rf_model = GridSearchCV(estimator=rf_estimator,\n",
    "                        param_grid=rf_param_grid,\n",
    "                        cv=3,\n",
    "                        scoring='accuracy')\n",
    "\n",
    "# Fine-tune the hyperparameters\n",
    "rf_model.fit(X_train, y_train)\n",
    "\n",
    "print(\"Best Parameters:\\n\", rf_model.best_params_)\n",
    "\n",
    "# Get the best model\n",
    "rf_model_best = rf_model.best_estimator_\n",
    "\n",
    "# Make predictions using the optimised parameters\n",
    "rf_pred = rf_model_best.predict(X_test)\n",
    "\n",
    "print('Random Forest accuracy:', round(accuracy_score(y_test, rf_pred), 3))\n",
    "\n",
    "cm_rf = confusion_matrix(y_test, rf_pred)\n",
    "\n",
    "ax = plt.subplot()\n",
    "sns.heatmap(cm_rf, annot=True, ax=ax, fmt='g', cmap='Greens')\n",
    "\n",
    "# labels, title and ticks\n",
    "ax.set_xlabel('Predicted labels')\n",
    "ax.set_ylabel('True labels')\n",
    "ax.set_title('Random Forest Confusion Matrix')\n",
    "ax.xaxis.set_ticklabels(labels)\n",
    "ax.yaxis.set_ticklabels(labels, rotation=360)"
   ]
  },
  {
   "cell_type": "code",
   "execution_count": null,
   "id": "reasonable-updating",
   "metadata": {
    "hidden": true
   },
   "outputs": [],
   "source": []
  }
 ],
 "metadata": {
  "kernelspec": {
   "display_name": "Python 3",
   "language": "python",
   "name": "python3"
  },
  "language_info": {
   "codemirror_mode": {
    "name": "ipython",
    "version": 3
   },
   "file_extension": ".py",
   "mimetype": "text/x-python",
   "name": "python",
   "nbconvert_exporter": "python",
   "pygments_lexer": "ipython3",
   "version": "3.8.2"
  },
  "toc": {
   "base_numbering": 1,
   "nav_menu": {},
   "number_sections": true,
   "sideBar": true,
   "skip_h1_title": false,
   "title_cell": "Table of Contents",
   "title_sidebar": "Contents",
   "toc_cell": false,
   "toc_position": {},
   "toc_section_display": true,
   "toc_window_display": false
  }
 },
 "nbformat": 4,
 "nbformat_minor": 5
}
