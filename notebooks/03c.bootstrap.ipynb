{
 "cells": [
  {
   "cell_type": "code",
   "execution_count": 144,
   "id": "dietary-funds",
   "metadata": {},
   "outputs": [],
   "source": [
    "import sys, os\n",
    "import pandas as pd\n",
    "%matplotlib inline\n",
    "\n",
    "import numpy as np\n",
    "\n",
    "from sklearn.linear_model import LogisticRegression\n",
    "from sklearn.model_selection import GridSearchCV, cross_val_score\n",
    "from sklearn.metrics import accuracy_score, confusion_matrix\n",
    "import datetime\n",
    "\n",
    "DATE = lambda: datetime.datetime.now().strftime(\"[%m/%d/%Y %H:%M:%S]\")\n",
    "\n",
    "\n",
    "def tune_elasticnet(X_train_, y_train_, rand_seed_, log_grid_, n_core=6):\n",
    "    \"\"\"tune elasticnet model one round\"\"\"\n",
    "    log_estimator = LogisticRegression(solver='saga',\n",
    "                                       penalty='elasticnet',\n",
    "                                       random_state=rand_seed_)\n",
    "\n",
    "    log_model = GridSearchCV(estimator=log_estimator,\n",
    "                             param_grid=log_grid_,\n",
    "                             verbose=0,\n",
    "                             n_jobs=n_core,\n",
    "                             cv=3,\n",
    "                             scoring='accuracy')\n",
    "\n",
    "    log_model.fit(X_train_, np.ravel(y_train_))\n",
    "\n",
    "    return log_model"
   ]
  },
  {
   "cell_type": "markdown",
   "id": "ignored-vessel",
   "metadata": {},
   "source": [
    "### labels"
   ]
  },
  {
   "cell_type": "code",
   "execution_count": 56,
   "id": "bizarre-sense",
   "metadata": {
    "scrolled": true
   },
   "outputs": [
    {
     "name": "stdout",
     "output_type": "stream",
     "text": [
      "(74, 10564)\n"
     ]
    },
    {
     "data": {
      "text/plain": [
       "True"
      ]
     },
     "execution_count": 56,
     "metadata": {},
     "output_type": "execute_result"
    }
   ],
   "source": [
    "# Import labels (for the whole dataset, both training and testing)\n",
    "y = pd.read_csv('../data_processed/meta_data.csv', index_col=1)\n",
    "print(y.shape)\n",
    "y = y[[ 'Day Post-Infection']]\n",
    "\n",
    "# merge adult and aged group\n",
    "y['stage'] = [\n",
    "    'early' if i in [2.0, 1.0, 0.5] else 'late'\n",
    "    for i in y['Day Post-Infection']\n",
    "]\n",
    "# y['stage'].value_counts()\n",
    "\n",
    "y = y.replace({'early': 0, 'late': 1})\n",
    "labels = ['early', 'late']  # for plotting convenience later on\n",
    "y[['Day Post-Infection', 'stage']].value_counts()\n",
    "\n",
    "\n",
    "X = pd.read_csv('../data_processed/plot_dat.csv', index_col=0).T\n",
    "print(X.shape)\n",
    "\n",
    "X.head(1)\n",
    "all(X.index == y.index)"
   ]
  },
  {
   "cell_type": "markdown",
   "id": "insured-income",
   "metadata": {},
   "source": [
    "class BootstrapRun:\n",
    "    \"\"\"A bootstrap run object\"\"\"\n",
    "    def __init__(self,split_rand_seed,test_index_set):\n",
    "        self.split_rand_seed =split_rand_seed\n",
    "        self.test_index_set =  "
   ]
  },
  {
   "cell_type": "markdown",
   "id": "resident-accent",
   "metadata": {},
   "source": [
    "### bootstrap"
   ]
  },
  {
   "cell_type": "code",
   "execution_count": 78,
   "id": "toxic-compact",
   "metadata": {
    "scrolled": false
   },
   "outputs": [],
   "source": [
    "# split train and testing\n",
    "from sklearn.model_selection import train_test_split\n",
    "import random\n",
    "\n",
    "n_keep = 1\n",
    "n_try = 1\n",
    "test_idx_set_dict = {}\n",
    "while n_keep <= 100:\n",
    "    rand_seed = random.randrange(1000)\n",
    "    #     print(\"try {0}: rand seed={1}, recorded sets={2}.\".format(\n",
    "    #         n_try, rand_seed, n_keep))\n",
    "    X_train, X_test, y_train, y_test = train_test_split(X,\n",
    "                                                        y_,\n",
    "                                                        test_size=0.2,\n",
    "                                                        random_state=rand_seed,\n",
    "                                                        stratify=y_)\n",
    "    if (set(y_test.index) not in test_idx_set_dict.values()):\n",
    "        n_keep += 1\n",
    "        test_idx_set_dict[rand_seed] = set(y_test.index)\n",
    "    n_try += 1"
   ]
  },
  {
   "cell_type": "code",
   "execution_count": 155,
   "id": "eligible-warren",
   "metadata": {},
   "outputs": [
    {
     "name": "stdout",
     "output_type": "stream",
     "text": [
      "[05/27/2021 00:17:23] === Starting 100 bootstraps ===\n",
      "[05/27/2021 00:17:23] running bootstrap #0\n",
      "[05/27/2021 00:18:03] running bootstrap #5\n",
      "[05/27/2021 00:18:44] running bootstrap #10\n",
      "[05/27/2021 00:19:24] running bootstrap #15\n",
      "[05/27/2021 00:20:03] running bootstrap #20\n",
      "[05/27/2021 00:20:43] running bootstrap #25\n",
      "[05/27/2021 00:21:27] running bootstrap #30\n",
      "[05/27/2021 00:22:06] running bootstrap #35\n",
      "[05/27/2021 00:22:46] running bootstrap #40\n",
      "[05/27/2021 00:23:25] running bootstrap #45\n",
      "[05/27/2021 00:24:04] running bootstrap #50\n",
      "[05/27/2021 00:24:43] running bootstrap #55\n",
      "[05/27/2021 00:25:22] running bootstrap #60\n",
      "[05/27/2021 00:26:01] running bootstrap #65\n",
      "[05/27/2021 00:26:41] running bootstrap #70\n",
      "[05/27/2021 00:27:21] running bootstrap #75\n",
      "[05/27/2021 00:28:00] running bootstrap #80\n",
      "[05/27/2021 00:28:39] running bootstrap #85\n",
      "[05/27/2021 00:29:18] running bootstrap #90\n",
      "[05/27/2021 00:29:58] running bootstrap #95\n",
      "CPU times: user 1min 57s, sys: 6.54 s, total: 2min 3s\n",
      "Wall time: 13min 13s\n"
     ]
    }
   ],
   "source": [
    "%%time\n",
    "import warnings\n",
    "\n",
    "warnings.filterwarnings('ignore')\n",
    "\n",
    "log_grid = [{\n",
    "    'C': [1e-4, 1e-03, 1e-2, 1e-1, 1, 10],\n",
    "    'l1_ratio': [0.2, 0.4, .6, .8, 1.0],\n",
    "}]\n",
    "\n",
    "split_rand_seeds = list(test_idx_set_dict.keys())\n",
    "features_list = []\n",
    "test_accuracy_scores = []\n",
    "model_tune_history = []\n",
    "\n",
    "print(DATE(), \"=== Starting {0} bootstraps ===\".format(len(split_rand_seeds)))\n",
    "for i in range(len(split_rand_seeds)):\n",
    "    if i % 5 == 0:\n",
    "        print(DATE(), \"running bootstrap #{}\".format(i))\n",
    "    rnd_seed = split_rand_seeds[i]\n",
    "    test_idx_set = test_idx_set_dict[rnd_seed]\n",
    "    train_idx_set = set(X.index) - test_idx_set\n",
    "    X_train = X.loc[train_idx_set]\n",
    "    y_train = y.loc[train_idx_set, ['stage']]\n",
    "    X_test = X.loc[test_idx_set]\n",
    "    y_test = y.loc[test_idx_set, ['stage']]\n",
    "\n",
    "    log_model = tune_elasticnet(X_train, y_train, rnd_seed, log_grid)\n",
    "    model_tune_history.append(log_model)\n",
    "\n",
    "    #print(\"Best Parameters:\\n\", log_model.best_params_)\n",
    "\n",
    "    # Select best log model\n",
    "    best_log = log_model.best_estimator_\n",
    "\n",
    "    # Make predictions using the optimised parameters\n",
    "    log_pred = best_log.predict(X_test)\n",
    "    test_accuracy_scores.append(\n",
    "        [log_model.best_score_,\n",
    "         accuracy_score(y_test, log_pred)])\n",
    "    #     cm_log = confusion_matrix(y_test, log_pred)\n",
    "\n",
    "    #features\n",
    "    idx = np.where(np.ravel(best_log.coef_) != 0)\n",
    "    features_list.append(\n",
    "        pd.DataFrame({\n",
    "            \"gene\": X.columns[idx],\n",
    "            \"coef\": np.ravel(best_log.coef_)[idx]\n",
    "        }).sort_values('coef', ascending=False))"
   ]
  },
  {
   "cell_type": "code",
   "execution_count": 263,
   "id": "younger-census",
   "metadata": {},
   "outputs": [
    {
     "data": {
      "text/plain": [
       "<AxesSubplot:ylabel='Count'>"
      ]
     },
     "execution_count": 263,
     "metadata": {},
     "output_type": "execute_result"
    },
    {
     "data": {
      "image/png": "[encoded data removed]",
      "text/plain": [
       "<Figure size 432x288 with 1 Axes>"
      ]
     },
     "metadata": {
      "needs_background": "light"
     },
     "output_type": "display_data"
    }
   ],
   "source": [
    "import seaborn as sns\n",
    "sns.histplot([i[0] for i in test_accuracy_scores])"
   ]
  },
  {
   "cell_type": "code",
   "execution_count": 262,
   "id": "cross-spectacular",
   "metadata": {},
   "outputs": [
    {
     "data": {
      "text/plain": [
       "<AxesSubplot:ylabel='Count'>"
      ]
     },
     "execution_count": 262,
     "metadata": {},
     "output_type": "execute_result"
    },
    {
     "data": {
      "image/png": "[encoded data removed]",
      "text/plain": [
       "<Figure size 432x288 with 1 Axes>"
      ]
     },
     "metadata": {
      "needs_background": "light"
     },
     "output_type": "display_data"
    }
   ],
   "source": [
    "sns.histplot([i[1] for i in test_accuracy_scores])"
   ]
  },
  {
   "cell_type": "code",
   "execution_count": 156,
   "id": "simplified-rally",
   "metadata": {},
   "outputs": [],
   "source": [
    "import pickle\n",
    "\n",
    "bootstrap_result_dict = {\n",
    "    'model_tune_history': model_tune_history,\n",
    "    'test_accuracy_scores': test_accuracy_scores,\n",
    "    'features_list': features_list,\n",
    "}\n",
    "pickle.dump(bootstrap_result_dict, open('bootstrap_result_dict.p', 'wb'),\n",
    "            pickle.HIGHEST_PROTOCOL)"
   ]
  },
  {
   "cell_type": "markdown",
   "id": "center-dakota",
   "metadata": {},
   "source": [
    "### Summarize data"
   ]
  },
  {
   "cell_type": "code",
   "execution_count": 291,
   "id": "convenient-chase",
   "metadata": {},
   "outputs": [
    {
     "name": "stdout",
     "output_type": "stream",
     "text": [
      "CPU times: user 18.3 s, sys: 25.4 ms, total: 18.4 s\n",
      "Wall time: 18.4 s\n"
     ]
    }
   ],
   "source": [
    "%%time\n",
    "\n",
    "# store weights vector to dict\n",
    "feature_weight_dict = {\n",
    "    g: [0 for i in range(100)]\n",
    "    for g in list(set().union(\n",
    "        *list(map(lambda x: set(x.gene), features_list))))\n",
    "}\n",
    "\n",
    "for i, l in enumerate(features_list):\n",
    "    for _, row in l.iterrows():\n",
    "        feature_weight_dict[row['gene']][i] = row['coef']"
   ]
  },
  {
   "cell_type": "markdown",
   "id": "medium-locator",
   "metadata": {},
   "source": [
    "%%time\n",
    "feature_count_dict={g:0 for g in list(set().union(*list(map(lambda x: set(x.gene),features_list))))}\n",
    "feature_weight_dict= feature_count_dict.copy()\n",
    "\n",
    "for l in features_list:\n",
    "    for _, row in l.iterrows():       \n",
    "        feature_count_dict[row['gene']]+=1\n",
    "        feature_weight_dict[row['gene']]+=row['coef']\n",
    "        \n",
    "\n",
    "df_feature_genes = pd.DataFrame.from_dict(\n",
    "    feature_count_dict.items()).rename(columns={\n",
    "        0: 'gene',\n",
    "        1: 'counts'\n",
    "    }).set_index('gene').sort_values('counts', ascending=False)\n",
    "\n",
    "df_feature_genes= df_feature_genes.join(\n",
    "    pd.DataFrame.from_dict(feature_weight_dict.items()).rename(columns={\n",
    "        0: 'gene',\n",
    "        1: 'avg_weights'\n",
    "    }).set_index('gene'))\n",
    "\n",
    "\n",
    "# add std\n",
    "df_feature_genes['weight_std'] = [\n",
    "    np.std(feature_weight_dict[g]) * 100\n",
    "    for g, _ in df_feature_genes.iterrows()\n",
    "]\n",
    "df_feature_genes.head()"
   ]
  },
  {
   "cell_type": "code",
   "execution_count": 373,
   "id": "amended-warning",
   "metadata": {},
   "outputs": [],
   "source": [
    "df_feature_genes = pd.DataFrame({\n",
    "    'gene': [g for g in feature_weight_dict.keys()],\n",
    "    'counts': [np.sum(np.array(v) != 0) for v in feature_weight_dict.values()],\n",
    "    'avg_weight': [np.sum(np.array(v)) for v in feature_weight_dict.values()],\n",
    "    'std_weight':\n",
    "    [np.std(np.array(v)) * 100 for v in feature_weight_dict.values()],\n",
    "}).set_index('gene').sort_values('avg_weight', ascending=False)"
   ]
  },
  {
   "cell_type": "code",
   "execution_count": 376,
   "id": "organic-lewis",
   "metadata": {},
   "outputs": [
    {
     "data": {
      "text/plain": [
       "20"
      ]
     },
     "execution_count": 376,
     "metadata": {},
     "output_type": "execute_result"
    }
   ],
   "source": [
    "df_feature_genes[df_feature_genes.counts>90].shape[0]"
   ]
  },
  {
   "cell_type": "code",
   "execution_count": 385,
   "id": "oriental-raising",
   "metadata": {},
   "outputs": [
    {
     "data": {
      "text/html": [
       "<div>\n",
       "<style scoped>\n",
       "    .dataframe tbody tr th:only-of-type {\n",
       "        vertical-align: middle;\n",
       "    }\n",
       "\n",
       "    .dataframe tbody tr th {\n",
       "        vertical-align: top;\n",
       "    }\n",
       "\n",
       "    .dataframe thead th {\n",
       "        text-align: right;\n",
       "    }\n",
       "</style>\n",
       "<table border=\"1\" class=\"dataframe\">\n",
       "  <thead>\n",
       "    <tr style=\"text-align: right;\">\n",
       "      <th></th>\n",
       "      <th>counts</th>\n",
       "      <th>avg_weight</th>\n",
       "      <th>std_weight</th>\n",
       "    </tr>\n",
       "    <tr>\n",
       "      <th>gene</th>\n",
       "      <th></th>\n",
       "      <th></th>\n",
       "      <th></th>\n",
       "    </tr>\n",
       "  </thead>\n",
       "  <tbody>\n",
       "    <tr>\n",
       "      <th>Adm</th>\n",
       "      <td>100</td>\n",
       "      <td>-0.120195</td>\n",
       "      <td>0.078230</td>\n",
       "    </tr>\n",
       "    <tr>\n",
       "      <th>Mbd1</th>\n",
       "      <td>98</td>\n",
       "      <td>-0.114090</td>\n",
       "      <td>0.077642</td>\n",
       "    </tr>\n",
       "    <tr>\n",
       "      <th>Il1a</th>\n",
       "      <td>97</td>\n",
       "      <td>-0.102954</td>\n",
       "      <td>0.056897</td>\n",
       "    </tr>\n",
       "    <tr>\n",
       "      <th>Wnk3</th>\n",
       "      <td>93</td>\n",
       "      <td>-0.097495</td>\n",
       "      <td>0.058660</td>\n",
       "    </tr>\n",
       "    <tr>\n",
       "      <th>Znfx1</th>\n",
       "      <td>93</td>\n",
       "      <td>-0.056522</td>\n",
       "      <td>0.031803</td>\n",
       "    </tr>\n",
       "    <tr>\n",
       "      <th>Fthl17a</th>\n",
       "      <td>94</td>\n",
       "      <td>-0.052886</td>\n",
       "      <td>0.032947</td>\n",
       "    </tr>\n",
       "    <tr>\n",
       "      <th>Cdk1</th>\n",
       "      <td>97</td>\n",
       "      <td>0.046450</td>\n",
       "      <td>0.023045</td>\n",
       "    </tr>\n",
       "    <tr>\n",
       "      <th>Birc5</th>\n",
       "      <td>99</td>\n",
       "      <td>0.047848</td>\n",
       "      <td>0.021984</td>\n",
       "    </tr>\n",
       "    <tr>\n",
       "      <th>Cdca3</th>\n",
       "      <td>98</td>\n",
       "      <td>0.048492</td>\n",
       "      <td>0.020873</td>\n",
       "    </tr>\n",
       "    <tr>\n",
       "      <th>Shcbp1</th>\n",
       "      <td>100</td>\n",
       "      <td>0.051987</td>\n",
       "      <td>0.020087</td>\n",
       "    </tr>\n",
       "    <tr>\n",
       "      <th>Cdca8</th>\n",
       "      <td>100</td>\n",
       "      <td>0.057287</td>\n",
       "      <td>0.018789</td>\n",
       "    </tr>\n",
       "    <tr>\n",
       "      <th>Top2a</th>\n",
       "      <td>100</td>\n",
       "      <td>0.066488</td>\n",
       "      <td>0.019680</td>\n",
       "    </tr>\n",
       "    <tr>\n",
       "      <th>Ect2</th>\n",
       "      <td>95</td>\n",
       "      <td>0.069801</td>\n",
       "      <td>0.029801</td>\n",
       "    </tr>\n",
       "    <tr>\n",
       "      <th>Mki67</th>\n",
       "      <td>95</td>\n",
       "      <td>0.070558</td>\n",
       "      <td>0.028164</td>\n",
       "    </tr>\n",
       "    <tr>\n",
       "      <th>Dtl</th>\n",
       "      <td>100</td>\n",
       "      <td>0.085110</td>\n",
       "      <td>0.031275</td>\n",
       "    </tr>\n",
       "    <tr>\n",
       "      <th>Ska1</th>\n",
       "      <td>100</td>\n",
       "      <td>0.093748</td>\n",
       "      <td>0.041400</td>\n",
       "    </tr>\n",
       "    <tr>\n",
       "      <th>Rrm2</th>\n",
       "      <td>100</td>\n",
       "      <td>0.094721</td>\n",
       "      <td>0.033144</td>\n",
       "    </tr>\n",
       "    <tr>\n",
       "      <th>Ncapg</th>\n",
       "      <td>100</td>\n",
       "      <td>0.110134</td>\n",
       "      <td>0.063126</td>\n",
       "    </tr>\n",
       "    <tr>\n",
       "      <th>Hist1h2ab</th>\n",
       "      <td>100</td>\n",
       "      <td>0.114161</td>\n",
       "      <td>0.058957</td>\n",
       "    </tr>\n",
       "    <tr>\n",
       "      <th>Cdca5</th>\n",
       "      <td>100</td>\n",
       "      <td>0.119316</td>\n",
       "      <td>0.067502</td>\n",
       "    </tr>\n",
       "  </tbody>\n",
       "</table>\n",
       "</div>"
      ],
      "text/plain": [
       "           counts  avg_weight  std_weight\n",
       "gene                                     \n",
       "Adm           100   -0.120195    0.078230\n",
       "Mbd1           98   -0.114090    0.077642\n",
       "Il1a           97   -0.102954    0.056897\n",
       "Wnk3           93   -0.097495    0.058660\n",
       "Znfx1          93   -0.056522    0.031803\n",
       "Fthl17a        94   -0.052886    0.032947\n",
       "Cdk1           97    0.046450    0.023045\n",
       "Birc5          99    0.047848    0.021984\n",
       "Cdca3          98    0.048492    0.020873\n",
       "Shcbp1        100    0.051987    0.020087\n",
       "Cdca8         100    0.057287    0.018789\n",
       "Top2a         100    0.066488    0.019680\n",
       "Ect2           95    0.069801    0.029801\n",
       "Mki67          95    0.070558    0.028164\n",
       "Dtl           100    0.085110    0.031275\n",
       "Ska1          100    0.093748    0.041400\n",
       "Rrm2          100    0.094721    0.033144\n",
       "Ncapg         100    0.110134    0.063126\n",
       "Hist1h2ab     100    0.114161    0.058957\n",
       "Cdca5         100    0.119316    0.067502"
      ]
     },
     "execution_count": 385,
     "metadata": {},
     "output_type": "execute_result"
    }
   ],
   "source": [
    "df_feature_genes[df_feature_genes.counts>90].sort_values('avg_weight')"
   ]
  },
  {
   "cell_type": "code",
   "execution_count": 384,
   "id": "treated-crack",
   "metadata": {},
   "outputs": [],
   "source": [
    "df_feature_genes.to_csv('bootstrap_features.csv')\n",
    "df_feature_genes[df_feature_genes.counts > 90].sort_values(\n",
    "    'avg_weight', ascending=False).to_csv('bootstrap_features_selected.csv')"
   ]
  }
 ],
 "metadata": {
  "kernelspec": {
   "display_name": "Python 3",
   "language": "python",
   "name": "python3"
  },
  "language_info": {
   "codemirror_mode": {
    "name": "ipython",
    "version": 3
   },
   "file_extension": ".py",
   "mimetype": "text/x-python",
   "name": "python",
   "nbconvert_exporter": "python",
   "pygments_lexer": "ipython3",
   "version": "3.8.2"
  },
  "metadata": {
   "interpreter": {
    "hash": "aee8b7b246df8f9039afb4144a1f6fd8d2ca17a180786b69acc140d282b71a49"
   }
  },
  "toc": {
   "base_numbering": 1,
   "nav_menu": {},
   "number_sections": true,
   "sideBar": true,
   "skip_h1_title": false,
   "title_cell": "Table of Contents",
   "title_sidebar": "Contents",
   "toc_cell": false,
   "toc_position": {},
   "toc_section_display": true,
   "toc_window_display": false
  }
 },
 "nbformat": 4,
 "nbformat_minor": 5
}
