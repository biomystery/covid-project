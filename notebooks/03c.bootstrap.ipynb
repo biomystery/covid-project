{
 "cells": [
  {
   "cell_type": "code",
   "execution_count": 1,
   "id": "dietary-funds",
   "metadata": {},
   "outputs": [],
   "source": [
    "import sys, os\n",
    "import pandas as pd\n",
    "%matplotlib inline\n",
    "\n",
    "import numpy as np\n",
    "\n",
    "from sklearn.linear_model import LogisticRegression\n",
    "from sklearn.model_selection import GridSearchCV, cross_val_score\n",
    "from sklearn.metrics import accuracy_score, confusion_matrix\n",
    "import datetime\n",
    "\n",
    "DATE = lambda: datetime.datetime.now().strftime(\"[%m/%d/%Y %H:%M:%S]\")\n",
    "\n",
    "\n",
    "def tune_elasticnet(X_train_, y_train_, rand_seed_, log_grid_, n_core=6):\n",
    "    \"\"\"tune elasticnet model one round\"\"\"\n",
    "    log_estimator = LogisticRegression(solver='saga',\n",
    "                                       penalty='elasticnet',\n",
    "                                       random_state=rand_seed_)\n",
    "\n",
    "    log_model = GridSearchCV(estimator=log_estimator,\n",
    "                             param_grid=log_grid_,\n",
    "                             verbose=0,\n",
    "                             n_jobs=n_core,\n",
    "                             cv=3,\n",
    "                             scoring='accuracy')\n",
    "\n",
    "    log_model.fit(X_train_, np.ravel(y_train_))\n",
    "\n",
    "    return log_model"
   ]
  },
  {
   "cell_type": "markdown",
   "id": "ignored-vessel",
   "metadata": {},
   "source": [
    "# labels"
   ]
  },
  {
   "cell_type": "code",
   "execution_count": 2,
   "id": "bizarre-sense",
   "metadata": {
    "scrolled": true
   },
   "outputs": [
    {
     "name": "stdout",
     "output_type": "stream",
     "text": [
      "(74, 23)\n",
      "(74, 10564)\n"
     ]
    },
    {
     "data": {
      "text/plain": [
       "True"
      ]
     },
     "execution_count": 2,
     "metadata": {},
     "output_type": "execute_result"
    }
   ],
   "source": [
    "# Import labels (for the whole dataset, both training and testing)\n",
    "y = pd.read_csv('../data_processed/meta_data.csv', index_col=1)\n",
    "print(y.shape)\n",
    "y = y[[ 'Day Post-Infection']]\n",
    "\n",
    "# merge adult and aged group\n",
    "y['stage'] = [\n",
    "    'early' if i in [2.0, 1.0, 0.5] else 'late'\n",
    "    for i in y['Day Post-Infection']\n",
    "]\n",
    "# y['stage'].value_counts()\n",
    "\n",
    "y = y.replace({'early': 0, 'late': 1})\n",
    "labels = ['early', 'late']  # for plotting convenience later on\n",
    "y[['Day Post-Infection', 'stage']].value_counts()\n",
    "\n",
    "\n",
    "X = pd.read_csv('../data_processed/plot_dat.csv', index_col=0).T\n",
    "print(X.shape)\n",
    "\n",
    "X.head(1)\n",
    "all(X.index == y.index)"
   ]
  },
  {
   "cell_type": "markdown",
   "id": "sealed-chuck",
   "metadata": {},
   "source": [
    "class BootstrapRun:\n",
    "    \"\"\"A bootstrap run object\"\"\"\n",
    "    def __init__(self,split_rand_seed,test_index_set):\n",
    "        self.split_rand_seed =split_rand_seed\n",
    "        self.test_index_set =  "
   ]
  },
  {
   "cell_type": "markdown",
   "id": "resident-accent",
   "metadata": {},
   "source": [
    "# bootstrap"
   ]
  },
  {
   "cell_type": "code",
   "execution_count": 78,
   "id": "toxic-compact",
   "metadata": {
    "scrolled": false
   },
   "outputs": [
    {
     "name": "stdout",
     "output_type": "stream",
     "text": [
      "try 1: rand seed=46, recorded sets=1.\n",
      "try 2: rand seed=923, recorded sets=2.\n",
      "try 3: rand seed=208, recorded sets=3.\n",
      "try 4: rand seed=752, recorded sets=4.\n",
      "try 5: rand seed=726, recorded sets=5.\n",
      "try 6: rand seed=31, recorded sets=6.\n",
      "try 7: rand seed=146, recorded sets=7.\n",
      "try 8: rand seed=632, recorded sets=8.\n",
      "try 9: rand seed=880, recorded sets=9.\n",
      "try 10: rand seed=817, recorded sets=10.\n",
      "try 11: rand seed=273, recorded sets=11.\n",
      "try 12: rand seed=938, recorded sets=12.\n",
      "try 13: rand seed=11, recorded sets=13.\n",
      "try 14: rand seed=708, recorded sets=14.\n",
      "try 15: rand seed=450, recorded sets=15.\n",
      "try 16: rand seed=726, recorded sets=16.\n",
      "try 17: rand seed=171, recorded sets=16.\n",
      "try 18: rand seed=735, recorded sets=17.\n",
      "try 19: rand seed=16, recorded sets=18.\n",
      "try 20: rand seed=449, recorded sets=19.\n",
      "try 21: rand seed=284, recorded sets=20.\n",
      "try 22: rand seed=449, recorded sets=21.\n",
      "try 23: rand seed=470, recorded sets=21.\n",
      "try 24: rand seed=237, recorded sets=22.\n",
      "try 25: rand seed=197, recorded sets=23.\n",
      "try 26: rand seed=663, recorded sets=24.\n",
      "try 27: rand seed=873, recorded sets=25.\n",
      "try 28: rand seed=123, recorded sets=26.\n",
      "try 29: rand seed=307, recorded sets=27.\n",
      "try 30: rand seed=721, recorded sets=28.\n",
      "try 31: rand seed=717, recorded sets=29.\n",
      "try 32: rand seed=396, recorded sets=30.\n",
      "try 33: rand seed=359, recorded sets=31.\n",
      "try 34: rand seed=664, recorded sets=32.\n",
      "try 35: rand seed=103, recorded sets=33.\n",
      "try 36: rand seed=474, recorded sets=34.\n",
      "try 37: rand seed=445, recorded sets=35.\n",
      "try 38: rand seed=235, recorded sets=36.\n",
      "try 39: rand seed=702, recorded sets=37.\n",
      "try 40: rand seed=968, recorded sets=38.\n",
      "try 41: rand seed=498, recorded sets=39.\n",
      "try 42: rand seed=301, recorded sets=40.\n",
      "try 43: rand seed=657, recorded sets=41.\n",
      "try 44: rand seed=732, recorded sets=42.\n",
      "try 45: rand seed=124, recorded sets=43.\n",
      "try 46: rand seed=753, recorded sets=44.\n",
      "try 47: rand seed=143, recorded sets=45.\n",
      "try 48: rand seed=883, recorded sets=46.\n",
      "try 49: rand seed=133, recorded sets=47.\n",
      "try 50: rand seed=493, recorded sets=48.\n",
      "try 51: rand seed=503, recorded sets=49.\n",
      "try 52: rand seed=164, recorded sets=50.\n",
      "try 53: rand seed=881, recorded sets=51.\n",
      "try 54: rand seed=194, recorded sets=52.\n",
      "try 55: rand seed=392, recorded sets=53.\n",
      "try 56: rand seed=499, recorded sets=54.\n",
      "try 57: rand seed=839, recorded sets=55.\n",
      "try 58: rand seed=972, recorded sets=56.\n",
      "try 59: rand seed=113, recorded sets=57.\n",
      "try 60: rand seed=580, recorded sets=58.\n",
      "try 61: rand seed=230, recorded sets=59.\n",
      "try 62: rand seed=560, recorded sets=60.\n",
      "try 63: rand seed=689, recorded sets=61.\n",
      "try 64: rand seed=665, recorded sets=62.\n",
      "try 65: rand seed=804, recorded sets=63.\n",
      "try 66: rand seed=333, recorded sets=64.\n",
      "try 67: rand seed=812, recorded sets=65.\n",
      "try 68: rand seed=126, recorded sets=66.\n",
      "try 69: rand seed=149, recorded sets=67.\n",
      "try 70: rand seed=939, recorded sets=68.\n",
      "try 71: rand seed=554, recorded sets=69.\n",
      "try 72: rand seed=666, recorded sets=70.\n",
      "try 73: rand seed=243, recorded sets=71.\n",
      "try 74: rand seed=642, recorded sets=72.\n",
      "try 75: rand seed=767, recorded sets=73.\n",
      "try 76: rand seed=46, recorded sets=74.\n",
      "try 77: rand seed=594, recorded sets=74.\n",
      "try 78: rand seed=705, recorded sets=75.\n",
      "try 79: rand seed=365, recorded sets=76.\n",
      "try 80: rand seed=802, recorded sets=77.\n",
      "try 81: rand seed=173, recorded sets=78.\n",
      "try 82: rand seed=481, recorded sets=79.\n",
      "try 83: rand seed=477, recorded sets=80.\n",
      "try 84: rand seed=598, recorded sets=81.\n",
      "try 85: rand seed=702, recorded sets=82.\n",
      "try 86: rand seed=296, recorded sets=82.\n",
      "try 87: rand seed=288, recorded sets=83.\n",
      "try 88: rand seed=902, recorded sets=84.\n",
      "try 89: rand seed=221, recorded sets=85.\n",
      "try 90: rand seed=108, recorded sets=86.\n",
      "try 91: rand seed=202, recorded sets=87.\n",
      "try 92: rand seed=733, recorded sets=88.\n",
      "try 93: rand seed=324, recorded sets=89.\n",
      "try 94: rand seed=918, recorded sets=90.\n",
      "try 95: rand seed=258, recorded sets=91.\n",
      "try 96: rand seed=568, recorded sets=92.\n",
      "try 97: rand seed=820, recorded sets=93.\n",
      "try 98: rand seed=369, recorded sets=94.\n",
      "try 99: rand seed=67, recorded sets=95.\n",
      "try 100: rand seed=845, recorded sets=96.\n",
      "try 101: rand seed=990, recorded sets=97.\n",
      "try 102: rand seed=833, recorded sets=98.\n",
      "try 103: rand seed=263, recorded sets=99.\n",
      "try 104: rand seed=731, recorded sets=100.\n"
     ]
    }
   ],
   "source": [
    "# split train and testing\n",
    "from sklearn.model_selection import train_test_split\n",
    "import random\n",
    "\n",
    "n_keep = 1\n",
    "n_try = 1\n",
    "test_idx_set_dict = {}\n",
    "init_seed = 200\n",
    "random.seed(a=init_seed, version=2)\n",
    "while n_keep <= 100:\n",
    "    rand_seed = random.randrange(1000, )\n",
    "    print(\"try {0}: rand seed={1}, recorded sets={2}.\".format(\n",
    "        n_try, rand_seed, n_keep))\n",
    "    X_train, X_test, y_train, y_test = train_test_split(X,\n",
    "                                                        y,\n",
    "                                                        test_size=0.2,\n",
    "                                                        random_state=rand_seed,\n",
    "                                                        stratify=y)\n",
    "    if (set(y_test.index) not in test_idx_set_dict.values()):\n",
    "        n_keep += 1\n",
    "        test_idx_set_dict[rand_seed] = set(y_test.index)\n",
    "    n_try += 1"
   ]
  },
  {
   "cell_type": "code",
   "execution_count": 79,
   "id": "advised-reconstruction",
   "metadata": {},
   "outputs": [
    {
     "name": "stdout",
     "output_type": "stream",
     "text": [
      "[06/02/2021 11:10:57] === Starting 100 bootstraps ===\n",
      "[06/02/2021 11:10:57] running bootstrap #0\n",
      "[06/02/2021 11:11:30] running bootstrap #5\n",
      "[06/02/2021 11:12:02] running bootstrap #10\n",
      "[06/02/2021 11:12:33] running bootstrap #15\n",
      "[06/02/2021 11:13:05] running bootstrap #20\n",
      "[06/02/2021 11:13:38] running bootstrap #25\n",
      "[06/02/2021 11:14:12] running bootstrap #30\n",
      "[06/02/2021 11:14:46] running bootstrap #35\n",
      "[06/02/2021 11:15:20] running bootstrap #40\n",
      "[06/02/2021 11:15:54] running bootstrap #45\n",
      "[06/02/2021 11:16:27] running bootstrap #50\n",
      "[06/02/2021 11:16:59] running bootstrap #55\n",
      "[06/02/2021 11:17:33] running bootstrap #60\n",
      "[06/02/2021 11:18:05] running bootstrap #65\n",
      "[06/02/2021 11:18:40] running bootstrap #70\n",
      "[06/02/2021 11:19:12] running bootstrap #75\n",
      "[06/02/2021 11:19:44] running bootstrap #80\n",
      "[06/02/2021 11:20:16] running bootstrap #85\n",
      "[06/02/2021 11:20:49] running bootstrap #90\n",
      "[06/02/2021 11:21:22] running bootstrap #95\n",
      "CPU times: user 2min 12s, sys: 7.21 s, total: 2min 20s\n",
      "Wall time: 10min 58s\n"
     ]
    }
   ],
   "source": [
    "%%time\n",
    "import warnings\n",
    "\n",
    "warnings.filterwarnings('ignore')\n",
    "\n",
    "log_grid = [{\n",
    "    'C': [1e-4, 1e-03, 1e-2, 1e-1, 1, 10],\n",
    "    'l1_ratio': [0.2, 0.4, .6, .8, 1.0],\n",
    "}]\n",
    "\n",
    "split_rand_seeds = list(test_idx_set_dict.keys())\n",
    "features_list = []\n",
    "test_accuracy_scores = []\n",
    "model_tune_history = []\n",
    "\n",
    "print(DATE(), \"=== Starting {0} bootstraps ===\".format(len(split_rand_seeds)))\n",
    "for i in range(len(split_rand_seeds)):\n",
    "    if i % 5 == 0:\n",
    "        print(DATE(), \"running bootstrap #{}\".format(i))\n",
    "    rnd_seed = split_rand_seeds[i]\n",
    "    test_idx_set = test_idx_set_dict[rnd_seed]\n",
    "    train_idx_set = set(X.index) - test_idx_set\n",
    "    X_train = X.loc[train_idx_set]\n",
    "    y_train = y.loc[train_idx_set, ['stage']]\n",
    "    X_test = X.loc[test_idx_set]\n",
    "    y_test = y.loc[test_idx_set, ['stage']]\n",
    "\n",
    "    log_model = tune_elasticnet(X_train,\n",
    "                                y_train,\n",
    "                                rnd_seed,\n",
    "                                log_grid,\n",
    "                                n_core=10)\n",
    "    model_tune_history.append(log_model)\n",
    "\n",
    "    #print(\"Best Parameters:\\n\", log_model.best_params_)\n",
    "\n",
    "    # Select best log model\n",
    "    best_log = log_model.best_estimator_\n",
    "\n",
    "    # Make predictions using the optimised parameters\n",
    "    log_pred = best_log.predict(X_test)\n",
    "    test_accuracy_scores.append(\n",
    "        [log_model.best_score_,\n",
    "         accuracy_score(y_test, log_pred)])\n",
    "    #     cm_log = confusion_matrix(y_test, log_pred)\n",
    "\n",
    "    #features\n",
    "    idx = np.where(np.ravel(best_log.coef_) != 0)\n",
    "    features_list.append(\n",
    "        pd.DataFrame({\n",
    "            \"gene\": X.columns[idx],\n",
    "            \"coef\": np.ravel(best_log.coef_)[idx]\n",
    "        }).sort_values('coef', ascending=False))"
   ]
  },
  {
   "cell_type": "markdown",
   "id": "center-dakota",
   "metadata": {},
   "source": [
    "# Summarize data"
   ]
  },
  {
   "cell_type": "code",
   "execution_count": 80,
   "id": "convenient-chase",
   "metadata": {},
   "outputs": [
    {
     "name": "stdout",
     "output_type": "stream",
     "text": [
      "CPU times: user 19 s, sys: 116 ms, total: 19.1 s\n",
      "Wall time: 18.8 s\n"
     ]
    }
   ],
   "source": [
    "%%time\n",
    "\n",
    "# store weights vector to dict\n",
    "feature_weight_dict = {\n",
    "    g: [0 for i in range(100)]\n",
    "    for g in list(set().union(\n",
    "        *list(map(lambda x: set(x.gene), features_list))))\n",
    "}\n",
    "\n",
    "for i, l in enumerate(features_list):\n",
    "    for _, row in l.iterrows():\n",
    "        feature_weight_dict[row['gene']][i] = row['coef']"
   ]
  },
  {
   "cell_type": "markdown",
   "id": "medium-locator",
   "metadata": {},
   "source": [
    "%%time\n",
    "feature_count_dict={g:0 for g in list(set().union(*list(map(lambda x: set(x.gene),features_list))))}\n",
    "feature_weight_dict= feature_count_dict.copy()\n",
    "\n",
    "for l in features_list:\n",
    "    for _, row in l.iterrows():       \n",
    "        feature_count_dict[row['gene']]+=1\n",
    "        feature_weight_dict[row['gene']]+=row['coef']\n",
    "        \n",
    "\n",
    "df_feature_genes = pd.DataFrame.from_dict(\n",
    "    feature_count_dict.items()).rename(columns={\n",
    "        0: 'gene',\n",
    "        1: 'counts'\n",
    "    }).set_index('gene').sort_values('counts', ascending=False)\n",
    "\n",
    "df_feature_genes= df_feature_genes.join(\n",
    "    pd.DataFrame.from_dict(feature_weight_dict.items()).rename(columns={\n",
    "        0: 'gene',\n",
    "        1: 'avg_weights'\n",
    "    }).set_index('gene'))\n",
    "\n",
    "\n",
    "# add std\n",
    "df_feature_genes['weight_std'] = [\n",
    "    np.std(feature_weight_dict[g]) * 100\n",
    "    for g, _ in df_feature_genes.iterrows()\n",
    "]\n",
    "df_feature_genes.head()"
   ]
  },
  {
   "cell_type": "code",
   "execution_count": 81,
   "id": "accomplished-setup",
   "metadata": {},
   "outputs": [],
   "source": [
    "df_feature_genes = pd.DataFrame({\n",
    "    'gene': [g for g in feature_weight_dict.keys()],\n",
    "    'counts': [np.sum(np.array(v) != 0) for v in feature_weight_dict.values()],\n",
    "    'avg_weight': [np.sum(np.array(v)) for v in feature_weight_dict.values()],\n",
    "    'std_weight':\n",
    "    [np.std(np.array(v)) * 100 for v in feature_weight_dict.values()],\n",
    "}).set_index('gene').sort_values('avg_weight', ascending=False)"
   ]
  },
  {
   "cell_type": "code",
   "execution_count": 85,
   "id": "mathematical-brisbane",
   "metadata": {},
   "outputs": [
    {
     "data": {
      "text/plain": [
       "21"
      ]
     },
     "execution_count": 85,
     "metadata": {},
     "output_type": "execute_result"
    }
   ],
   "source": [
    "df_feature_genes[df_feature_genes.counts>=90].shape[0]"
   ]
  },
  {
   "cell_type": "code",
   "execution_count": 86,
   "id": "reverse-syntax",
   "metadata": {},
   "outputs": [
    {
     "data": {
      "text/html": [
       "<div>\n",
       "<style scoped>\n",
       "    .dataframe tbody tr th:only-of-type {\n",
       "        vertical-align: middle;\n",
       "    }\n",
       "\n",
       "    .dataframe tbody tr th {\n",
       "        vertical-align: top;\n",
       "    }\n",
       "\n",
       "    .dataframe thead th {\n",
       "        text-align: right;\n",
       "    }\n",
       "</style>\n",
       "<table border=\"1\" class=\"dataframe\">\n",
       "  <thead>\n",
       "    <tr style=\"text-align: right;\">\n",
       "      <th></th>\n",
       "      <th>counts</th>\n",
       "      <th>avg_weight</th>\n",
       "      <th>std_weight</th>\n",
       "    </tr>\n",
       "    <tr>\n",
       "      <th>gene</th>\n",
       "      <th></th>\n",
       "      <th></th>\n",
       "      <th></th>\n",
       "    </tr>\n",
       "  </thead>\n",
       "  <tbody>\n",
       "    <tr>\n",
       "      <th>Adm</th>\n",
       "      <td>100</td>\n",
       "      <td>-0.120850</td>\n",
       "      <td>0.088089</td>\n",
       "    </tr>\n",
       "    <tr>\n",
       "      <th>Mbd1</th>\n",
       "      <td>99</td>\n",
       "      <td>-0.102491</td>\n",
       "      <td>0.059782</td>\n",
       "    </tr>\n",
       "    <tr>\n",
       "      <th>Il1a</th>\n",
       "      <td>95</td>\n",
       "      <td>-0.088117</td>\n",
       "      <td>0.051090</td>\n",
       "    </tr>\n",
       "    <tr>\n",
       "      <th>Wnk3</th>\n",
       "      <td>91</td>\n",
       "      <td>-0.085383</td>\n",
       "      <td>0.050909</td>\n",
       "    </tr>\n",
       "    <tr>\n",
       "      <th>Gbp2b</th>\n",
       "      <td>96</td>\n",
       "      <td>-0.075573</td>\n",
       "      <td>0.039548</td>\n",
       "    </tr>\n",
       "    <tr>\n",
       "      <th>Znfx1</th>\n",
       "      <td>90</td>\n",
       "      <td>-0.053829</td>\n",
       "      <td>0.031713</td>\n",
       "    </tr>\n",
       "    <tr>\n",
       "      <th>Pbk</th>\n",
       "      <td>90</td>\n",
       "      <td>0.040893</td>\n",
       "      <td>0.020164</td>\n",
       "    </tr>\n",
       "    <tr>\n",
       "      <th>Cdk1</th>\n",
       "      <td>96</td>\n",
       "      <td>0.043823</td>\n",
       "      <td>0.018997</td>\n",
       "    </tr>\n",
       "    <tr>\n",
       "      <th>Birc5</th>\n",
       "      <td>98</td>\n",
       "      <td>0.045256</td>\n",
       "      <td>0.017206</td>\n",
       "    </tr>\n",
       "    <tr>\n",
       "      <th>Cdca3</th>\n",
       "      <td>100</td>\n",
       "      <td>0.046395</td>\n",
       "      <td>0.017541</td>\n",
       "    </tr>\n",
       "    <tr>\n",
       "      <th>Shcbp1</th>\n",
       "      <td>100</td>\n",
       "      <td>0.050851</td>\n",
       "      <td>0.016894</td>\n",
       "    </tr>\n",
       "    <tr>\n",
       "      <th>Cdca8</th>\n",
       "      <td>97</td>\n",
       "      <td>0.051977</td>\n",
       "      <td>0.018072</td>\n",
       "    </tr>\n",
       "    <tr>\n",
       "      <th>Top2a</th>\n",
       "      <td>99</td>\n",
       "      <td>0.061794</td>\n",
       "      <td>0.019947</td>\n",
       "    </tr>\n",
       "    <tr>\n",
       "      <th>Mki67</th>\n",
       "      <td>94</td>\n",
       "      <td>0.063100</td>\n",
       "      <td>0.027318</td>\n",
       "    </tr>\n",
       "    <tr>\n",
       "      <th>Ect2</th>\n",
       "      <td>93</td>\n",
       "      <td>0.063236</td>\n",
       "      <td>0.030815</td>\n",
       "    </tr>\n",
       "    <tr>\n",
       "      <th>Dtl</th>\n",
       "      <td>99</td>\n",
       "      <td>0.080138</td>\n",
       "      <td>0.034505</td>\n",
       "    </tr>\n",
       "    <tr>\n",
       "      <th>Rrm2</th>\n",
       "      <td>100</td>\n",
       "      <td>0.089417</td>\n",
       "      <td>0.034000</td>\n",
       "    </tr>\n",
       "    <tr>\n",
       "      <th>Ska1</th>\n",
       "      <td>100</td>\n",
       "      <td>0.092278</td>\n",
       "      <td>0.044301</td>\n",
       "    </tr>\n",
       "    <tr>\n",
       "      <th>Ncapg</th>\n",
       "      <td>100</td>\n",
       "      <td>0.109181</td>\n",
       "      <td>0.064979</td>\n",
       "    </tr>\n",
       "    <tr>\n",
       "      <th>Hist1h2ab</th>\n",
       "      <td>100</td>\n",
       "      <td>0.114584</td>\n",
       "      <td>0.065875</td>\n",
       "    </tr>\n",
       "    <tr>\n",
       "      <th>Cdca5</th>\n",
       "      <td>100</td>\n",
       "      <td>0.120756</td>\n",
       "      <td>0.074262</td>\n",
       "    </tr>\n",
       "  </tbody>\n",
       "</table>\n",
       "</div>"
      ],
      "text/plain": [
       "           counts  avg_weight  std_weight\n",
       "gene                                     \n",
       "Adm           100   -0.120850    0.088089\n",
       "Mbd1           99   -0.102491    0.059782\n",
       "Il1a           95   -0.088117    0.051090\n",
       "Wnk3           91   -0.085383    0.050909\n",
       "Gbp2b          96   -0.075573    0.039548\n",
       "Znfx1          90   -0.053829    0.031713\n",
       "Pbk            90    0.040893    0.020164\n",
       "Cdk1           96    0.043823    0.018997\n",
       "Birc5          98    0.045256    0.017206\n",
       "Cdca3         100    0.046395    0.017541\n",
       "Shcbp1        100    0.050851    0.016894\n",
       "Cdca8          97    0.051977    0.018072\n",
       "Top2a          99    0.061794    0.019947\n",
       "Mki67          94    0.063100    0.027318\n",
       "Ect2           93    0.063236    0.030815\n",
       "Dtl            99    0.080138    0.034505\n",
       "Rrm2          100    0.089417    0.034000\n",
       "Ska1          100    0.092278    0.044301\n",
       "Ncapg         100    0.109181    0.064979\n",
       "Hist1h2ab     100    0.114584    0.065875\n",
       "Cdca5         100    0.120756    0.074262"
      ]
     },
     "execution_count": 86,
     "metadata": {},
     "output_type": "execute_result"
    }
   ],
   "source": [
    "df_feature_genes[df_feature_genes.counts>=90].sort_values('avg_weight')"
   ]
  },
  {
   "cell_type": "markdown",
   "id": "respected-asbestos",
   "metadata": {},
   "source": [
    "# save"
   ]
  },
  {
   "cell_type": "code",
   "execution_count": 97,
   "id": "buried-artist",
   "metadata": {},
   "outputs": [],
   "source": [
    "import pickle\n",
    "\n",
    "bootstrap_result_dict = {\n",
    "    'model_tune_history': model_tune_history,\n",
    "    'test_accuracy_scores': test_accuracy_scores,\n",
    "    'features_list': features_list,\n",
    "    'init_random_seed': init_seed,\n",
    "}\n",
    "pickle.dump(bootstrap_result_dict, open('bootstrap_result_dict.p', 'wb'),\n",
    "            pickle.HIGHEST_PROTOCOL)"
   ]
  },
  {
   "cell_type": "code",
   "execution_count": 101,
   "id": "treated-crack",
   "metadata": {},
   "outputs": [],
   "source": [
    "df_feature_genes.sort_values('avg_weight').to_csv('bootstrap_features.csv')\n",
    "df_feature_genes[df_feature_genes.counts >= 90].sort_values(\n",
    "    'avg_weight').to_csv('bootstrap_features_selected.csv')"
   ]
  },
  {
   "cell_type": "markdown",
   "id": "advanced-hearts",
   "metadata": {},
   "source": [
    "# plot "
   ]
  },
  {
   "cell_type": "markdown",
   "id": "peaceful-arctic",
   "metadata": {},
   "source": [
    "## accuracy "
   ]
  },
  {
   "cell_type": "code",
   "execution_count": 96,
   "id": "liked-advisory",
   "metadata": {},
   "outputs": [
    {
     "data": {
      "image/png": "[encoded data removed]",
      "text/plain": [
       "<Figure size 432x288 with 4 Axes>"
      ]
     },
     "metadata": {
      "needs_background": "light"
     },
     "output_type": "display_data"
    }
   ],
   "source": [
    "import matplotlib.pyplot as plt\n",
    "\n",
    "f, axs = plt.subplots(\n",
    "    2,\n",
    "    2,\n",
    "    #                       figsize=(9,5),\n",
    "    sharey=True,\n",
    "    gridspec_kw=dict(width_ratios=[3, 0.4]))\n",
    "\n",
    "ax = sns.scatterplot(x=list(range(len(test_accuracy_scores))),\n",
    "                     ax=axs[0, 0],\n",
    "                     y=[i[0] for i in test_accuracy_scores])\n",
    "\n",
    "ax.set_ylim(0, 1.1)\n",
    "ax.set_ylabel('Train accuracy')\n",
    "ax = sns.boxplot(y=[i[0] for i in test_accuracy_scores], ax=axs[0, 1])\n",
    "ax.set_facecolor('whitesmoke')\n",
    "\n",
    "ax = sns.scatterplot(x=list(range(len(test_accuracy_scores))),\n",
    "                     ax=axs[1, 0],\n",
    "                     y=[i[1] for i in test_accuracy_scores])\n",
    "\n",
    "ax.set_ylim(0, 1.1)\n",
    "ax.set_ylabel('Test accuracy')\n",
    "ax.set_xlabel('Boostrap')\n",
    "\n",
    "ax = sns.boxplot(y=[i[1] for i in test_accuracy_scores], ax=axs[1, 1])\n",
    "ax.set_facecolor('whitesmoke')\n",
    "\n",
    "f.tight_layout()"
   ]
  },
  {
   "cell_type": "markdown",
   "id": "reserved-gilbert",
   "metadata": {},
   "source": [
    "## n features "
   ]
  },
  {
   "cell_type": "code",
   "execution_count": 127,
   "id": "activated-digest",
   "metadata": {},
   "outputs": [
    {
     "data": {
      "image/png": "[encoded data removed]",
      "text/plain": [
       "<Figure size 432x288 with 2 Axes>"
      ]
     },
     "metadata": {
      "needs_background": "light"
     },
     "output_type": "display_data"
    }
   ],
   "source": [
    "import matplotlib.pyplot as plt\n",
    "\n",
    "f, axs = plt.subplots(\n",
    "    1,\n",
    "    2,\n",
    "    #                       figsize=(9,5),\n",
    "    sharey=True,\n",
    "    gridspec_kw=dict(width_ratios=[3, 0.4]))\n",
    "\n",
    "ax = sns.scatterplot(x=list(range(len(test_accuracy_scores))),\n",
    "                     ax=axs[0],\n",
    "                     y=list(map(len, features_list)))\n",
    "\n",
    "ax.set_ylabel('#Features in best model')\n",
    "ax.set_yscale('log')\n",
    "ax.set_xlabel('Bootstrap')\n",
    "\n",
    "ax = sns.boxplot(y=list(map(len, features_list)), ax=axs[1])\n",
    "ax.set_facecolor('whitesmoke')\n",
    "\n",
    "f.tight_layout()"
   ]
  }
 ],
 "metadata": {
  "kernelspec": {
   "display_name": "Python 3",
   "language": "python",
   "name": "python3"
  },
  "language_info": {
   "codemirror_mode": {
    "name": "ipython",
    "version": 3
   },
   "file_extension": ".py",
   "mimetype": "text/x-python",
   "name": "python",
   "nbconvert_exporter": "python",
   "pygments_lexer": "ipython3",
   "version": "3.8.2"
  },
  "metadata": {
   "interpreter": {
    "hash": "aee8b7b246df8f9039afb4144a1f6fd8d2ca17a180786b69acc140d282b71a49"
   }
  },
  "toc": {
   "base_numbering": 1,
   "nav_menu": {},
   "number_sections": true,
   "sideBar": true,
   "skip_h1_title": false,
   "title_cell": "Table of Contents",
   "title_sidebar": "Contents",
   "toc_cell": false,
   "toc_position": {},
   "toc_section_display": true,
   "toc_window_display": true
  }
 },
 "nbformat": 4,
 "nbformat_minor": 5
}
