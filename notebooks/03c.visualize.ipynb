{
 "cells": [
  {
   "cell_type": "code",
   "execution_count": 2,
   "id": "innocent-vehicle",
   "metadata": {},
   "outputs": [],
   "source": [
    "# if (!requireNamespace('BiocManager', quietly = TRUE))\n",
    "# install.packages('BiocManager') BiocManager::install('ComplexHeatmap')\n",
    "# install.packages(c('ClusterR','tidyverse'))\n",
    "# suppressMessages(require(pheatmap))\n",
    "require(ComplexHeatmap)\n",
    "suppressMessages(require(tidyverse))\n",
    "suppressMessages(require(data.table))\n",
    "require(RColorBrewer)\n",
    "# require(ClusterR) require(pracma)"
   ]
  },
  {
   "cell_type": "code",
   "execution_count": 3,
   "id": "treated-reggae",
   "metadata": {},
   "outputs": [
    {
     "data": {
      "text/plain": [
       " Time_BiosetID         Age                Strain    dpi    \n",
       " Length:74          young:28   SARS-CoV-ic   : 4   0.5: 6  \n",
       " Class :character   adult:37   SARS-CoV-MA15 :54   1  :15  \n",
       " Mode  :character   aged : 9   SARS-CoV-MA15e: 7   2  :19  \n",
       "                               SARS-CoV-MA15g: 7   4  :19  \n",
       "                               SARS-CoV-TOR-2: 2   7  :15  "
      ]
     },
     "metadata": {},
     "output_type": "display_data"
    }
   ],
   "source": [
    "(meta.dat <- fread(\"../data_processed/meta_data.csv\") %>% mutate(dpi = as.factor(`Day Post-Infection`), \n",
    "    Age = factor(`Host Age Category`, levels = c(\"young\", \"adult\", \"aged\")), Strain = as.factor(`Viral Strain`)) %>% \n",
    "    select(\"Time_BiosetID\", Age, Strain, dpi) ) %>% \n",
    "    summary"
   ]
  },
  {
   "cell_type": "code",
   "execution_count": 4,
   "id": "changing-indian",
   "metadata": {},
   "outputs": [
    {
     "data": {
      "text/html": [
       "<table class=\"dataframe\">\n",
       "<caption>A data.frame: 1 × 74</caption>\n",
       "<thead>\n",
       "\t<tr><th></th><th scope=col>0.5_867451</th><th scope=col>0.5_867454</th><th scope=col>0.5_867457</th><th scope=col>0.5_867478</th><th scope=col>0.5_867481</th><th scope=col>0.5_867484</th><th scope=col>1_926614</th><th scope=col>1_494014</th><th scope=col>1_494017</th><th scope=col>1_494020</th><th scope=col>⋯</th><th scope=col>7_685178</th><th scope=col>7_685217</th><th scope=col>7_821662</th><th scope=col>7_823408</th><th scope=col>7_839434</th><th scope=col>7_839446</th><th scope=col>7_833455</th><th scope=col>7_840319</th><th scope=col>7_834112</th><th scope=col>7_995287</th></tr>\n",
       "\t<tr><th></th><th scope=col>&lt;dbl&gt;</th><th scope=col>&lt;dbl&gt;</th><th scope=col>&lt;dbl&gt;</th><th scope=col>&lt;dbl&gt;</th><th scope=col>&lt;dbl&gt;</th><th scope=col>&lt;dbl&gt;</th><th scope=col>&lt;dbl&gt;</th><th scope=col>&lt;dbl&gt;</th><th scope=col>&lt;dbl&gt;</th><th scope=col>&lt;dbl&gt;</th><th scope=col>⋯</th><th scope=col>&lt;dbl&gt;</th><th scope=col>&lt;dbl&gt;</th><th scope=col>&lt;dbl&gt;</th><th scope=col>&lt;dbl&gt;</th><th scope=col>&lt;dbl&gt;</th><th scope=col>&lt;dbl&gt;</th><th scope=col>&lt;dbl&gt;</th><th scope=col>&lt;dbl&gt;</th><th scope=col>&lt;dbl&gt;</th><th scope=col>&lt;dbl&gt;</th></tr>\n",
       "</thead>\n",
       "<tbody>\n",
       "\t<tr><th scope=row>March1</th><td>0</td><td>0</td><td>0</td><td>0</td><td>0</td><td>0</td><td>0</td><td>0</td><td>0</td><td>0</td><td>⋯</td><td>0</td><td>0</td><td>0</td><td>0</td><td>0</td><td>0</td><td>0</td><td>0</td><td>0</td><td>0</td></tr>\n",
       "</tbody>\n",
       "</table>\n"
      ],
      "text/latex": [
       "A data.frame: 1 × 74\n",
       "\\begin{tabular}{r|lllllllllllllllllllll}\n",
       "  & 0.5\\_867451 & 0.5\\_867454 & 0.5\\_867457 & 0.5\\_867478 & 0.5\\_867481 & 0.5\\_867484 & 1\\_926614 & 1\\_494014 & 1\\_494017 & 1\\_494020 & ⋯ & 7\\_685178 & 7\\_685217 & 7\\_821662 & 7\\_823408 & 7\\_839434 & 7\\_839446 & 7\\_833455 & 7\\_840319 & 7\\_834112 & 7\\_995287\\\\\n",
       "  & <dbl> & <dbl> & <dbl> & <dbl> & <dbl> & <dbl> & <dbl> & <dbl> & <dbl> & <dbl> & ⋯ & <dbl> & <dbl> & <dbl> & <dbl> & <dbl> & <dbl> & <dbl> & <dbl> & <dbl> & <dbl>\\\\\n",
       "\\hline\n",
       "\tMarch1 & 0 & 0 & 0 & 0 & 0 & 0 & 0 & 0 & 0 & 0 & ⋯ & 0 & 0 & 0 & 0 & 0 & 0 & 0 & 0 & 0 & 0\\\\\n",
       "\\end{tabular}\n"
      ],
      "text/markdown": [
       "\n",
       "A data.frame: 1 × 74\n",
       "\n",
       "| <!--/--> | 0.5_867451 &lt;dbl&gt; | 0.5_867454 &lt;dbl&gt; | 0.5_867457 &lt;dbl&gt; | 0.5_867478 &lt;dbl&gt; | 0.5_867481 &lt;dbl&gt; | 0.5_867484 &lt;dbl&gt; | 1_926614 &lt;dbl&gt; | 1_494014 &lt;dbl&gt; | 1_494017 &lt;dbl&gt; | 1_494020 &lt;dbl&gt; | ⋯ ⋯ | 7_685178 &lt;dbl&gt; | 7_685217 &lt;dbl&gt; | 7_821662 &lt;dbl&gt; | 7_823408 &lt;dbl&gt; | 7_839434 &lt;dbl&gt; | 7_839446 &lt;dbl&gt; | 7_833455 &lt;dbl&gt; | 7_840319 &lt;dbl&gt; | 7_834112 &lt;dbl&gt; | 7_995287 &lt;dbl&gt; |\n",
       "|---|---|---|---|---|---|---|---|---|---|---|---|---|---|---|---|---|---|---|---|---|---|\n",
       "| March1 | 0 | 0 | 0 | 0 | 0 | 0 | 0 | 0 | 0 | 0 | ⋯ | 0 | 0 | 0 | 0 | 0 | 0 | 0 | 0 | 0 | 0 |\n",
       "\n"
      ],
      "text/plain": [
       "       0.5_867451 0.5_867454 0.5_867457 0.5_867478 0.5_867481 0.5_867484\n",
       "March1 0          0          0          0          0          0         \n",
       "       1_926614 1_494014 1_494017 1_494020 ⋯ 7_685178 7_685217 7_821662\n",
       "March1 0        0        0        0        ⋯ 0        0        0       \n",
       "       7_823408 7_839434 7_839446 7_833455 7_840319 7_834112 7_995287\n",
       "March1 0        0        0        0        0        0        0       "
      ]
     },
     "metadata": {},
     "output_type": "display_data"
    },
    {
     "data": {
      "text/html": [
       "<style>\n",
       ".list-inline {list-style: none; margin:0; padding: 0}\n",
       ".list-inline>li {display: inline-block}\n",
       ".list-inline>li:not(:last-child)::after {content: \"\\00b7\"; padding: 0 .5ex}\n",
       "</style>\n",
       "<ol class=list-inline><li>10564</li><li>74</li></ol>\n"
      ],
      "text/latex": [
       "\\begin{enumerate*}\n",
       "\\item 10564\n",
       "\\item 74\n",
       "\\end{enumerate*}\n"
      ],
      "text/markdown": [
       "1. 10564\n",
       "2. 74\n",
       "\n",
       "\n"
      ],
      "text/plain": [
       "[1] 10564    74"
      ]
     },
     "metadata": {},
     "output_type": "display_data"
    },
    {
     "data": {
      "text/html": [
       "<table class=\"dataframe\">\n",
       "<caption>A data.frame: 1 × 3</caption>\n",
       "<thead>\n",
       "\t<tr><th></th><th scope=col>counts</th><th scope=col>avg_weight</th><th scope=col>std_weight</th></tr>\n",
       "\t<tr><th></th><th scope=col>&lt;int&gt;</th><th scope=col>&lt;dbl&gt;</th><th scope=col>&lt;dbl&gt;</th></tr>\n",
       "</thead>\n",
       "<tbody>\n",
       "\t<tr><th scope=row>Adm</th><td>100</td><td>-0.1208498</td><td>0.08808907</td></tr>\n",
       "</tbody>\n",
       "</table>\n"
      ],
      "text/latex": [
       "A data.frame: 1 × 3\n",
       "\\begin{tabular}{r|lll}\n",
       "  & counts & avg\\_weight & std\\_weight\\\\\n",
       "  & <int> & <dbl> & <dbl>\\\\\n",
       "\\hline\n",
       "\tAdm & 100 & -0.1208498 & 0.08808907\\\\\n",
       "\\end{tabular}\n"
      ],
      "text/markdown": [
       "\n",
       "A data.frame: 1 × 3\n",
       "\n",
       "| <!--/--> | counts &lt;int&gt; | avg_weight &lt;dbl&gt; | std_weight &lt;dbl&gt; |\n",
       "|---|---|---|---|\n",
       "| Adm | 100 | -0.1208498 | 0.08808907 |\n",
       "\n"
      ],
      "text/plain": [
       "    counts avg_weight std_weight\n",
       "Adm 100    -0.1208498 0.08808907"
      ]
     },
     "metadata": {},
     "output_type": "display_data"
    }
   ],
   "source": [
    "(dat <- fread(\"../data_processed/plot_dat.csv\") %>%\n",
    "    column_to_rownames(\"V1\")) %>%\n",
    "    head(1)\n",
    "dat %>%\n",
    "    dim\n",
    "\n",
    "(glist <- fread(\"../data_processed/bootstrap/bootstrap_features_selected.csv\", header = T) %>%\n",
    "    column_to_rownames(\"gene\")) %>%\n",
    "    head(1)"
   ]
  },
  {
   "cell_type": "code",
   "execution_count": 5,
   "id": "suburban-survival",
   "metadata": {},
   "outputs": [
    {
     "data": {
      "image/png": "[encoded data removed]",
      "text/plain": [
       "plot without title"
      ]
     },
     "metadata": {
      "image/png": {
       "height": 360,
       "width": 180
      }
     },
     "output_type": "display_data"
    }
   ],
   "source": [
    "options(repr.plot.width = 3, repr.plot.height = 6)\n",
    "\n",
    "p.weight_bar = ggplot(glist %>%\n",
    "    rownames_to_column(\"gene\") %>%\n",
    "    mutate(gene = factor(gene, levels = glist %>%\n",
    "        rownames %>%\n",
    "        rev)), aes(gene, avg_weight, fill = avg_weight)) + geom_bar(stat = \"identity\",\n",
    "    color = \"black\") + scale_fill_distiller(palette = \"PRGn\") + geom_errorbar(aes(ymin = avg_weight,\n",
    "    ymax = ifelse(avg_weight > 0, avg_weight + std_weight, avg_weight - std_weight)),\n",
    "    width = 0.2, position = position_dodge(0.9)) + coord_flip() + theme_bw() + theme(legend.position = \"none\",\n",
    "    axis.text.y = element_blank(), axis.title.y = element_blank()) + ylab(label = \"Weight\")\n",
    "p.weight_bar"
   ]
  },
  {
   "cell_type": "code",
   "execution_count": 11,
   "id": "ideal-handy",
   "metadata": {},
   "outputs": [],
   "source": [
    "require(svglite)\n",
    "ggsave(\"fig7a.svg\",width = 3,height = 6)"
   ]
  },
  {
   "cell_type": "code",
   "execution_count": 12,
   "id": "another-infrared",
   "metadata": {},
   "outputs": [
    {
     "name": "stderr",
     "output_type": "stream",
     "text": [
      "Joining, by = \"Time_BiosetID\"\n",
      "\n",
      "Warning message:\n",
      "“The input is a data frame, convert it to the matrix.”\n"
     ]
    }
   ],
   "source": [
    "options(repr.plot.width = 10, repr.plot.height = 5)\n",
    "n = 0\n",
    "anno_colors <- list(stage = c(early = brewer.pal(n = 11, \"PRGn\")[11 - n], late = brewer.pal(n = 11,\n",
    "    \"PRGn\")[1 + n]), dpi = c(`0.5` = brewer.pal(n = 9, \"Set1\")[1], `1` = brewer.pal(n = 9,\n",
    "    \"Set1\")[2], `2` = brewer.pal(n = 9, \"Set1\")[3], `4` = brewer.pal(n = 9, \"Set1\")[4],\n",
    "    `7` = brewer.pal(n = 9, \"Set1\")[5]), variant = c(`SARS-CoV-ic` = brewer.pal(n = 8,\n",
    "    \"Set2\")[5], `SARS-CoV-MA15` = brewer.pal(n = 8, \"Set2\")[1], `SARS-CoV-MA15g` = brewer.pal(n = 8,\n",
    "    \"Set2\")[2], `SARS-CoV-MA15e` = brewer.pal(n = 8, \"Set2\")[3], `SARS-CoV-TOR-2` = brewer.pal(n = 8,\n",
    "    \"Set2\")[4]), age = c(young = brewer.pal(n = 12, \"Set3\")[3], adult = brewer.pal(n = 12,\n",
    "    \"Set3\")[2], aged = brewer.pal(n = 12, \"Set3\")[1]))\n",
    "\n",
    "pal_atac <- colorRampPalette(c(\"#3361A5\", \"#248AF3\", \"#14B3FF\", \"#88CEEF\", \"#C1D5DC\",\n",
    "    \"#EAD397\", \"#FDB31A\", \"#E42A2A\", \"#A31D1D\"))(100)\n",
    "pal_atac <- colorRampPalette(c(\"blue\", \"black\", \"yellow\"))(100)\n",
    "\n",
    "col.gap = dat %>%\n",
    "    colnames %>%\n",
    "    sapply(., function(x) (strsplit(x, split = \"_\") %>%\n",
    "        unlist)[1]) %>%\n",
    "    table %>%\n",
    "    cumsum\n",
    "\n",
    "df_col_anno = data.frame(col_name = dat %>%\n",
    "    colnames) %>%\n",
    "    separate(col_name, c(\"time\", \"s\"), remove = F, sep = \"_\") %>%\n",
    "    mutate(stage = ifelse(time %in% c(\"0.5\", \"1\", \"2\"), \"early\", \"late\")) %>%\n",
    "    select(-s) %>%\n",
    "    column_to_rownames(\"col_name\")\n",
    "\n",
    "df_col_anno <- df_col_anno %>%\n",
    "    rownames_to_column(\"Time_BiosetID\") %>%\n",
    "    left_join(meta.dat) %>%\n",
    "    column_to_rownames(\"Time_BiosetID\") %>%\n",
    "    select(-time) %>%\n",
    "    select(stage, dpi, Strain, Age) %>%\n",
    "    rename(variant = \"Strain\", age = \"Age\")\n",
    "\n",
    "\n",
    "p <- pheatmap(dat[glist %>%\n",
    "    rownames, ], annotation_col = df_col_anno, name = \"CE score\", annotation_colors = anno_colors,\n",
    "    show_colnames = F, border_color = NA, gaps_col = col.gap, scale = \"none\", color = pal_atac,\n",
    "    cluster_rows = F, cluster_cols = F, show_rownames = T, gaps_row = sum(glist$avg_weight <\n",
    "        0))"
   ]
  },
  {
   "cell_type": "code",
   "execution_count": 15,
   "id": "cleared-michigan",
   "metadata": {},
   "outputs": [
    {
     "data": {
      "text/html": [
       "<strong>pdf:</strong> 2"
      ],
      "text/latex": [
       "\\textbf{pdf:} 2"
      ],
      "text/markdown": [
       "**pdf:** 2"
      ],
      "text/plain": [
       "pdf \n",
       "  2 "
      ]
     },
     "metadata": {},
     "output_type": "display_data"
    }
   ],
   "source": [
    "svglite('fig7b.svg',width = 10,height = 5)\n",
    "print(p)\n",
    "dev.off()"
   ]
  },
  {
   "cell_type": "code",
   "execution_count": 12,
   "id": "explicit-basement",
   "metadata": {},
   "outputs": [
    {
     "data": {
      "text/plain": [
       "R version 4.0.3 (2020-10-10)\n",
       "Platform: x86_64-apple-darwin13.4.0 (64-bit)\n",
       "Running under: macOS Catalina 10.15.7\n",
       "\n",
       "Matrix products: default\n",
       "BLAS/LAPACK: /Users/fcheng/opt/miniconda3/envs/r4-base/lib/libopenblasp-r0.3.12.dylib\n",
       "\n",
       "locale:\n",
       "[1] en_US.UTF-8/en_US.UTF-8/en_US.UTF-8/C/en_US.UTF-8/en_US.UTF-8\n",
       "\n",
       "attached base packages:\n",
       "[1] grid      stats     graphics  grDevices utils     datasets  methods  \n",
       "[8] base     \n",
       "\n",
       "other attached packages:\n",
       " [1] ComplexHeatmap_2.6.2 RColorBrewer_1.1-2   data.table_1.14.0   \n",
       " [4] forcats_0.5.1        stringr_1.4.0        dplyr_1.0.7         \n",
       " [7] purrr_0.3.4          readr_1.4.0          tidyr_1.1.3         \n",
       "[10] tibble_3.1.0         ggplot2_3.3.3        tidyverse_1.3.1     \n",
       "[13] pheatmap_1.0.12      jsonlite_1.7.2       formatR_1.7         \n",
       "\n",
       "loaded via a namespace (and not attached):\n",
       " [1] httr_1.4.2          modelr_0.1.8        assertthat_0.2.1   \n",
       " [4] stats4_4.0.3        cellranger_1.1.0    pillar_1.6.1       \n",
       " [7] backports_1.2.1     glue_1.4.2          uuid_0.1-4         \n",
       "[10] digest_0.6.27       rvest_1.0.0         colorspace_2.0-0   \n",
       "[13] htmltools_0.5.1.1   pkgconfig_2.0.3     GetoptLong_1.0.5   \n",
       "[16] broom_0.7.7         haven_2.4.1         scales_1.1.1       \n",
       "[19] generics_0.1.0      farver_2.1.0        IRanges_2.24.1     \n",
       "[22] ellipsis_0.3.2      withr_2.4.1         repr_1.1.3         \n",
       "[25] BiocGenerics_0.36.0 cli_2.5.0           magrittr_2.0.1     \n",
       "[28] crayon_1.4.1        readxl_1.3.1        evaluate_0.14      \n",
       "[31] ps_1.6.0            fs_1.5.0            fansi_0.4.2        \n",
       "[34] xml2_1.3.2          Cairo_1.5-12.2      tools_4.0.3        \n",
       "[37] hms_1.1.0           GlobalOptions_0.1.2 lifecycle_1.0.0    \n",
       "[40] matrixStats_0.58.0  S4Vectors_0.28.1    munsell_0.5.0      \n",
       "[43] reprex_2.0.0        cluster_2.1.1       compiler_4.0.3     \n",
       "[46] rlang_0.4.10        pbdZMQ_0.3-5        IRkernel_1.2       \n",
       "[49] rstudioapi_0.13     circlize_0.4.12     rjson_0.2.20       \n",
       "[52] base64enc_0.1-3     labeling_0.4.2      gtable_0.3.0       \n",
       "[55] DBI_1.1.1           R6_2.5.0            lubridate_1.7.10   \n",
       "[58] utf8_1.2.1          clue_0.3-58         shape_1.4.5        \n",
       "[61] stringi_1.6.2       parallel_4.0.3      IRdisplay_1.0      \n",
       "[64] Rcpp_1.0.6          vctrs_0.3.8         png_0.1-7          \n",
       "[67] dbplyr_2.1.1        tidyselect_1.1.1   "
      ]
     },
     "metadata": {},
     "output_type": "display_data"
    }
   ],
   "source": [
    "sessionInfo()"
   ]
  },
  {
   "cell_type": "code",
   "execution_count": null,
   "id": "starting-grenada",
   "metadata": {},
   "outputs": [],
   "source": []
  }
 ],
 "metadata": {
  "kernelspec": {
   "display_name": "R",
   "language": "R",
   "name": "ir"
  },
  "language_info": {
   "codemirror_mode": "r",
   "file_extension": ".r",
   "mimetype": "text/x-r-source",
   "name": "R",
   "pygments_lexer": "r",
   "version": "4.0.3"
  },
  "toc": {
   "base_numbering": 1,
   "nav_menu": {
    "height": "50px",
    "width": "177px"
   },
   "number_sections": true,
   "sideBar": true,
   "skip_h1_title": false,
   "title_cell": "Table of Contents",
   "title_sidebar": "Contents",
   "toc_cell": false,
   "toc_position": {},
   "toc_section_display": true,
   "toc_window_display": false
  }
 },
 "nbformat": 4,
 "nbformat_minor": 5
}
